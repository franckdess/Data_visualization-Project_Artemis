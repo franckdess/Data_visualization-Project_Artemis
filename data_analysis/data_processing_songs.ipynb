{
 "cells": [
  {
   "cell_type": "code",
   "execution_count": null,
   "metadata": {
    "collapsed": true
   },
   "outputs": [],
   "source": [
    "import os\n",
    "import time\n",
    "import requests \n",
    "import numpy as np\n",
    "import pandas as pd\n",
    "import lyricsgenius\n",
    "\n",
    "from ssl import *\n",
    "from selenium import *\n",
    "from PyLyrics import *\n",
    "from lyricwikia import *\n",
    "from bs4 import BeautifulSoup\n",
    "from selenium import webdriver\n",
    "from youtube_search import YoutubeSearch\n",
    "from selenium.common.exceptions import NoSuchElementException, InvalidArgumentException\n",
    "\n",
    "genius = lyricsgenius.Genius(\"ZsnGoTworxfA9binAE4P5enmkpu5MMOnW9FcNsYtPfl2EjFm2cskLNsuH_sv2wrf\")\n",
    "genius.verbose = False\n",
    "genius.remove_section_headers = True\n",
    "genius.skip_non_songs = False\n",
    "genius.excluded_terms = [\"(Remix)\", \"(Live)\"]\n",
    "genius.timeout = 10\n",
    "\n",
    "headers_Get = {'User-Agent': 'Mozilla/5.0 (Windows NT 6.1; WOW64; rv:49.0) Gecko/20100101 Firefox/49.0',\n",
    "               'Accept': 'text/html,application/xhtml+xml,application/xml;q=0.9,*/*;q=0.8',\n",
    "               'Accept-Language': 'en-US,en;q=0.5', 'Accept-Encoding': 'gzip, deflate', 'DNT': '1',\n",
    "               'Connection': 'keep-alive', 'Upgrade-Insecure-Requests': '1'}"
   ]
  },
  {
   "cell_type": "markdown",
   "metadata": {},
   "source": [
    "# 0. Helper function"
   ]
  },
  {
   "cell_type": "code",
   "execution_count": null,
   "metadata": {
    "collapsed": true
   },
   "outputs": [],
   "source": [
    "def format_string(lyrics):\n",
    "    \"\"\" This function formats the lyrics in the same way as the\n",
    "        lyrics already present in the billboard dataframe. \n",
    "        args:\n",
    "            lyrics: the string that we want to format\n",
    "        return:\n",
    "            the formated lyrics \"\"\"\n",
    "    \n",
    "    return lyrics.lower().replace(\"\\n\", \" \").replace(\"(\", \" \").replace(\")\", \" \").replace(\",\", \"\") \\\n",
    "                         .replace(\"'\", \"\").replace(\"[\", \"\").replace(\"]\", \"\").replace(\":\", \"\") \\\n",
    "                         .replace(\".\", \"\").replace('\"', \"\").replace(\"?\", \"\").replace(\"!\", \"\") \\\n",
    "                         .replace(\"/\", \"\").replace(\"-\", \" \")"
   ]
  },
  {
   "cell_type": "code",
   "execution_count": null,
   "metadata": {
    "collapsed": true
   },
   "outputs": [],
   "source": [
    "def slice_artist(string_to_remove, art):\n",
    "    \"\"\" This function will keep the part of the artist's name that\n",
    "        comes before string_to_remove. It is useful to get rid of\n",
    "        the featuring artists.\"\"\"\n",
    "    artist_tok = art.split(\" \")\n",
    "    if(string_to_remove in artist_tok):\n",
    "        artist = \" \".join(artist_tok[:artist_tok.index(string_to_remove)])\n",
    "        return artist\n",
    "    return art"
   ]
  },
  {
   "cell_type": "code",
   "execution_count": null,
   "metadata": {
    "collapsed": true
   },
   "outputs": [],
   "source": [
    "def get_lyrics_from_txt(df, missing_lyrics_artists, missing_lyrics_songs, manually_extracted=False):\n",
    "    \"\"\" This function reads the txt files, format the lyrics\n",
    "        and add them into the corresponding line in the dataframe.\n",
    "        args:\n",
    "            df: the df for which lyrics are missing\n",
    "            missing_lyrics_artists: the artists for which the lyrics are missing\n",
    "            missing_lyrics_songs: the corresponding songs for which the lyrics are missing\n",
    "            manually_extracted: whether the lyrics have been extracted by hand\n",
    "        returns:\n",
    "            a new dataframe with missing lyrics filled in\"\"\"\n",
    "    \n",
    "    df_res = df.copy()\n",
    "    for i in range(len(missing_lyrics_artists)):\n",
    "        artist = missing_lyrics_artists[i]\n",
    "        song = missing_lyrics_songs[i]\n",
    "        try:\n",
    "            if(manually_extracted):\n",
    "                path = \"datasets/songs/manually_extracted_lyrics/lyrics_{}_{}.txt\".format(artist.replace(\" \", \"_\").replace(\"'\", \"\"),\n",
    "                                                                                          song.replace(\" \", \"_\").replace(\"/\", \"_\"))\n",
    "            else:\n",
    "                path = \"datasets/songs/missing_lyrics/lyrics_{}_{}.txt\".format(artist.replace(\" \", \"_\").replace(\"'\", \"\"),\n",
    "                                                                               song.replace(\" \", \"_\").replace(\"/\", \"_\"))\n",
    "            with open(path, \"r\") as file:\n",
    "                lyrics = file.read()\n",
    "            df_res.loc[((df_res['Artist'] == artist) & (df_res['Song'] == song)), 'Lyrics'] = lyrics\n",
    "        except FileNotFoundError:\n",
    "            pass\n",
    "    return df_res"
   ]
  },
  {
   "cell_type": "code",
   "execution_count": null,
   "metadata": {
    "collapsed": true
   },
   "outputs": [],
   "source": [
    "def google_request(artist, song, feature):\n",
    "    \"\"\" This function query the feature from Google, given\n",
    "        an artist and a song, using the library Beautiful Soup.\n",
    "        args:\n",
    "            artist: the artist for which to query the feature\n",
    "            song: the song for which to query the feature\n",
    "            feature: feature to query\n",
    "        returns: the feature found on Google or None \"\"\"\n",
    "    \n",
    "    s = requests.Session()\n",
    "    q = '+'.join(\"{} {} {}\".format(artist, song, feature).split())\n",
    "    url = 'https://www.google.com/search?q=' + q + '&ie=utf-8&oe=utf-8'\n",
    "    r = s.get(url, headers=headers_Get)\n",
    "    soup = BeautifulSoup(r.text, \"html.parser\")\n",
    "    \n",
    "    res1 = soup.find('div', {'class': 'Z0LcW'})\n",
    "    if(res1 is not None):\n",
    "        return res1.text.strip()\n",
    "    res2 = soup.find('div', {'class': 'title'})\n",
    "    if(res2 is not None):\n",
    "        return res2.text.strip()\n",
    "    res3 = soup.find('div', {'class': 'FLP8od'})\n",
    "    if(res3 is not None):\n",
    "        return res3.text.strip()"
   ]
  },
  {
   "cell_type": "code",
   "execution_count": null,
   "metadata": {
    "collapsed": true
   },
   "outputs": [],
   "source": [
    "def selenium_request(browser, artist, song, feature):\n",
    "    \"\"\" This function query the feature from Google, given\n",
    "        an artist and a song, using the library Selenium.\n",
    "        args:\n",
    "            artist: the artist for which to query the feature\n",
    "            song: the song for which to query the feature\n",
    "            feature: feature to query\n",
    "        returns: the feature found on Google or None \"\"\"\n",
    "    \n",
    "    q = '+'.join(\"{} {} {}\".format(artist, song, feature).split())\n",
    "    url = 'https://www.google.com/search?q=' + q + '&ie=utf-8&oe=utf-8'\n",
    "    \n",
    "    try:\n",
    "        browser.get(url)\n",
    "    except InvalidArgumentException:\n",
    "        return None\n",
    "    try:\n",
    "        res1 = browser.find_element_by_class_name(\"Z0LcW\")\n",
    "        return res1.text\n",
    "    except NoSuchElementException:\n",
    "        try:\n",
    "            res2 = browser.find_element_by_class_name(\"title\")\n",
    "            return res2.text\n",
    "        except NoSuchElementException:\n",
    "            try:\n",
    "                res3 = browser.find_element_by_class_name(\"FLP8od\")\n",
    "                return res3.text\n",
    "            except NoSuchElementException:\n",
    "                return None"
   ]
  },
  {
   "cell_type": "code",
   "execution_count": null,
   "metadata": {
    "collapsed": true
   },
   "outputs": [],
   "source": [
    "def request(method, artist, song, feature):\n",
    "    \"\"\" This function performs a request depending on the method\n",
    "    args: \n",
    "        method: method for the query, can be 'bs4' or 'selenium'\n",
    "        artist: the artist for which to query the feature\n",
    "        song: the song for which to query the feature\n",
    "        feature: the feature to query\n",
    "    returns: \n",
    "        the result of the query \"\"\"\n",
    "    if(method == 'selenium'):\n",
    "        browser = webdriver.Safari()\n",
    "        feature_found = selenium_request(browser, artist, song, feature.lower())\n",
    "        browser.close()\n",
    "    elif(method == 'bs4'):\n",
    "        feature_found = google_request(artist, song, feature.lower())\n",
    "    return feature_found"
   ]
  },
  {
   "cell_type": "code",
   "execution_count": null,
   "metadata": {
    "collapsed": true
   },
   "outputs": [],
   "source": [
    "def print_line(i, l, p_l, artist, song, feature_found):\n",
    "    line = \"\\t\\033[92m{}/{}\\t{}, {}:\\t{}\\033[92;m\".format(i+1, l, artist, song, feature_found)\n",
    "    print(line + \" \" * (p_l - len(line)), end=\"\\r\")\n",
    "    return len(line)"
   ]
  },
  {
   "cell_type": "code",
   "execution_count": null,
   "metadata": {
    "collapsed": true
   },
   "outputs": [],
   "source": [
    "def print_line_nf(i, l, p_l, artist, song):\n",
    "    line = \"\\t\\033[91m{}/{}\\t{}, {}\\033[91;m\".format(i+1, l, artist, song)\n",
    "    print(line + \" \" * (p_l - len(line)), end=\"\\r\")\n",
    "    return len(line)"
   ]
  },
  {
   "cell_type": "code",
   "execution_count": null,
   "metadata": {
    "collapsed": true,
    "scrolled": false
   },
   "outputs": [],
   "source": [
    "def get_feature(df, feature, method, allow_artist_search=False):\n",
    "    \"\"\" This function get the missing feature for the given dataframe. It first tries to \n",
    "        search for the missing feature given the artist and the song and if it cannot find\n",
    "        anything, it tries to search for the missing feature given the artist only.\n",
    "        args:\n",
    "            df: the dataframe for which to fill in the missing feature\n",
    "            feature: the feature to search\n",
    "            allow_artist_search: whether it allows to search for a feature given only the artist's name\n",
    "        returns:\n",
    "            a new dataframe with the missing values filled in \"\"\"\n",
    "    \n",
    "    print(\"Getting the {}s from \\033[1mgoogle\\033[1;m using \\033[1m{}\\033[1;m for:\\n\".format(feature, method))\n",
    "    df_res = df.copy()\n",
    "    done = False\n",
    "    while not done:\n",
    "        missing_artists = df_res[df_res[feature].isna()]['Artist'].values\n",
    "        missing_songs = df_res[df_res[feature].isna()]['Song'].values\n",
    "        try:\n",
    "            p_l = 0\n",
    "            for i in range(len(missing_artists)):\n",
    "                artist = missing_artists[i]\n",
    "                song = missing_songs[i]\n",
    "                feature_found = request(method, artist, song, feature)\n",
    "                if feature_found is not None:\n",
    "                    p_l = print_line(i, len(missing_artists), p_l, artist, song, feature_found)\n",
    "                    df_res.loc[(df_res['Artist'] == artist) & (df_res['Song'] == song), feature] = feature_found\n",
    "                elif allow_artist_search:\n",
    "                    # Then we try to search using only the artist\n",
    "                    feature_found = request(method, artist, \"\", feature.lower())\n",
    "                    if feature_found is not None:\n",
    "                        p_l = print_line(i, len(missing_artists), p_l, artist, song, feature_found)\n",
    "                        df_res.loc[(df_res['Artist'] == artist) & (df_res['Song'] == song), 'Genre'] = feature_found\n",
    "                    else:\n",
    "                        p_l = print_line_nf(i, len(missing_artists), p_l, artist, song)\n",
    "                else:\n",
    "                    p_l = print_line_nf(i, len(missing_artists), p_l, artist, song)\n",
    "            done = True\n",
    "            return df_res\n",
    "        except KeyboardInterrupt:\n",
    "            print(\"\\n\\nInterrupted by user.\")\n",
    "            return df_res\n",
    "        except:\n",
    "            print(\"\\n\\nInternal error. Process will restart. Found values won't be lost.\\n\")\n",
    "            continue"
   ]
  },
  {
   "cell_type": "markdown",
   "metadata": {},
   "source": [
    "# 1. Data preprocessing"
   ]
  },
  {
   "cell_type": "markdown",
   "metadata": {},
   "source": [
    "### 1.1 Import the dataset"
   ]
  },
  {
   "cell_type": "markdown",
   "metadata": {},
   "source": [
    "Note that some manual processing has been done on the dataset at the beginning, since for a few entries, there was 2 artists and 2 songs ranked at the same position the same year. This is why we get a dataframe with 5118 entries instead of 5100. Also since we are using libraries that are not 100% accurate, this script has been ran over many iterations and some manually modification have been performed to obtain a clean dataset."
   ]
  },
  {
   "cell_type": "code",
   "execution_count": null,
   "metadata": {},
   "outputs": [],
   "source": [
    "if(os.path.exists(\"datasets/songs/billboard_full.csv\")):\n",
    "    df_billboard = pd.read_csv('datasets/songs/billboard_full.csv', sep=',', index_col=0)\n",
    "else:\n",
    "    df_billboard = pd.read_csv('datasets/songs/billboard_lyrics_1964-2015.csv', sep=';')\n",
    "    # Drop the unnecessary features\n",
    "    df_billboard.drop(['Source'], axis=1, inplace=True)\n",
    "# Keep only the main artist's name\n",
    "df_billboard['Artist'] = df_billboard['Artist'].apply(lambda x: slice_artist(\"featuring\", x))\n",
    "# Replace the empty values by NaN values\n",
    "df_billboard['Lyrics'] = df_billboard['Lyrics'].apply(lambda lyrics: float('nan') if (str(lyrics).isspace()) else lyrics)\n",
    "df_billboard.head(5)"
   ]
  },
  {
   "cell_type": "markdown",
   "metadata": {},
   "source": [
    "### 1.2 Handle NaN values"
   ]
  },
  {
   "cell_type": "markdown",
   "metadata": {},
   "source": [
    "#### 1.2.1 Getting lyrics with lyricsgenius"
   ]
  },
  {
   "cell_type": "markdown",
   "metadata": {},
   "source": [
    "We are going to use the library lyricsgenius to fill in the lyrics. You can find more information [there](https://pypi.org/project/lyricsgenius/). This library will export the lyrics as a .txt file. After that we, open the corresponding files, we format the text for it to match the format of the lyrics that are already in the dataframe and we fill in the missing values in the dataframe."
   ]
  },
  {
   "cell_type": "code",
   "execution_count": null,
   "metadata": {
    "collapsed": true
   },
   "outputs": [],
   "source": [
    "# We display the NaN values\n",
    "df_nan = df_billboard[df_billboard['Lyrics'].isna()]\n",
    "print(\"We have {} entries for which the lyrics are not present.\".format(len(df_nan)))\n",
    "missing_lyrics_artists = df_nan['Artist'].values\n",
    "missing_lyrics_songs = df_nan['Song'].values"
   ]
  },
  {
   "cell_type": "code",
   "execution_count": null,
   "metadata": {
    "collapsed": true,
    "scrolled": false
   },
   "outputs": [],
   "source": [
    "# We get the missing values from the library lyricsgenius\n",
    "print(\"Getting the missing lyrics from \\033[1mlyricsgenius\\033[1;m for:\\n\")\n",
    "done = False\n",
    "while not done:\n",
    "    try:  \n",
    "        if not os.path.exists(\"missing_lyrics\"):\n",
    "            os.makedirs(\"missing_lyrics\")\n",
    "        for i in range(len(missing_lyrics_artists)):\n",
    "            artist = missing_lyrics_artists[i]\n",
    "            song = missing_lyrics_songs[i]\n",
    "            file_name = \"lyrics_{}_{}.txt\".format(artist.replace(\" \", \"_\").replace(\"'\", \"\"),\n",
    "                                                  song.replace(\" \", \"_\").replace(\"/\", \"_\"))\n",
    "            if(not os.path.isfile(\"datasets/songs/missing_lyrics/{}\".format(file_name))):\n",
    "                x = genius.search_song(artist, song)\n",
    "                if x is not None:\n",
    "                    print(\"\\t\\033[92m{}, {}\\033[92;m\".format(artist, song))\n",
    "                    x.save_lyrics(filename=file_name, extension='txt', full_data=False,\n",
    "                                  verbose=False, overwrite=False)\n",
    "                    try:\n",
    "                        os.rename(file_name, \"datasets/songs/missing_lyrics/{}\".format(file_name))\n",
    "                    except FileNotFoundError:\n",
    "                        pass\n",
    "                else:\n",
    "                    print(\"\\t\\033[91m{}, {}\\033[91;m\".format(artist, song))\n",
    "        done = True\n",
    "    except:\n",
    "        print(\"\\nInternal error. Process will restart. Saved files won't be lost.\\n\")\n",
    "        continue   \n",
    "print(\"\\nDone\")"
   ]
  },
  {
   "cell_type": "markdown",
   "metadata": {},
   "source": [
    "#### 1.2.2 Getting lyrics with lyricwikia"
   ]
  },
  {
   "cell_type": "markdown",
   "metadata": {},
   "source": [
    "For the remaining missing lyrics, we try with another library called lyricwikia. More information about this library can be found [here](https://pypi.org/project/lyricwikia/)."
   ]
  },
  {
   "cell_type": "code",
   "execution_count": null,
   "metadata": {
    "collapsed": true
   },
   "outputs": [],
   "source": [
    "# We fill in the missing values\n",
    "df_billboard = get_lyrics_from_txt(df_billboard, missing_lyrics_artists, missing_lyrics_songs)\n",
    "# We display the NaN values\n",
    "df_nan = df_billboard[df_billboard['Lyrics'].isna()]\n",
    "print(\"We have {} entries for which the lyrics are not present.\".format(len(df_nan)))\n",
    "missing_lyrics_artists = df_nan['Artist'].values\n",
    "missing_lyrics_songs = df_nan['Song'].values"
   ]
  },
  {
   "cell_type": "code",
   "execution_count": null,
   "metadata": {
    "collapsed": true,
    "scrolled": false
   },
   "outputs": [],
   "source": [
    "# We get the missing values from the library lyricwikia\n",
    "print(\"Getting the missing lyrics from \\033[1mlyricwikia\\033[1;m for:\\n\")\n",
    "for i in range(len(missing_lyrics_artists)):\n",
    "    artist = missing_lyrics_artists[i]\n",
    "    song = missing_lyrics_songs[i]\n",
    "    try:    \n",
    "        lyrics = get_lyrics(artist, song)\n",
    "        print(\"\\t\\033[92m{}, {}\\033[92;m\".format(artist, song))\n",
    "        file_name = \"lyrics_{}_{}.txt\".format(artist.replace(\" \", \"_\").replace(\"'\", \"\"),\n",
    "                                              song.replace(\" \", \"_\").replace(\"/\", \"_\"))\n",
    "        with open(file_name, \"w\") as file:\n",
    "            file.write(lyrics)\n",
    "            file.close()\n",
    "        os.rename(file_name, \"datasets/songs/missing_lyrics/{}\".format(file_name))\n",
    "    except LyricsNotFound:\n",
    "        print(\"\\t\\033[91m{}, {}\\033[91;m\".format(artist, song))\n",
    "        pass\n",
    "print(\"\\nDone\")"
   ]
  },
  {
   "cell_type": "markdown",
   "metadata": {},
   "source": [
    "#### 1.2.3 Getting lyrics by hand"
   ]
  },
  {
   "cell_type": "markdown",
   "metadata": {},
   "source": [
    "For the remaining missing lyrics, we need to fill them in by hand, which is not very hard since most of them are instrumental."
   ]
  },
  {
   "cell_type": "code",
   "execution_count": null,
   "metadata": {
    "collapsed": true
   },
   "outputs": [],
   "source": [
    "# We fill in the missing values\n",
    "df_billboard = get_lyrics_from_txt(df_billboard, missing_lyrics_artists, missing_lyrics_songs)\n",
    "# We display the NaN values\n",
    "df_nan = df_billboard[df_billboard['Lyrics'].isna()]\n",
    "print(\"We have {} entries for which the lyrics are not present.\".format(len(df_nan)))\n",
    "missing_lyrics_artists = df_nan['Artist'].values\n",
    "missing_lyrics_songs = df_nan['Song'].values"
   ]
  },
  {
   "cell_type": "code",
   "execution_count": null,
   "metadata": {
    "collapsed": true
   },
   "outputs": [],
   "source": [
    "# Here we create the empty files for the lyrics to be filled in by hand\n",
    "for i in range(len(missing_lyrics_artists)):\n",
    "    artist = missing_lyrics_artists[i]\n",
    "    song = missing_lyrics_songs[i]\n",
    "    path = \"datasets/songs/manually_extracted_lyrics/lyrics_{}_{}.txt\".format(artist.replace(\" \", \"_\").replace(\"'\", \"\"),\n",
    "                                                                              song.replace(\" \", \"_\").replace(\"/\", \"_\"))\n",
    "    if(not os.path.isfile(path)):\n",
    "        with open(path, \"w\") as file:\n",
    "            pass"
   ]
  },
  {
   "cell_type": "code",
   "execution_count": null,
   "metadata": {
    "collapsed": true
   },
   "outputs": [],
   "source": [
    "# We fill in the missing values\n",
    "df_billboard = get_lyrics_from_txt(df_billboard, missing_lyrics_artists, missing_lyrics_songs, manually_extracted=True)\n",
    "# We display the NaN values\n",
    "df_nan = df_billboard[df_billboard['Lyrics'].isna()]\n",
    "print(\"We have {} entries for which the lyrics are not present.\".format(len(df_nan)))"
   ]
  },
  {
   "cell_type": "markdown",
   "metadata": {},
   "source": [
    "### 1.3 Add genre feature"
   ]
  },
  {
   "cell_type": "markdown",
   "metadata": {},
   "source": [
    "#### 1.3.1 Using web scrapping from Google"
   ]
  },
  {
   "cell_type": "code",
   "execution_count": null,
   "metadata": {
    "collapsed": true
   },
   "outputs": [],
   "source": [
    "if(not 'Genre' in df_billboard.columns):\n",
    "    df_billboard['Genre'] = float(np.nan)"
   ]
  },
  {
   "cell_type": "code",
   "execution_count": null,
   "metadata": {
    "collapsed": true
   },
   "outputs": [],
   "source": [
    "# We get the missing values for Genre using Beautiful Soup\n",
    "df_billboard = get_feature(df_billboard, \"Genre\", \"bs4\", allow_artist_search=True)"
   ]
  },
  {
   "cell_type": "code",
   "execution_count": null,
   "metadata": {
    "collapsed": true
   },
   "outputs": [],
   "source": [
    "# We get the missing values for Genre using Selenium\n",
    "df_billboard = get_feature(df_billboard, \"Genre\", \"selenium\", allow_artist_search=True)"
   ]
  },
  {
   "cell_type": "code",
   "execution_count": null,
   "metadata": {
    "collapsed": true
   },
   "outputs": [],
   "source": [
    "# We display the NaN values\n",
    "df_genre_nan = df_billboard[df_billboard['Genre'].isna()]\n",
    "print(\"We have {} entries for which the genre is not present.\".format(len(df_genre_nan)))"
   ]
  },
  {
   "cell_type": "markdown",
   "metadata": {},
   "source": [
    "#### For the remaining genres, we query them by hand"
   ]
  },
  {
   "cell_type": "code",
   "execution_count": null,
   "metadata": {
    "collapsed": true
   },
   "outputs": [],
   "source": [
    "df_missing_genres = pd.read_csv(\"datasets/songs/missing_genres/missing_genres.csv\",\n",
    "                                sep=';', index_col=0)\n",
    "for i, row in df_genre_nan.iterrows():\n",
    "    artist = row['Artist']\n",
    "    song = row['Song']\n",
    "    genre = df_missing_genres[(df_missing_genres['Artist'] == artist) &\n",
    "                              (df_missing_genres['Song'] == song)]['Genre'].values\n",
    "    df_billboard.loc[(df_billboard['Artist'] == artist) & (df_billboard['Song'] == song), 'Genre'] = genre"
   ]
  },
  {
   "cell_type": "code",
   "execution_count": null,
   "metadata": {
    "collapsed": true
   },
   "outputs": [],
   "source": [
    "# We display the NaN values\n",
    "df_genre_nan = df_billboard[df_billboard['Genre'].isna()]\n",
    "print(\"We have {} entries for which the genre is not present.\".format(len(df_genre_nan)))"
   ]
  },
  {
   "cell_type": "code",
   "execution_count": null,
   "metadata": {
    "collapsed": true,
    "scrolled": true
   },
   "outputs": [],
   "source": [
    "df_billboard['Genre'] = df_billboard['Genre'].apply(lambda genre: genre.lower().replace(\"-\", \" \").replace(\"/\", \" \"))\n",
    "df_billboard['Genre'] = df_billboard['Genre'].apply(lambda genre: genre.replace(\"zeitgenössischer\", \"contemporary\"))\n",
    "df_billboard['Genre'] = df_billboard['Genre'].apply(lambda genre: genre.replace(\"klassischer\", \"classic\"))\n",
    "df_billboard['Genre'] = df_billboard['Genre'].apply(lambda genre: genre.replace(\"rnb \", \"r&b\"))\n",
    "map_genre = {\"country musik\": \"country\",\n",
    "             \"klassische musik\": \"classic music\",\n",
    "             \"elektropop\": \"electro\",\n",
    "             \"christliche musicgospel\": \"gospel\",\n",
    "             \"elektronische tanzmusik\": \"electro\",\n",
    "             \"elektronische popmusik\": \"electro\",\n",
    "             \"urban adult contemporary\": \"adult contemporary\",\n",
    "             \"rock ’n’ roll\": \"rock\",\n",
    "             \"progressive rock artrock\": \"rock\",\n",
    "             \"untergrund rap\": \"undergrund rap\",\n",
    "             \"rock aus spanien\": \"rock\",\n",
    "             \"midwest rap\": \"rap\",\n",
    "             \"southern rock\": \"rock\",\n",
    "             \"musik\": \"music\",\n",
    "             \"christliche popmusik\": \"pop\",\n",
    "             \"indie folk indie pop rock\": \"indie folk\",\n",
    "             \"arena rock\": \"rock\",\n",
    "             \"dance électronique\": \"electro\",\n",
    "             \"dirty rap\": \"rap\",\n",
    "             \"popfolk\": \"pop\",\n",
    "             \"euro disco\": \"disco\",\n",
    "             \"eastcoast hip hop\": \"hip hop\",\n",
    "             \"westcoast hip hop\": \"hip hop\",\n",
    "             \"kindermusik\": \"children music\", \n",
    "             \"synthiepop\": \"pop\",\n",
    "             \"traditionelle popmusik\": \"pop\",\n",
    "             \"bcontemporain\": \"r&b\",\n",
    "             \"beatmusik\": \"beat music\",\n",
    "             \"moderne country\": \"country\",\n",
    "             \"phillysound\": \"philadelphia soul\",\n",
    "             \"filmmusik\": \"soundtrack\",\n",
    "             \"rockabilly\": \"rock\",\n",
    "             \"volksmusik\": \"folk\",\n",
    "             \"dutch house\": \"house\",\n",
    "             \"my whole world ended (the moment you left me)\": \"r&b soul\",\n",
    "             \"actionfilm\": \"soundtrack\",\n",
    "             \"artrock\": \"rock\",\n",
    "             \"vokal jazz\": \"jazz\",\n",
    "             \"elton john\": \"rock\",\n",
    "             \"young, wild & free\": \"pop rap\",\n",
    "             \"jazzfunk\": \"jazz funk\",\n",
    "             \"electronica\": \"electro\",\n",
    "             \"hip house\": \"house\",\n",
    "             \"liebesfilm\": \"soundtrack\",\n",
    "             \"deep house\": \"house\",\n",
    "             \"regionale mexikanische musik\": \"regional mexican music\",\n",
    "             \"country music\": \"country\",\n",
    "             \"rootsmusik\": \"roots\",\n",
    "             \"musicder romantik\": \"romantic\",\n",
    "             \"early morning love\": \"r&b\",\n",
    "             \"tanzmusik\": \"dance\",\n",
    "             \"italo disco\": \"disco\",\n",
    "             \"saisonale musik\": \"season music\",\n",
    "             \"rockmusik\": \"rock\",\n",
    "             \"christliche musik gospel\": \"gospel\"}\n",
    "df_billboard['Genre'] = df_billboard['Genre'].apply(lambda genre: map_genre[genre] if genre in map_genre.keys() else genre)"
   ]
  },
  {
   "cell_type": "markdown",
   "metadata": {},
   "source": [
    "### 1.4 Add album feature"
   ]
  },
  {
   "cell_type": "markdown",
   "metadata": {},
   "source": [
    "#### 1.4.1 Using web scrapping from Google"
   ]
  },
  {
   "cell_type": "code",
   "execution_count": null,
   "metadata": {
    "collapsed": true
   },
   "outputs": [],
   "source": [
    "if(not 'Album' in df_billboard.columns):\n",
    "    df_billboard['Album'] = float(np.nan)"
   ]
  },
  {
   "cell_type": "code",
   "execution_count": null,
   "metadata": {
    "collapsed": true
   },
   "outputs": [],
   "source": [
    "# We get the missing values for Album\n",
    "df_billboard = get_feature(df_billboard, \"Album\", \"bs4\")"
   ]
  },
  {
   "cell_type": "code",
   "execution_count": null,
   "metadata": {
    "collapsed": true
   },
   "outputs": [],
   "source": [
    "# We get the missing values for Genre\n",
    "df_billboard = get_feature(df_billboard, \"Album\", \"selenium\")"
   ]
  },
  {
   "cell_type": "code",
   "execution_count": null,
   "metadata": {
    "collapsed": true
   },
   "outputs": [],
   "source": [
    "# We display the NaN values\n",
    "df_album_nan = df_billboard[df_billboard['Album'].isna()]\n",
    "print(\"We have {} entries for which the album is not present.\".format(len(df_album_nan)))"
   ]
  },
  {
   "cell_type": "markdown",
   "metadata": {},
   "source": [
    "For all the remainings missing albums, we will simply use the title of the song."
   ]
  },
  {
   "cell_type": "code",
   "execution_count": null,
   "metadata": {
    "collapsed": true
   },
   "outputs": [],
   "source": [
    "for i, row in df_album_nan.iterrows():\n",
    "    artist = row['Artist']\n",
    "    song = row['Song']\n",
    "    df_billboard.loc[(df_billboard['Artist'] == artist) & (df_billboard['Song'] == song), 'Album'] = song"
   ]
  },
  {
   "cell_type": "code",
   "execution_count": null,
   "metadata": {
    "collapsed": true
   },
   "outputs": [],
   "source": [
    "# We display the NaN values\n",
    "df_album_nan = df_billboard[df_billboard['Album'].isna()]\n",
    "print(\"We have {} entries for which the album is not present.\".format(len(df_album_nan)))"
   ]
  },
  {
   "cell_type": "markdown",
   "metadata": {},
   "source": [
    "### 1.5 Add Youtube video link"
   ]
  },
  {
   "cell_type": "code",
   "execution_count": null,
   "metadata": {
    "collapsed": true
   },
   "outputs": [],
   "source": [
    "if(not 'Youtube' in df_billboard.columns):\n",
    "    df_billboard['Youtube'] = float(np.nan)"
   ]
  },
  {
   "cell_type": "code",
   "execution_count": null,
   "metadata": {
    "collapsed": true
   },
   "outputs": [],
   "source": [
    "youtube_nan = df_billboard[df_billboard['Youtube'].isna()]\n",
    "done = False\n",
    "while not done:\n",
    "    for i, row in youtube_nan.iterrows():\n",
    "        try:\n",
    "            print(\"{}/{}\".format(i, len(youtube_nan)), end='\\r')\n",
    "            artist = row['Artist']\n",
    "            song = row['Song']\n",
    "            results = YoutubeSearch('{} {}'.format(artist, song), max_results=1)\n",
    "            if(len(results.videos) > 0):\n",
    "                url = \"https://www.youtube.com\" + results.videos[0]['link']\n",
    "                df_billboard.loc[(df_billboard['Artist'] == artist) & (df_billboard['Song'] == song), 'Youtube'] = url\n",
    "        except KeyboardInterrupt:\n",
    "            done = True\n",
    "            break\n",
    "        except:\n",
    "            continue\n",
    "    done = True"
   ]
  },
  {
   "cell_type": "code",
   "execution_count": null,
   "metadata": {
    "collapsed": true
   },
   "outputs": [],
   "source": [
    "youtube_nan = df_billboard[df_billboard['Youtube'].isna()]\n",
    "print(\"We have {} entries for which the Youtube link is not present.\".format(len(youtube_nan)))"
   ]
  },
  {
   "cell_type": "markdown",
   "metadata": {},
   "source": [
    "We will save the dataframe and fill in the missing values by hand."
   ]
  },
  {
   "cell_type": "markdown",
   "metadata": {},
   "source": [
    "### 1.6 Save the dataframe"
   ]
  },
  {
   "cell_type": "code",
   "execution_count": null,
   "metadata": {
    "collapsed": true
   },
   "outputs": [],
   "source": [
    "# We save the dataframe\n",
    "df_billboard.to_csv(\"datasets/songs/billboard_full.csv\", sep=\",\")"
   ]
  }
 ],
 "metadata": {
  "kernelspec": {
   "display_name": "Python 3",
   "language": "python",
   "name": "python3"
  },
  "language_info": {
   "codemirror_mode": {
    "name": "ipython",
    "version": 3
   },
   "file_extension": ".py",
   "mimetype": "text/x-python",
   "name": "python",
   "nbconvert_exporter": "python",
   "pygments_lexer": "ipython3",
   "version": "3.6.8"
  }
 },
 "nbformat": 4,
 "nbformat_minor": 2
}
