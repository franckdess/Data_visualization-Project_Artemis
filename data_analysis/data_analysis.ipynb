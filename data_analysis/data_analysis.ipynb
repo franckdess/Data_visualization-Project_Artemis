{
 "cells": [
  {
   "cell_type": "markdown",
   "metadata": {},
   "source": [
    "## Dataset Description "
   ]
  },
  {
   "cell_type": "markdown",
   "metadata": {},
   "source": [
    "Billboard has published a Year-End Hot 100 every December since 1958. The chart measures the performance of singles in the U.S. throughout the year. Using R, I’ve combined the lyrics from 50 years of Billboard Year-End Hot 100 (1965-2015) into one dataset for analysis. You can download that dataset here.\n",
    "\n",
    "The songs used for analysis were scraped from Wikipedia’s entry for each Billboard Year-End Hot 100 Songs (e.g., 2014). This is the year-end chart, not weekly rankings. Many artists have made the weekly chart but not the final year end chart. The final chart is calculated using an inverse point system based on the weekly Billboard charts (100 points for a week at number one, 1 point for a week at number 100, etc).\n",
    "\n",
    "I used the xml and RCurl packages to scrape song and artist names from each Wikipedia entry. I then used that list to scrape lyrics from sites that had predictable URL strings (for example, metrolyrics.com uses metrolyrics.com/SONG-NAME-lyrics-ARTIST-NAME.html). If the first site scrape failed, I moved onto the second, and so on. About 78.9% of the lyrics were scraped from metrolyics.com, 15.7% from songlyrics.com, 1.8% from lyricsmode.com. About 3.6% (187/5100) were unavailable.\n",
    "\n",
    "The dataset features 5100 observations with the features rank (1-100), song, artist, year, lyrics, and source. The artist feature is fairly standardized thanks to Wikipedia, but there is still quite a bit of noise when it comes to artist collaborations (Justin Timberlake featuring Timbaland, for example). If there were any errors in the lyrics that were scraped, such as spelling errors or derivatives like \"nite\" instead of \"night,\" they haven't been corrected.\n",
    "\n",
    "The above mentionned description comes from https://github.com/walkerkq/musiclyrics."
   ]
  },
  {
   "cell_type": "code",
   "execution_count": 96,
   "metadata": {},
   "outputs": [],
   "source": [
    "%matplotlib inline\n",
    "\n",
    "import pickle\n",
    "import random\n",
    "import matplotlib\n",
    "import numpy as np\n",
    "import pandas as pd\n",
    "from matplotlib import cm\n",
    "import matplotlib.pyplot as plt\n",
    "from sklearn.preprocessing import normalize\n",
    "from sklearn.feature_extraction.text import CountVectorizer\n",
    "from sklearn.decomposition import LatentDirichletAllocation as LDA"
   ]
  },
  {
   "cell_type": "code",
   "execution_count": 131,
   "metadata": {},
   "outputs": [],
   "source": [
    "save_figures = False\n",
    "fig_size = (18, 10) if save_figures else (12, 8)\n",
    "font_size = 24 if save_figures else 16\n",
    "graph_color = \"white\" if save_figures else \"black\"\n",
    "\n",
    "def set_axis_color(ax, graph_color):\n",
    "    ax.xaxis.label.set_color(graph_color)\n",
    "    ax.tick_params(axis='x', colors=graph_color)\n",
    "    ax.yaxis.label.set_color(graph_color)\n",
    "    ax.tick_params(axis='y', colors=graph_color)\n",
    "    ax.spines['bottom'].set_color(graph_color)\n",
    "    ax.spines['top'].set_color(graph_color)\n",
    "    ax.spines['left'].set_color(graph_color)\n",
    "    ax.spines['right'].set_color(graph_color)"
   ]
  },
  {
   "cell_type": "markdown",
   "metadata": {},
   "source": [
    "# Data analysis"
   ]
  },
  {
   "cell_type": "markdown",
   "metadata": {},
   "source": [
    "### Lyrics Top-100 dataset"
   ]
  },
  {
   "cell_type": "code",
   "execution_count": 98,
   "metadata": {},
   "outputs": [
    {
     "name": "stdout",
     "output_type": "stream",
     "text": [
      "Dataframe contains 2116 unique artists.\n"
     ]
    },
    {
     "data": {
      "text/html": [
       "<div>\n",
       "<style scoped>\n",
       "    .dataframe tbody tr th:only-of-type {\n",
       "        vertical-align: middle;\n",
       "    }\n",
       "\n",
       "    .dataframe tbody tr th {\n",
       "        vertical-align: top;\n",
       "    }\n",
       "\n",
       "    .dataframe thead th {\n",
       "        text-align: right;\n",
       "    }\n",
       "</style>\n",
       "<table border=\"1\" class=\"dataframe\">\n",
       "  <thead>\n",
       "    <tr style=\"text-align: right;\">\n",
       "      <th></th>\n",
       "      <th>Unnamed: 0.1</th>\n",
       "      <th>Rank</th>\n",
       "      <th>Song</th>\n",
       "      <th>Artist</th>\n",
       "      <th>Year</th>\n",
       "      <th>Lyrics</th>\n",
       "      <th>Genre</th>\n",
       "      <th>Album</th>\n",
       "      <th>Youtube</th>\n",
       "      <th>Entities</th>\n",
       "      <th>word_count</th>\n",
       "      <th>Entities_more</th>\n",
       "    </tr>\n",
       "  </thead>\n",
       "  <tbody>\n",
       "    <tr>\n",
       "      <th>0</th>\n",
       "      <td>0</td>\n",
       "      <td>1</td>\n",
       "      <td>wooly bully</td>\n",
       "      <td>sam the sham and the pharaohs</td>\n",
       "      <td>1965</td>\n",
       "      <td>Uno, dos One, two, tres, quatro Matty told Hat...</td>\n",
       "      <td>rock</td>\n",
       "      <td>wooly bully</td>\n",
       "      <td>https://www.youtube.com/watch?v=uE_MpQhgtQ8</td>\n",
       "      <td>[(tres, GPE), (Matty, PERSON), (Hatty, PERSON)...</td>\n",
       "      <td>87</td>\n",
       "      <td>[(tres, GPE, 19, 23), (Matty, PERSON, 32, 37),...</td>\n",
       "    </tr>\n",
       "    <tr>\n",
       "      <th>1</th>\n",
       "      <td>1</td>\n",
       "      <td>2</td>\n",
       "      <td>i cant help myself sugar pie honey bunch</td>\n",
       "      <td>four tops</td>\n",
       "      <td>1965</td>\n",
       "      <td>Uuh Sugar pie, honey bunch You know that I lov...</td>\n",
       "      <td>r&amp;b soul</td>\n",
       "      <td>greatest hits in concert</td>\n",
       "      <td>https://www.youtube.com/watch?v=s3bksUSPB4c</td>\n",
       "      <td>[(Love, WORK_OF_ART)]</td>\n",
       "      <td>271</td>\n",
       "      <td>[(Love, WORK_OF_ART, 1201, 1205)]</td>\n",
       "    </tr>\n",
       "  </tbody>\n",
       "</table>\n",
       "</div>"
      ],
      "text/plain": [
       "   Unnamed: 0.1  Rank                                      Song  \\\n",
       "0             0     1                               wooly bully   \n",
       "1             1     2  i cant help myself sugar pie honey bunch   \n",
       "\n",
       "                          Artist  Year  \\\n",
       "0  sam the sham and the pharaohs  1965   \n",
       "1                      four tops  1965   \n",
       "\n",
       "                                              Lyrics     Genre  \\\n",
       "0  Uno, dos One, two, tres, quatro Matty told Hat...      rock   \n",
       "1  Uuh Sugar pie, honey bunch You know that I lov...  r&b soul   \n",
       "\n",
       "                      Album                                      Youtube  \\\n",
       "0               wooly bully  https://www.youtube.com/watch?v=uE_MpQhgtQ8   \n",
       "1  greatest hits in concert  https://www.youtube.com/watch?v=s3bksUSPB4c   \n",
       "\n",
       "                                            Entities  word_count  \\\n",
       "0  [(tres, GPE), (Matty, PERSON), (Hatty, PERSON)...          87   \n",
       "1                              [(Love, WORK_OF_ART)]         271   \n",
       "\n",
       "                                       Entities_more  \n",
       "0  [(tres, GPE, 19, 23), (Matty, PERSON, 32, 37),...  \n",
       "1                  [(Love, WORK_OF_ART, 1201, 1205)]  "
      ]
     },
     "execution_count": 98,
     "metadata": {},
     "output_type": "execute_result"
    }
   ],
   "source": [
    "data_file = \"datasets/songs/billboard_full.csv\"\n",
    "df_songs = pd.read_csv(data_file, index_col=0, header=0, sep=\",\")\n",
    "df_songs[\"Lyrics\"] = df_songs[\"Lyrics\"].apply(lambda x: x.replace(\"\\n\", \" \"))\n",
    "print(\"Dataframe contains {} unique artists.\".format(len(df_songs[\"Artist\"].unique())))\n",
    "df.head(2)"
   ]
  },
  {
   "cell_type": "markdown",
   "metadata": {},
   "source": [
    "### Number of years in Top 100 per Song"
   ]
  },
  {
   "cell_type": "code",
   "execution_count": 99,
   "metadata": {},
   "outputs": [
    {
     "data": {
      "image/png": "[encoded data removed]",
      "text/plain": [
       "<Figure size 864x576 with 1 Axes>"
      ]
     },
     "metadata": {
      "needs_background": "light"
     },
     "output_type": "display_data"
    }
   ],
   "source": [
    "df_count = df_songs.groupby([\"Artist\", \"Song\"])[\"Year\"].agg(list).to_frame()\n",
    "df_count[\"Count\"] = df_count.Year.apply(len)\n",
    "df_count = df_count.sort_values(\"Count\", ascending = False)\n",
    "df_count = df_count[df_count[\"Count\"] == 2].groupby(\"Artist\").agg(list)\n",
    "df_count[\"total\"] = df_count[\"Count\"].map(lambda x: len(x))\n",
    "df_count = df_count[df_count[\"total\"] >=2]\n",
    "df_count = df_count.sort_values(by=[\"total\"], ascending=False)\n",
    "\n",
    "# Labels\n",
    "labels = list(map(lambda x: \" \".join(list(map(lambda y: y.capitalize(), x.split(\" \")))), df_count.index))\n",
    "\n",
    "# Colors\n",
    "cmap = cm.get_cmap('Oranges_r')\n",
    "colors = cmap(np.linspace(0.3, 0.9, len(df_count)))\n",
    "\n",
    "# Title\n",
    "title = \"Artists with the most songs appearing more than 1 time in the Top-100\"\n",
    "\n",
    "# Plot\n",
    "fig = plt.figure(figsize=fig_size)\n",
    "ax = fig.add_subplot(111)\n",
    "plt.bar(labels, height=df_count[\"total\"], color=colors, zorder=10)\n",
    "plt.xticks(labels, rotation='vertical')\n",
    "plt.yticks([0, 1, 2, 3, 4])\n",
    "plt.title(title, color=graph_color, fontsize=font_size)\n",
    "plt.grid(zorder=0, alpha=0.5)\n",
    "plt.subplots_adjust(bottom=0.18)\n",
    "\n",
    "# Axis color\n",
    "set_axis_color(ax, graph_color)\n",
    "\n",
    "# Save figure\n",
    "if save_figures:\n",
    "    plt.savefig('../images/data_analysis/{}.png'.format(title), dpi=300, transparent=True)\n",
    "plt.show()"
   ]
  },
  {
   "cell_type": "markdown",
   "metadata": {},
   "source": [
    "### Genre"
   ]
  },
  {
   "cell_type": "code",
   "execution_count": 100,
   "metadata": {},
   "outputs": [
    {
     "data": {
      "image/png": "[encoded data removed]",
      "text/plain": [
       "<Figure size 864x576 with 1 Axes>"
      ]
     },
     "metadata": {
      "needs_background": "light"
     },
     "output_type": "display_data"
    }
   ],
   "source": [
    "vc_genre = df_songs[\"Genre\"].value_counts()\n",
    "\n",
    "# Filter very unfrequent\n",
    "vc_genre = vc_genre[vc_genre > 50] \n",
    "vc_genre = vc_genre.apply(lambda x: x / sum(vc_genre.values))\n",
    "\n",
    "# Labels\n",
    "labels = list(map(lambda x: \" \".join(list(map(lambda y: y.capitalize(), x.split(\" \")))), vc_genre.index))\n",
    "labels = list(map(lambda x: \" \".join(list(map(lambda y: \"R&B\" if y == \"R&b\" else y, x.split(\" \")))), labels))\n",
    "\n",
    "# Title\n",
    "title = \"Genre distribution in the Top-100\"\n",
    "\n",
    "# Plot\n",
    "fig = plt.figure(figsize=fig_size)\n",
    "ax = fig.add_subplot(111)\n",
    "\n",
    "# Colors\n",
    "cmap = cm.get_cmap('Oranges_r')\n",
    "colors = cmap(np.linspace(0.3, 0.9, len(vc_genre)))\n",
    "\n",
    "# Plot\n",
    "plt.bar(labels, height=vc_genre.map(lambda x: x*100), color=colors, zorder=10)\n",
    "plt.xticks(labels, rotation='vertical')\n",
    "plt.title(title, color=graph_color, fontsize=font_size)\n",
    "plt.ylabel(\"Percentage\")\n",
    "plt.grid(zorder=0, alpha=0.5)\n",
    "plt.subplots_adjust(bottom=0.18)\n",
    "\n",
    "# Axis color\n",
    "set_axis_color(ax, graph_color)\n",
    "\n",
    "# Save plot\n",
    "if save_figures:\n",
    "    plt.savefig('../images/data_analysis/{}.png'.format(title), dpi=300, transparent=True)\n",
    "plt.show()"
   ]
  },
  {
   "cell_type": "markdown",
   "metadata": {},
   "source": [
    "### Number of songs in top 100 per artist (if a song is twice, is counted twice)"
   ]
  },
  {
   "cell_type": "code",
   "execution_count": 101,
   "metadata": {
    "scrolled": false
   },
   "outputs": [
    {
     "data": {
      "image/png": "[encoded data removed]",
      "text/plain": [
       "<Figure size 864x576 with 1 Axes>"
      ]
     },
     "metadata": {
      "needs_background": "light"
     },
     "output_type": "display_data"
    }
   ],
   "source": [
    "df_songCounts = df_songs[[\"Artist\", \"Song\"]].groupby(\"Artist\").agg(list).reset_index()\n",
    "df_songCounts[\"Count\"] = df_songCounts.Song.apply(len)\n",
    "\n",
    "# As many artists might have the same number of songs in the Billboard (especially for small\n",
    "# numbers), we pick an artist at random\n",
    "df_songCounts = df_songCounts[[\"Artist\", \"Count\"]]\n",
    "df_songCounts = df_songCounts.groupby(\"Count\").agg(list)\n",
    "df_songCounts = df_songCounts[\"Artist\"].apply(lambda x: x[random.randint(0, len(x) - 1)]).reset_index()\n",
    "df_songCounts = df_songCounts.sort_values(by=[\"Count\"], ascending=False)\n",
    "\n",
    "artists = df_songCounts[\"Artist\"].map(lambda x: \" \".join(list(map(lambda y: y.capitalize(), x.split(\" \")))))\n",
    "\n",
    "# Color\n",
    "cmap = cm.get_cmap('Oranges_r')\n",
    "colors = cmap(np.linspace(0.3, 0.9, len(artists)))\n",
    "\n",
    "# Title\n",
    "title = \"Number of times appearing in Top-100 per Artist\"\n",
    "\n",
    "# Plot\n",
    "fig = plt.figure(figsize=fig_size)\n",
    "ax = fig.add_subplot(111)\n",
    "plt.bar(artists, height=df_songCounts[\"Count\"], color=colors, zorder=10)\n",
    "plt.xticks(artists, rotation='vertical')\n",
    "plt.title(title, color=graph_color, fontsize=font_size)\n",
    "plt.grid(zorder=0, alpha=0.5)\n",
    "plt.subplots_adjust(bottom=0.18)\n",
    "\n",
    "# Axis color\n",
    "set_axis_color(ax, graph_color)\n",
    "\n",
    "# Save plot\n",
    "if save_figures:\n",
    "    plt.savefig('../images/data_analysis/{}.png'.format(title), dpi=300, transparent=True)\n",
    "plt.show()"
   ]
  },
  {
   "cell_type": "markdown",
   "metadata": {},
   "source": [
    "### Lyrics statistics"
   ]
  },
  {
   "cell_type": "code",
   "execution_count": 132,
   "metadata": {
    "scrolled": false
   },
   "outputs": [
    {
     "data": {
      "image/png": "[encoded data removed]",
      "text/plain": [
       "<Figure size 864x576 with 1 Axes>"
      ]
     },
     "metadata": {
      "needs_background": "light"
     },
     "output_type": "display_data"
    }
   ],
   "source": [
    "# Data for histograms\n",
    "lyrics_lengths = df_songs[\"Lyrics\"].apply(lambda s: len(s.split(\" \")))\n",
    "bins = range(2, len(lyrics_lengths.unique()))\n",
    "\n",
    "# Title\n",
    "title = \"Distribution of the number of words per song\"\n",
    "\n",
    "# Plot\n",
    "fig = plt.figure(figsize=fig_size)\n",
    "ax = fig.add_subplot(111)\n",
    "n, bins, patches = plt.hist(lyrics_lengths, bins=bins, zorder=10)\n",
    "plt.title(title, color=graph_color, fontsize=font_size)\n",
    "plt.grid(zorder=0, alpha=0.5)\n",
    "\n",
    "# Colors\n",
    "cmap = cm.get_cmap('Oranges')\n",
    "cmap = cmap(np.linspace(0.3, 0.9, 100))\n",
    "cmap = matplotlib.colors.LinearSegmentedColormap.from_list(\"my_colormap\", cmap)        \n",
    "for i in range(len(patches)):\n",
    "    patches[i].set_facecolor(cmap(n[i]/max(n)))\n",
    "\n",
    "# Axis color\n",
    "set_axis_color(ax, graph_color)\n",
    "\n",
    "# Save plot\n",
    "if save_figures:\n",
    "    plt.savefig('../images/data_analysis/{}.png'.format(title), dpi=300, transparent=True)\n",
    "plt.show()"
   ]
  },
  {
   "cell_type": "code",
   "execution_count": 133,
   "metadata": {},
   "outputs": [
    {
     "data": {
      "image/png": "[encoded data removed]",
      "text/plain": [
       "<Figure size 864x576 with 1 Axes>"
      ]
     },
     "metadata": {
      "needs_background": "light"
     },
     "output_type": "display_data"
    }
   ],
   "source": [
    "# Data for histograms\n",
    "lyrics_lengths_unique = df_songs.Lyrics.apply(lambda s: len(set(s.split(\" \"))))\n",
    "bins = range(2, len(lyrics_lengths_unique.unique()))\n",
    "\n",
    "# Title\n",
    "title = \"Distribution of the number of unique words per song\"\n",
    "\n",
    "# Plot\n",
    "fig = plt.figure(figsize=fig_size)\n",
    "ax = fig.add_subplot(111)\n",
    "n, bins, patches = plt.hist(lyrics_lengths_unique, bins=bins, zorder=10)\n",
    "plt.title(title, color=graph_color, fontsize=font_size)\n",
    "plt.grid(zorder=0, alpha=0.5)\n",
    "\n",
    "# Colors\n",
    "cmap = cm.get_cmap('Oranges')\n",
    "cmap = cmap(np.linspace(0.3, 0.9, 100))\n",
    "cmap = matplotlib.colors.LinearSegmentedColormap.from_list(\"my_colormap\", cmap)        \n",
    "for i in range(len(patches)):\n",
    "    patches[i].set_facecolor(cmap(n[i]/max(n)))\n",
    "\n",
    "# Axis color\n",
    "set_axis_color(ax, graph_color)\n",
    "\n",
    "# Save plot\n",
    "if save_figures:\n",
    "    plt.savefig('../images/data_analysis/{}.png'.format(title), dpi=300, transparent=True)\n",
    "plt.show()"
   ]
  },
  {
   "cell_type": "markdown",
   "metadata": {},
   "source": [
    "# Clusterisation of texts"
   ]
  },
  {
   "cell_type": "code",
   "execution_count": 104,
   "metadata": {},
   "outputs": [
    {
     "name": "stderr",
     "output_type": "stream",
     "text": [
      "[nltk_data] Downloading package stopwords to\n",
      "[nltk_data]     /Users/franckdessimoz/nltk_data...\n",
      "[nltk_data]   Package stopwords is already up-to-date!\n",
      "[nltk_data] Downloading package averaged_perceptron_tagger to\n",
      "[nltk_data]     /Users/franckdessimoz/nltk_data...\n",
      "[nltk_data]   Package averaged_perceptron_tagger is already up-to-\n",
      "[nltk_data]       date!\n",
      "[nltk_data] Downloading package wordnet to\n",
      "[nltk_data]     /Users/franckdessimoz/nltk_data...\n",
      "[nltk_data]   Package wordnet is already up-to-date!\n"
     ]
    },
    {
     "data": {
      "text/plain": [
       "True"
      ]
     },
     "execution_count": 104,
     "metadata": {},
     "output_type": "execute_result"
    }
   ],
   "source": [
    "import nltk\n",
    "import ssl\n",
    "try:\n",
    "    _create_unverified_https_context = ssl._create_unverified_context\n",
    "except AttributeError:\n",
    "    pass\n",
    "else:\n",
    "    ssl._create_default_https_context = _create_unverified_https_context\n",
    "nltk.download('stopwords')\n",
    "nltk.download('averaged_perceptron_tagger')\n",
    "nltk.download('wordnet')"
   ]
  },
  {
   "cell_type": "code",
   "execution_count": 105,
   "metadata": {},
   "outputs": [],
   "source": [
    "from nltk.corpus import stopwords\n",
    "from nltk.corpus import wordnet as wn\n",
    "from nltk.tokenize import word_tokenize \n",
    "from sklearn.decomposition import TruncatedSVD\n",
    "from nltk.stem.wordnet import WordNetLemmatizer\n",
    "from gensim.models.doc2vec import Doc2Vec, TaggedDocument\n",
    "from nltk import pos_tag, sent_tokenize, wordpunct_tokenize"
   ]
  },
  {
   "cell_type": "code",
   "execution_count": 106,
   "metadata": {},
   "outputs": [],
   "source": [
    "lemmatizer = WordNetLemmatizer()\n",
    "stop_words = set(stopwords.words('english')) "
   ]
  },
  {
   "cell_type": "code",
   "execution_count": 107,
   "metadata": {},
   "outputs": [],
   "source": [
    "def lemmatize(token, pos_tag):\n",
    "    tag = {\n",
    "        'N': wn.NOUN,\n",
    "        'V': wn.VERB,\n",
    "        'R': wn.ADV,\n",
    "        'J': wn.ADJ\n",
    "    }.get(pos_tag[0], wn.NOUN)\n",
    "    return lemmatizer.lemmatize(token, tag)"
   ]
  },
  {
   "cell_type": "code",
   "execution_count": 108,
   "metadata": {},
   "outputs": [],
   "source": [
    "def preprocess_lyrics(lyrics):\n",
    "    tagged_tokens = pos_tag(wordpunct_tokenize(lyrics))\n",
    "    preprocessed = [lemmatize(token, tag) for (token, tag) in tagged_tokens if not token in stop_words]\n",
    "    return \" \".join(preprocessed)"
   ]
  },
  {
   "cell_type": "code",
   "execution_count": 109,
   "metadata": {},
   "outputs": [],
   "source": [
    "# Fill NA values\n",
    "preprocessed_lyrics = df_songs[\"Lyrics\"].fillna(\"\").apply(preprocess_lyrics)\n",
    "\n",
    "# Initialise the count vectorizer with the English stop words\n",
    "count_vectorizer = CountVectorizer(stop_words='english', preprocessor=None)\n",
    "\n",
    "# Fit and transform the processed titles\n",
    "count_data = count_vectorizer.fit_transform(preprocessed_lyrics)"
   ]
  },
  {
   "cell_type": "code",
   "execution_count": 110,
   "metadata": {},
   "outputs": [],
   "source": [
    "def print_topics(model, count_vectorizer, n_top_words):\n",
    "    words = count_vectorizer.get_feature_names_out()\n",
    "    for topic_idx, topic in enumerate(model.components_):\n",
    "        print(\"\\nTopic #%d:\" % topic_idx)\n",
    "        print(\" \".join([words[i]\n",
    "                        for i in topic.argsort()[:-n_top_words - 1: -1]]))"
   ]
  },
  {
   "cell_type": "code",
   "execution_count": 111,
   "metadata": {},
   "outputs": [
    {
     "name": "stdout",
     "output_type": "stream",
     "text": [
      "Topics found via LDA:\n",
      "\n",
      "Topic #0:\n",
      "oh ooh yeah baby\n",
      "\n",
      "Topic #1:\n",
      "na shake like stop\n",
      "\n",
      "Topic #2:\n",
      "love know baby say\n",
      "\n",
      "Topic #3:\n",
      "want yeah man turn\n",
      "\n",
      "Topic #4:\n",
      "like know girl yeah\n"
     ]
    }
   ],
   "source": [
    "# Tweak the two parameters below\n",
    "number_topics = 5\n",
    "number_words = 4\n",
    "\n",
    "# Create and fit the LDA model\n",
    "lda = LDA(n_components=number_topics, n_jobs=-1)\n",
    "lda.fit(count_data)\n",
    "\n",
    "# Print the topics found by the LDA model\n",
    "print(\"Topics found via LDA:\")\n",
    "print_topics(lda, count_vectorizer, number_words)"
   ]
  },
  {
   "cell_type": "code",
   "execution_count": 112,
   "metadata": {},
   "outputs": [
    {
     "data": {
      "image/png": "[encoded data removed]",
      "text/plain": [
       "<Figure size 432x288 with 1 Axes>"
      ]
     },
     "metadata": {
      "needs_background": "light"
     },
     "output_type": "display_data"
    }
   ],
   "source": [
    "vectors_10 = lda.transform(count_data)\n",
    "\n",
    "# Plot\n",
    "plt.scatter(vectors_10[:100, 0], vectors_10[:100, 1], color = \"red\")\n",
    "plt.scatter(vectors_10[5000:, 0], vectors_10[5000:, 1], color = \"blue\")\n",
    "plt.show()"
   ]
  },
  {
   "cell_type": "code",
   "execution_count": 113,
   "metadata": {},
   "outputs": [
    {
     "data": {
      "image/png": "[encoded data removed]",
      "text/plain": [
       "<Figure size 432x288 with 1 Axes>"
      ]
     },
     "metadata": {
      "needs_background": "light"
     },
     "output_type": "display_data"
    }
   ],
   "source": [
    "svd = TruncatedSVD(2)\n",
    "vectors_2 = svd.fit_transform(vectors_10)\n",
    "\n",
    "# Plot\n",
    "plt.scatter(vectors_2[:100, 0], vectors_2[:100, 1], color = \"red\")\n",
    "plt.scatter(vectors_2[5000:, 0], vectors_2[5000:, 1], color = \"blue\")\n",
    "plt.show()"
   ]
  },
  {
   "cell_type": "markdown",
   "metadata": {},
   "source": [
    "### Using Doc2Vec"
   ]
  },
  {
   "cell_type": "code",
   "execution_count": 114,
   "metadata": {},
   "outputs": [
    {
     "data": {
      "text/plain": [
       "TaggedDocument(words=['I', \"can't\", 'get', 'no', 'satisfaction', 'I', \"can't\", 'get', 'no', 'satisfaction', 'Cause', 'I', 'try', 'and', 'I', 'try', 'and', 'I', 'try', 'and', 'I', 'try', 'I', \"can't\", 'get', 'no,', 'I', \"can't\", 'get', 'no', '', 'When', \"I'm\", 'driving', 'in', 'my', 'car', 'And', 'that', 'man', 'comes', 'on', 'the', 'radio', 'And', \"he's\", 'telling', 'me', 'more', 'and', 'more', 'About', 'some', 'useless', 'information', 'Supposed', 'to', 'fire', 'my', 'imagination', 'I', \"can't\", 'get', 'no,', 'oh', 'no,', 'no,', 'no!', 'Hey,', 'hey,', 'hey!', \"That's\", 'what', \"I'll\", 'say!', '', 'I', \"can't\", 'get', 'no', 'satisfaction', 'I', \"can't\", 'get', 'no', 'satisfaction', \"'Cause\", 'I', 'try,', 'and', 'I', 'try,', 'and', 'I', 'try,', 'and', 'I', 'try', 'I', \"can't\", 'get', 'no,', 'I', \"can't\", 'get', 'no', '', 'When', \"I'm\", 'watching', 'my', 'TV', 'And', 'a', 'man', 'comes', 'on', 'and', 'tells', 'me', 'How', 'white', 'my', 'shirts', 'can', 'be', 'Well', 'he', \"can't\", 'be', 'a', 'man', 'cause', 'he', \"doesn't\", 'smoke', 'The', 'same', 'cigarettes', 'as', 'me', 'I', \"can't\", 'get', 'no,', 'oh', 'no,', 'no,', 'no', 'Hey,', 'hey,', 'hey,', \"that's\", 'what', 'I', 'say', '', 'I', \"can't\", 'get', 'no', 'satisfaction', 'I', \"can't\", 'get', 'no', 'girl', 'reaction', \"'Cause\", 'I', 'try,', 'and', 'I', 'try,', 'and', 'I', 'try,', 'and', 'I', 'try', 'I', \"can't\", 'get', 'no,', 'I', \"can't\", 'get', 'no', '', 'When', \"I'm\", 'riding', 'round', 'the', 'world', 'And', \"I'm\", 'doing', 'this', 'and', \"I'm\", 'signing', 'that', 'And', \"I'm\", 'trying', 'to', 'make', 'some', 'girl', 'Who', 'tells', 'me', 'baby,', 'better', 'come', 'back,', 'maybe', 'next', 'week', \"'Cause\", 'you', 'see,', \"I'm\", 'on', 'a', 'losing', 'streak', 'I', \"can't\", 'get', 'no,', 'oh', 'no,', 'no,', 'no', 'Hey,', 'hey,', 'hey!', \"That's\", 'what', \"I'll\", 'say!', 'I', \"can't\", 'get', 'no', '(x3)', 'I', \"can't\", 'get', 'no', 'satisfaction', 'No', 'satisfaction', '(x3)', 'I', \"can't\", 'get', 'no'], tags=[2])"
      ]
     },
     "execution_count": 114,
     "metadata": {},
     "output_type": "execute_result"
    }
   ],
   "source": [
    "documents = [TaggedDocument(doc.split(\" \"), [i]) for i, doc in enumerate(df_songs[\"Lyrics\"].fillna(\"\"))]\n",
    "model = Doc2Vec(documents, vector_size=300, window=4, min_count=1, workers=4, epochs=10, dbow_words=1)\n",
    "\n",
    "sentence = \"I cant get no satisfaction\"\n",
    "vector = model.infer_vector(sentence.split(\" \"))\n",
    "documents[model.docvecs.most_similar([vector])[1][0]]"
   ]
  },
  {
   "cell_type": "code",
   "execution_count": 115,
   "metadata": {},
   "outputs": [
    {
     "data": {
      "image/png": "[encoded data removed]",
      "text/plain": [
       "<Figure size 432x288 with 1 Axes>"
      ]
     },
     "metadata": {
      "needs_background": "light"
     },
     "output_type": "display_data"
    }
   ],
   "source": [
    "svd = TruncatedSVD(2)\n",
    "vectors_2 = svd.fit_transform(model.docvecs.vectors_docs)\n",
    "\n",
    "# Plot\n",
    "plt.scatter(vectors_2[:100, 0], vectors_2[:100, 1], color = \"red\")\n",
    "plt.scatter(vectors_2[5000:, 0], vectors_2[5000:, 1], color = \"blue\")\n",
    "plt.show()"
   ]
  },
  {
   "cell_type": "markdown",
   "metadata": {},
   "source": [
    "# Events"
   ]
  },
  {
   "cell_type": "code",
   "execution_count": 116,
   "metadata": {},
   "outputs": [],
   "source": [
    "import re\n",
    "import spacy\n",
    "import pandas as pd\n",
    "from spacy import displacy"
   ]
  },
  {
   "cell_type": "code",
   "execution_count": 117,
   "metadata": {},
   "outputs": [
    {
     "data": {
      "text/html": [
       "<div>\n",
       "<style scoped>\n",
       "    .dataframe tbody tr th:only-of-type {\n",
       "        vertical-align: middle;\n",
       "    }\n",
       "\n",
       "    .dataframe tbody tr th {\n",
       "        vertical-align: top;\n",
       "    }\n",
       "\n",
       "    .dataframe thead th {\n",
       "        text-align: right;\n",
       "    }\n",
       "</style>\n",
       "<table border=\"1\" class=\"dataframe\">\n",
       "  <thead>\n",
       "    <tr style=\"text-align: right;\">\n",
       "      <th></th>\n",
       "      <th>Year</th>\n",
       "      <th>Month</th>\n",
       "      <th>Day</th>\n",
       "      <th>Content</th>\n",
       "      <th>Wikipedia</th>\n",
       "      <th>Summary</th>\n",
       "    </tr>\n",
       "  </thead>\n",
       "  <tbody>\n",
       "    <tr>\n",
       "      <th>0</th>\n",
       "      <td>1965</td>\n",
       "      <td>January</td>\n",
       "      <td>30</td>\n",
       "      <td>State Funeral of Winston Churchill at St Paul'...</td>\n",
       "      <td>https://en.wikipedia.org/wiki/Death_and_state_...</td>\n",
       "      <td>Sir Winston Churchill died on 24 January 1965,...</td>\n",
       "    </tr>\n",
       "    <tr>\n",
       "      <th>1</th>\n",
       "      <td>1965</td>\n",
       "      <td>March</td>\n",
       "      <td>18</td>\n",
       "      <td>Cosmonaut Alexey Leonov, leaving his spacecraf...</td>\n",
       "      <td>https://en.wikipedia.org/wiki/Voskhod_2</td>\n",
       "      <td>Voskhod 2 (Russian: Восход-2, lit. 'Sunrise-2'...</td>\n",
       "    </tr>\n",
       "    <tr>\n",
       "      <th>2</th>\n",
       "      <td>1965</td>\n",
       "      <td>March</td>\n",
       "      <td>22</td>\n",
       "      <td>US confirms its troops used chemical warfare a...</td>\n",
       "      <td>https://en.wikipedia.org/wiki/People%27s_Army_...</td>\n",
       "      <td>The People's Army of Vietnam (PAVN; Vietnamese...</td>\n",
       "    </tr>\n",
       "    <tr>\n",
       "      <th>3</th>\n",
       "      <td>1965</td>\n",
       "      <td>May</td>\n",
       "      <td>5</td>\n",
       "      <td>First large-scale US Army ground units arrive ...</td>\n",
       "      <td>https://en.wikipedia.org/wiki/Military_history...</td>\n",
       "      <td>Australia's involvement in the Vietnam War beg...</td>\n",
       "    </tr>\n",
       "    <tr>\n",
       "      <th>4</th>\n",
       "      <td>1965</td>\n",
       "      <td>June</td>\n",
       "      <td>7</td>\n",
       "      <td>The Supreme Court of the United States decides...</td>\n",
       "      <td>https://en.wikipedia.org/wiki/Roe_v._Wade</td>\n",
       "      <td>Roe v. Wade, 410 U.S. 113 (1973), was a landma...</td>\n",
       "    </tr>\n",
       "  </tbody>\n",
       "</table>\n",
       "</div>"
      ],
      "text/plain": [
       "   Year    Month  Day                                            Content  \\\n",
       "0  1965  January   30  State Funeral of Winston Churchill at St Paul'...   \n",
       "1  1965    March   18  Cosmonaut Alexey Leonov, leaving his spacecraf...   \n",
       "2  1965    March   22  US confirms its troops used chemical warfare a...   \n",
       "3  1965      May    5  First large-scale US Army ground units arrive ...   \n",
       "4  1965     June    7  The Supreme Court of the United States decides...   \n",
       "\n",
       "                                           Wikipedia  \\\n",
       "0  https://en.wikipedia.org/wiki/Death_and_state_...   \n",
       "1            https://en.wikipedia.org/wiki/Voskhod_2   \n",
       "2  https://en.wikipedia.org/wiki/People%27s_Army_...   \n",
       "3  https://en.wikipedia.org/wiki/Military_history...   \n",
       "4          https://en.wikipedia.org/wiki/Roe_v._Wade   \n",
       "\n",
       "                                             Summary  \n",
       "0  Sir Winston Churchill died on 24 January 1965,...  \n",
       "1  Voskhod 2 (Russian: Восход-2, lit. 'Sunrise-2'...  \n",
       "2  The People's Army of Vietnam (PAVN; Vietnamese...  \n",
       "3  Australia's involvement in the Vietnam War beg...  \n",
       "4  Roe v. Wade, 410 U.S. 113 (1973), was a landma...  "
      ]
     },
     "execution_count": 117,
     "metadata": {},
     "output_type": "execute_result"
    }
   ],
   "source": [
    "data_file = \"datasets/events/events_full.csv\"\n",
    "df_events = pd.read_csv(data_file, index_col=0, header=0, sep=\",\")\n",
    "df_events.head()"
   ]
  },
  {
   "cell_type": "code",
   "execution_count": 118,
   "metadata": {},
   "outputs": [],
   "source": [
    "def entity_extractor(cols, song = False):\n",
    "    \n",
    "    # Parametrable extraction\n",
    "    ignore_entities = [\"CARDINAL\", \"MONEY\", \"ORDINAL\", \"QUANTITY\", \"TIME\"]\n",
    "    nlp = spacy.load(\"en_core_web_md\")\n",
    "    \n",
    "    def extract_entities(row):\n",
    "        \n",
    "        # Actual extraction\n",
    "        entities = []\n",
    "        for col in cols:\n",
    "            if type(row[col]) == str:\n",
    "                entities += [(ent.text, ent.label_) for ent in nlp(row[col]).ents if ent.label_ not in ignore_entities]\n",
    "                \n",
    "        if song : \n",
    "            entities.append((row[\"Artist\"], \"PERSON\"))\n",
    "            entities.append((row[\"Song\"], \"WORK_OF_ART\"))\n",
    "            entities.append((row[\"Album\"], \"WORK_OF_ART\"))\n",
    "        \n",
    "        return entities\n",
    "    \n",
    "    return extract_entities"
   ]
  },
  {
   "cell_type": "code",
   "execution_count": 119,
   "metadata": {},
   "outputs": [],
   "source": [
    "extraction_cols = [\"Content\", \"Summary\"]\n",
    "df_songs[\"Entities\"] = df_songs.apply(entity_extractor([\"Lyrics\"]), axis = 1)\n",
    "df_events[\"Entities\"] = df_events.apply(entity_extractor(extraction_cols), axis = 1)"
   ]
  },
  {
   "cell_type": "code",
   "execution_count": 120,
   "metadata": {},
   "outputs": [
    {
     "data": {
      "text/plain": [
       "<AxesSubplot:>"
      ]
     },
     "execution_count": 120,
     "metadata": {},
     "output_type": "execute_result"
    },
    {
     "data": {
      "image/png": "[encoded data removed]",
      "text/plain": [
       "<Figure size 432x288 with 1 Axes>"
      ]
     },
     "metadata": {
      "needs_background": "light"
     },
     "output_type": "display_data"
    }
   ],
   "source": [
    "df_songs[\"word_count\"] = df_songs[\"Lyrics\"].apply(lambda x : len(x.split(\" \")))\n",
    "df_songs[\"word_count\"].hist()"
   ]
  },
  {
   "cell_type": "code",
   "execution_count": 121,
   "metadata": {},
   "outputs": [],
   "source": [
    "def getStartEnd_entities(row, events = False):\n",
    "    occurences = []\n",
    "    col = \"Summary\" if events else \"Lyrics\"\n",
    "    for ent, ent_type in set(row[\"Entities\"]):\n",
    "        try:\n",
    "            occurences += [(ent, ent_type, m.start(), m.end()) for m in re.finditer(ent, row[col])]\n",
    "        except:\n",
    "            ent = re.sub('([\\[\\].,!?()\\*])', r'', ent)\n",
    "            occurences += [(ent, ent_type, m.start(), m.end())\n",
    "                           for m in re.finditer(ent, row[col])]\n",
    "    return sorted(occurences, key=lambda x : x[2])"
   ]
  },
  {
   "cell_type": "code",
   "execution_count": 122,
   "metadata": {},
   "outputs": [],
   "source": [
    "def choseEntity(row):\n",
    "    prev_end = 0\n",
    "    filteredEnts = []\n",
    "    for ent, ent_type, start, end in row[\"Entities_more\"]:\n",
    "        if prev_end > start:\n",
    "            # Entities are overlapping, forget this one\n",
    "            continue\n",
    "        filteredEnts.append((ent, ent_type, start, end))\n",
    "        prev_end = end\n",
    "    return filteredEnts"
   ]
  },
  {
   "cell_type": "code",
   "execution_count": 123,
   "metadata": {},
   "outputs": [],
   "source": [
    "df_songs[\"Entities_more\"] = df_songs.apply(getStartEnd_entities, axis = 1)\n",
    "df_songs[\"Entities_more\"] = df_songs.apply(choseEntity, axis = 1)\n",
    "\n",
    "df_events[\"Entities_more\"] = df_events.apply(lambda row: getStartEnd_entities(row, events=True), axis = 1)\n",
    "df_events[\"Entities_more\"] = df_events.apply(choseEntity, axis = 1)"
   ]
  },
  {
   "cell_type": "code",
   "execution_count": 124,
   "metadata": {},
   "outputs": [],
   "source": [
    "def find_refs(song_rows):\n",
    "    refs = []\n",
    "    for entity, label in song_rows[\"Entities\"]:\n",
    "        entity = entity.lower()\n",
    "        for i, row in df_events[\"Entities\"].iteritems():\n",
    "            ents_lower = [ent.lower() for ent, lab in row]\n",
    "            if any([entity.lower() in low_ent or low_ent in entity for low_ent in ents_lower]):\n",
    "                refs.append(i)\n",
    "    return refs"
   ]
  },
  {
   "cell_type": "code",
   "execution_count": 125,
   "metadata": {},
   "outputs": [],
   "source": [
    "# Add references to events in songs\n",
    "df_songs[\"Refs\"] = df_songs.apply(find_refs, axis = 1)\n",
    "df_songs[\"Refs\"] = df_songs[\"Refs\"].apply(set)"
   ]
  },
  {
   "cell_type": "code",
   "execution_count": 127,
   "metadata": {},
   "outputs": [],
   "source": [
    "# Add references to songs in events\n",
    "df_events[\"Refs\"] = [[] for i in range(len(df_events))]\n",
    "for i_song, refs in df_songs[\"Refs\"].iteritems():\n",
    "    for i_event in refs:\n",
    "        df_events.iloc[i_event][\"Refs\"].append(i_song)\n",
    "        \n",
    "df_events[\"Refs\"] = df_events[\"Refs\"].apply(set)"
   ]
  },
  {
   "cell_type": "code",
   "execution_count": null,
   "metadata": {},
   "outputs": [],
   "source": [
    "s = dict()\n",
    "for ents in df_songs[\"Entities\"].apply(lambda x : [e[0] for e in x]).values:\n",
    "    for ent in ents :\n",
    "        if ent in s:\n",
    "            s[ent] +=1\n",
    "        else :\n",
    "            s[ent] = 1\n",
    "            \n",
    "s = {k: v for k, v in sorted(s.items(), key=lambda item: item[1], reverse=True)}\n",
    "\n",
    "# Display all the types of entities recognized\n",
    "ent_types = set()\n",
    "for s in df_songs[\"Entities\"].apply(lambda x : set([e[1] for e in x])):\n",
    "    for ent in s:\n",
    "        ent_types.add(ent)\n",
    "\n",
    "ent_types"
   ]
  },
  {
   "cell_type": "code",
   "execution_count": null,
   "metadata": {},
   "outputs": [],
   "source": [
    "# df.to_csv(\"songs_with_refs.csv\")\n",
    "# df_events.to_csv(\"events_with_refs.csv\")\n",
    "\n",
    "# with open(\"datasets/songs_with_refs.pickle\", \"wb\") as f :\n",
    "#     pickle.dump(df, f, pickle.HIGHEST_PROTOCOL)\n",
    "    \n",
    "# with open(\"datasets/events_with_refs.pickle\", \"wb\") as f :\n",
    "#     pickle.dump(df_events, f, pickle.HIGHEST_PROTOCOL)"
   ]
  },
  {
   "cell_type": "markdown",
   "metadata": {},
   "source": [
    "# Using the references"
   ]
  },
  {
   "cell_type": "code",
   "execution_count": null,
   "metadata": {},
   "outputs": [],
   "source": [
    "with open(\"datasets/songs_with_refs.pickle\", \"rb\") as f :\n",
    "    df_songs = pickle.load(f)\n",
    "    \n",
    "with open(\"datasets/events_with_refs.pickle\", \"rb\") as f :\n",
    "    df_events = pickle.load(f)"
   ]
  },
  {
   "cell_type": "code",
   "execution_count": null,
   "metadata": {},
   "outputs": [],
   "source": [
    "all_docs = np.concatenate((df_songs[\"Lyrics\"].fillna(\"\"), df_events[\"Content\"].fillna(\"\")))\n",
    "documents = [TaggedDocument(doc.split(\" \"), [i]) for i, doc in enumerate(all_docs)]\n",
    "model = Doc2Vec(documents, vector_size=300, window=4, min_count=1, workers=4, epochs=10, dbow_words=1)"
   ]
  },
  {
   "cell_type": "code",
   "execution_count": null,
   "metadata": {},
   "outputs": [],
   "source": [
    "lyrics2events_sim = []\n",
    "for i in range(len(df)):\n",
    "    sims = model.docvecs.most_similar(positive=[model.docvecs[i]], topn=100, clip_start=len(df))[1:]\n",
    "    sims = [x for x in sims if (x[0] - len(df)) in df.xs(i)[\"Refs\"]]\n",
    "    sims_refs = sorted(sims, key = lambda x : x[1], reverse=True)[:10]\n",
    "    lyrics2events_sim.append(sims_refs)\n",
    "\n",
    "df_songs[\"Similar\"] = lyrics2events_sim\n",
    "df_songs[df_songs[\"Similar\"].apply(len) > 0].head()"
   ]
  },
  {
   "cell_type": "markdown",
   "metadata": {},
   "source": [
    "# BERT"
   ]
  },
  {
   "cell_type": "code",
   "execution_count": null,
   "metadata": {},
   "outputs": [],
   "source": [
    "import torch\n",
    "from tqdm import tqdm_notebook\n",
    "from transformers import AlbertModel, AlbertTokenizer"
   ]
  },
  {
   "cell_type": "code",
   "execution_count": null,
   "metadata": {},
   "outputs": [],
   "source": [
    "tokenizer = AlbertTokenizer.from_pretrained('albert-large-v2')\n",
    "model = AlbertModel.from_pretrained('albert-large-v2')"
   ]
  },
  {
   "cell_type": "code",
   "execution_count": null,
   "metadata": {},
   "outputs": [],
   "source": [
    "if torch.cuda.is_available():  \n",
    "    dev = \"cuda:0\"\n",
    "    model.cuda()\n",
    "else:  \n",
    "    dev = \"cpu\"  \n",
    "device = torch.device(dev)  \n",
    "None"
   ]
  },
  {
   "cell_type": "markdown",
   "metadata": {},
   "source": [
    "### Vectorize lyrics"
   ]
  },
  {
   "cell_type": "code",
   "execution_count": null,
   "metadata": {},
   "outputs": [],
   "source": [
    "df_songs[\"word_count\"] = df_songs[\"Lyrics\"].apply(lambda x : len(x.split(\" \")))\n",
    "lyrics_tokenized = torch.Tensor(tokenizer.batch_encode_plus(df_songs[\"Lyrics\"],\n",
    "                                                            max_length=512,\n",
    "                                                            pad_to_max_length=True,\n",
    "                                                            padding_side=\"right\",\n",
    "                                                            add_special_tokens=True)[\"input_ids\"]).long()\n",
    "lyrics_vectorized = []\n",
    "batch_size = 8\n",
    "with torch.no_grad():\n",
    "    for i in range(0, len(df), batch_size):\n",
    "        batch = lyrics_tokenized[i: min(i + batch_size, len(df_songs))].to(device)\n",
    "        lyrics_vectorized.append(model(batch)[1].tolist())\n",
    "        del batch\n",
    "        torch.cuda.empty_cache()\n",
    "        \n",
    "lyrics_vectors = []\n",
    "for batch_lyrics in lyrics_vectorized:\n",
    "    for lyric in batch_lyrics:\n",
    "        lyrics_vectors.append(lyric)\n",
    "        \n",
    "df_songs[\"vect\"] = lyrics_vectors"
   ]
  },
  {
   "cell_type": "markdown",
   "metadata": {},
   "source": [
    "### Vectorize events"
   ]
  },
  {
   "cell_type": "code",
   "execution_count": null,
   "metadata": {},
   "outputs": [],
   "source": [
    "df_events[\"text_vect\"] = df_events[\"Summary\"].fillna(df_events.Content)\n",
    "df_events[\"word_count\"] = df_events[\"text_vect\"].apply(lambda x : len(x.split(\" \")))\n",
    "df_events[\"text_vect\"] = np.where(df_events[\"word_count\"] > 320, df_events[\"Content\"], df_events[\"text_vect\"])\n",
    "df_events[\"word_count\"] = df_events[\"text_vect\"].apply(lambda x : len(x.split(\" \")))\n",
    "\n",
    "events_tokenized = torch.Tensor(tokenizer.batch_encode_plus(df_events.text_vect,\n",
    "                                                            max_length =512,\n",
    "                                                            pad_to_max_length=True,\n",
    "                                                            padding_side = \"right\",\n",
    "                                                            add_special_tokens=True)[\"input_ids\"]).long()\n",
    "\n",
    "events_vectorized = []\n",
    "batch_size = 8\n",
    "with torch.no_grad():\n",
    "    for i in tqdm_notebook(range(0, len(df_events), batch_size)):\n",
    "        batch = events_tokenized[i: min(i + batch_size, len(df_events))].to(device)\n",
    "        events_vectorized.append(model(batch)[1].tolist())\n",
    "        del batch\n",
    "        torch.cuda.empty_cache()\n",
    "        \n",
    "events_vectors = []\n",
    "for batch_events in events_vectorized:\n",
    "    for event in batch_events:\n",
    "        events_vectors.append(event)\n",
    "        \n",
    "df_events[\"vect\"] = events_vectors"
   ]
  },
  {
   "cell_type": "markdown",
   "metadata": {},
   "source": [
    "# Similarity"
   ]
  },
  {
   "cell_type": "code",
   "execution_count": null,
   "metadata": {},
   "outputs": [],
   "source": [
    "from sklearn.metrics.pairwise import cosine_similarity\n",
    "from sklearn.metrics.pairwise import euclidean_distances"
   ]
  },
  {
   "cell_type": "code",
   "execution_count": null,
   "metadata": {},
   "outputs": [],
   "source": [
    "sim = cosine_similarity(df_songs[\"vect\"].tolist(), df_events[\"vect\"].tolist())"
   ]
  },
  {
   "cell_type": "code",
   "execution_count": null,
   "metadata": {},
   "outputs": [],
   "source": [
    "df_songs[\"filteredRefs\"].apply(len).hist()"
   ]
  },
  {
   "cell_type": "code",
   "execution_count": null,
   "metadata": {},
   "outputs": [],
   "source": [
    "def filterRefs(row):\n",
    "    filteredRefs = []\n",
    "    for ref in row[\"Refs\"]:\n",
    "        if row[\"sims\"][ref] > 0.94:\n",
    "            filteredRefs.append(ref)\n",
    "    return filteredRefs"
   ]
  },
  {
   "cell_type": "code",
   "execution_count": null,
   "metadata": {},
   "outputs": [],
   "source": [
    "df_songs[\"filteredRefs\"] = df_songs.apply(filterRefs, axis = 1)"
   ]
  },
  {
   "cell_type": "code",
   "execution_count": null,
   "metadata": {},
   "outputs": [],
   "source": [
    "# Add references to songs in events\n",
    "df_events[\"filteredRefs\"] = [[] for i in range(len(df_events))]\n",
    "for i_song, refs in df_songs[\"filteredRefs\"].iteritems():\n",
    "    for i_event in refs:\n",
    "        df_events.iloc[i_event][\"filteredRefs\"].append(i_song)\n",
    "        \n",
    "df_events[\"filteredRefs\"] = df_events[\"filteredRefs\"].apply(set)"
   ]
  },
  {
   "cell_type": "code",
   "execution_count": null,
   "metadata": {},
   "outputs": [],
   "source": [
    "df_events[\"Entities\"].apply(lambda l : [x[0] for x in l])\n",
    "df_events[\"Ents\"] = df_events[\"Entities\"].apply(lambda l : [x[0] for x in l])\n",
    "df_events[\"Ents_types\"] = df_events[\"Entities\"].apply(lambda l : [x[1] for x in l])"
   ]
  },
  {
   "cell_type": "code",
   "execution_count": null,
   "metadata": {},
   "outputs": [],
   "source": [
    "df_songs[\"Ents\"] = df[\"Entities\"].apply(lambda l : [x[0] for x in l])\n",
    "df_songs[\"Ents_types\"] = df[\"Entities\"].apply(lambda l : [x[1] for x in l])"
   ]
  },
  {
   "cell_type": "markdown",
   "metadata": {},
   "source": [
    "## Save to csv for Website"
   ]
  },
  {
   "cell_type": "code",
   "execution_count": null,
   "metadata": {},
   "outputs": [],
   "source": [
    "df_events[\"num_refs\"] = df_events[\"filteredRefs\"].apply(len)\n",
    "df_songs[\"num_refs\"] = df_songs[\"filteredRefs\"].apply(len)"
   ]
  },
  {
   "cell_type": "code",
   "execution_count": null,
   "metadata": {},
   "outputs": [],
   "source": [
    "def entities_embedding(row, songs = False):\n",
    "    col = \"Lyrics_print\" if songs else \"Summary\"\n",
    "    \n",
    "    color = \"#ffffff\" if songs else \"#f28e61\"\n",
    "    text_color = \"color : #ffffff;\" if not songs else \"\"\n",
    "    \n",
    "    if len(row[\"Entities_more\"]) == 0:\n",
    "        return row[col]\n",
    "    \n",
    "    s = \"\"\n",
    "    original = row[col]\n",
    "    prev_end = 0\n",
    "    for ent, ent_type, start, end in row[\"Entities_more\"]:\n",
    "        s += original[prev_end : start]\n",
    "        embedded_entity = (\"<mark class=\\\"entity\\\" style=\\\"background: %s;%s padding: 0.05em 0.05em; margin: 0 0.15em;\"\n",
    "        \"line-height: 1; border-radius: 0.35em;\\\">%s\"\n",
    "        \"<span style=\\\"font-size: 0.5em; font-weight: bold;%s line-height: 1; border-radius: 0.35em; text-transform: uppercase;\"\n",
    "        \"vertical-align: middle; margin-left: 0.25rem; margin-bottom:0.25rem\\\">%s</span></mark>\"\"\") % (color, text_color, ent, text_color, ent_type)\n",
    "        s += embedded_entity\n",
    "        prev_end = end\n",
    "    s+=original[prev_end :]\n",
    "    \n",
    "    return s"
   ]
  },
  {
   "cell_type": "markdown",
   "metadata": {},
   "source": [
    "### Extra refs"
   ]
  },
  {
   "cell_type": "code",
   "execution_count": null,
   "metadata": {},
   "outputs": [],
   "source": [
    "for i_event, event in df_events.iterrows():\n",
    "    for i_music, music in df_songs.iterrows():\n",
    "        trigger_values = [music[\"Song\"].lower(), music[\"Album\"].lower()] + music[\"Artist\"].lower().split(\"and\")\n",
    "        for value in trigger_values:\n",
    "            if value in event[\"Content\"].lower() or value in event[\"Summary\"].lower():\n",
    "                event[\"filteredRefs\"].add(i_music)\n",
    "                music[\"filteredRefs\"].add(i_event)"
   ]
  },
  {
   "cell_type": "code",
   "execution_count": null,
   "metadata": {},
   "outputs": [],
   "source": [
    "df_events[\"Summary_embedded\"] = df_events.apply(entities_embedding, axis = 1)\n",
    "df_events.drop(columns = [\"vect\", \"Refs\", \"Entities\", \"word_count\", \"text_vect\"])\\\n",
    "    .to_csv(\"datasets/events_refs_website.csv\")\n",
    "df_events[\"num_refs\"] = df_events[\"filteredRefs\"].apply(len)\n",
    "\n",
    "df_songs[\"Lyrics_print_embedded\"] = df_songs.apply(entities_embedding, axis = 1)\n",
    "df_songs.drop(columns = [\"vect\", \"sims\", \"Refs\", \"word_count\", \"Entities\", \"Lyrics\"]).rename(columns = {\"Lyrics_display\": \"Lyrics\"})\\\n",
    "    .to_csv(\"datasets/songs_refs_website.csv\")\n",
    "df_songs[\"num_refs\"] = df[\"filteredRefs\"].apply(len)"
   ]
  },
  {
   "cell_type": "code",
   "execution_count": null,
   "metadata": {},
   "outputs": [],
   "source": [
    "df_events[[\"Year\", \"Month\", \"Day\", \"Content\", \"Wikipedia\", \"Summary\", \"Entities\", \"filteredRefs\", \"num_refs\"]]\\\n",
    "    .to_json(\"events_refs_final.json\")\n",
    "df_events[[\"Year\", \"Month\", \"Day\", \"Content\", \"Wikipedia\", \"Summary\", \"Entities\", \"filteredRefs\", \"num_refs\"]]\\\n",
    "    .to_csv(\"events_refs_final.csv\")"
   ]
  },
  {
   "cell_type": "code",
   "execution_count": null,
   "metadata": {},
   "outputs": [],
   "source": [
    "df_song[\"num_refs\"] = df[\"filteredRefs\"].apply(len)\n",
    "df_events[\"num_refs\"] = df_events[\"filteredRefs\"].apply(len)\n",
    "df_songs[df_songs[\"filteredRefs\"].apply(len) == 0][\"Year\"].hist()"
   ]
  },
  {
   "cell_type": "code",
   "execution_count": null,
   "metadata": {},
   "outputs": [],
   "source": [
    "print(df_events[\"filteredRefs\"].apply(len).max())\n",
    "print(df_events[\"filteredRefs\"].apply(len).mean())\n",
    "print(df_events[\"Refs\"].apply(len).max())\n",
    "print(df_events[\"Refs\"].apply(len).mean())"
   ]
  },
  {
   "cell_type": "code",
   "execution_count": null,
   "metadata": {},
   "outputs": [],
   "source": [
    "print(df_songs[\"filteredRefs\"].apply(len).max())\n",
    "print(df_songs[\"filteredRefs\"].apply(len).mean())\n",
    "print(df_songs[\"Refs\"].apply(len).max())\n",
    "print(df_songs[\"Refs\"].apply(len).mean())"
   ]
  },
  {
   "cell_type": "code",
   "execution_count": null,
   "metadata": {},
   "outputs": [],
   "source": [
    "with open(\"events_vects.pickle\", \"rb\") as f:\n",
    "    tmp = pickle.load(f)\n",
    "with open(\"events_vects.pickle\", \"wb\") as f:\n",
    "    pickle.dump(events_vectorized, f, pickle.HIGHEST_PROTOCOL)"
   ]
  },
  {
   "cell_type": "code",
   "execution_count": null,
   "metadata": {},
   "outputs": [],
   "source": [
    "events_vectorized = []\n",
    "batch_size = 8\n",
    "with torch.no_grad():\n",
    "    for i in range(0, len(df_events), batch_size):\n",
    "        batch = events_tokenized[i: min(i + batch_size, len(df_events))].to(device)\n",
    "        events_vectorized.append(model(batch))\n",
    "        del batch\n",
    "        \n",
    "events_vectorized = [x[1] for x in events_vectorized]"
   ]
  },
  {
   "cell_type": "code",
   "execution_count": null,
   "metadata": {},
   "outputs": [],
   "source": [
    "events_vectors = []\n",
    "for batch_event in events_vectorized:\n",
    "    for event in batch_event:\n",
    "        events_vectors.append(event.tolist())\n",
    "        \n",
    "df_events[\"vect\"] = events_vectors"
   ]
  },
  {
   "cell_type": "code",
   "execution_count": null,
   "metadata": {},
   "outputs": [],
   "source": [
    "tmp = [sent for sent in df_events[\"text_vect\"]]\n",
    "x = torch.tensor(tmp)"
   ]
  },
  {
   "cell_type": "markdown",
   "metadata": {},
   "source": [
    "## Export tsv"
   ]
  },
  {
   "cell_type": "code",
   "execution_count": null,
   "metadata": {},
   "outputs": [],
   "source": [
    "pd.DataFrame(model.docvecs.vectors_docs).to_csv(\"vec.tsv\", index=False, sep=\"\\t\", header=False)"
   ]
  },
  {
   "cell_type": "code",
   "execution_count": null,
   "metadata": {},
   "outputs": [],
   "source": [
    "df_song.to_csv(\"data.tsv\", sep=\"\\t\", index=False)"
   ]
  }
 ],
 "metadata": {
  "kernelspec": {
   "display_name": "Python 3 (ipykernel)",
   "language": "python",
   "name": "python3"
  },
  "language_info": {
   "codemirror_mode": {
    "name": "ipython",
    "version": 3
   },
   "file_extension": ".py",
   "mimetype": "text/x-python",
   "name": "python",
   "nbconvert_exporter": "python",
   "pygments_lexer": "ipython3",
   "version": "3.7.4"
  }
 },
 "nbformat": 4,
 "nbformat_minor": 2
}
