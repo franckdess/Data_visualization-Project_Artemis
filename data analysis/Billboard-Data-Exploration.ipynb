{
 "cells": [
  {
   "cell_type": "markdown",
   "metadata": {},
   "source": [
    "## Dataset Description "
   ]
  },
  {
   "cell_type": "markdown",
   "metadata": {},
   "source": [
    "https://github.com/walkerkq/musiclyrics\n",
    "\n",
    "Billboard has published a Year-End Hot 100 every December since 1958. The chart measures the performance of singles in the U.S. throughout the year. Using R, I’ve combined the lyrics from 50 years of Billboard Year-End Hot 100 (1965-2015) into one dataset for analysis. You can download that dataset here.\n",
    "\n",
    "The songs used for analysis were scraped from Wikipedia’s entry for each Billboard Year-End Hot 100 Songs (e.g., 2014). This is the year-end chart, not weekly rankings. Many artists have made the weekly chart but not the final year end chart. The final chart is calculated using an inverse point system based on the weekly Billboard charts (100 points for a week at number one, 1 point for a week at number 100, etc).\n",
    "\n",
    "I used the xml and RCurl packages to scrape song and artist names from each Wikipedia entry. I then used that list to scrape lyrics from sites that had predictable URL strings (for example, metrolyrics.com uses metrolyrics.com/SONG-NAME-lyrics-ARTIST-NAME.html). If the first site scrape failed, I moved onto the second, and so on. About 78.9% of the lyrics were scraped from metrolyics.com, 15.7% from songlyrics.com, 1.8% from lyricsmode.com. About 3.6% (187/5100) were unavailable.\n",
    "\n",
    "The dataset features 5100 observations with the features rank (1-100), song, artist, year, lyrics, and source. The artist feature is fairly standardized thanks to Wikipedia, but there is still quite a bit of noise when it comes to artist collaborations (Justin Timberlake featuring Timbaland, for example). If there were any errors in the lyrics that were scraped, such as spelling errors or derivatives like \"nite\" instead of \"night,\" they haven't been corrected.\n",
    "\n",
    "Full analysis can be found here."
   ]
  },
  {
   "cell_type": "markdown",
   "metadata": {},
   "source": [
    "# Imports and Data Loading"
   ]
  },
  {
   "cell_type": "code",
   "execution_count": 12,
   "metadata": {},
   "outputs": [],
   "source": [
    "%matplotlib inline\n",
    "\n",
    "import pandas as pd\n",
    "import numpy as np\n",
    "import pickle\n",
    "\n",
    "from sklearn.decomposition import LatentDirichletAllocation as LDA\n",
    "from sklearn.feature_extraction.text import CountVectorizer\n",
    "from sklearn.preprocessing import normalize\n",
    "\n",
    "from Levenshtein import distance as levenshtein_distance\n",
    "\n",
    "import matplotlib.pyplot as plt"
   ]
  },
  {
   "cell_type": "markdown",
   "metadata": {},
   "source": [
    "### Lyrics Top-100 dataset"
   ]
  },
  {
   "cell_type": "code",
   "execution_count": null,
   "metadata": {},
   "outputs": [],
   "source": [
    "data_file_incomplete = \"datasets/billboard_lyrics_1964-2015.csv\"\n",
    "data_file = \"datasets/billboard_full.csv\"\n",
    "\n",
    "df_incomplete = pd.read_csv(data_file_incomplete, encoding = \"ANSI\") # utf-8 encoding doesn't work somehow :(\n",
    "df = pd.read_csv(data_file, index_col=0, header=0, sep=\",\") \n",
    "\n",
    "df.head()"
   ]
  },
  {
   "cell_type": "code",
   "execution_count": null,
   "metadata": {},
   "outputs": [],
   "source": [
    "len(df.Artist.unique())"
   ]
  },
  {
   "cell_type": "markdown",
   "metadata": {},
   "source": [
    "## Number of years in Top 100 per Song"
   ]
  },
  {
   "cell_type": "code",
   "execution_count": null,
   "metadata": {},
   "outputs": [],
   "source": [
    "df_count = df.groupby([\"Artist\", \"Song\"]).Year.agg(list).to_frame()\n",
    "df_count[\"Count\"] = df_count.Year.apply(len)\n",
    "df_count = df_count.sort_values(\"Count\", ascending = False)\n",
    "df_count.head()"
   ]
  },
  {
   "cell_type": "code",
   "execution_count": null,
   "metadata": {},
   "outputs": [],
   "source": [
    "plt.pie(df_count[\"Count\"].value_counts(), labels = [1, 2], autopct='%1.1f%%')\n",
    "plt.show()"
   ]
  },
  {
   "cell_type": "markdown",
   "metadata": {},
   "source": [
    "## Genre"
   ]
  },
  {
   "cell_type": "code",
   "execution_count": null,
   "metadata": {},
   "outputs": [],
   "source": [
    "vc_genre = df.Genre.value_counts()\n",
    "vc_genre = vc_genre[vc_genre > 70] # Filter very unfrequent\n",
    "\n",
    "plt.figure(figsize=(10,6))\n",
    "plt.pie(vc_genre.values, labels = vc_genre.index, autopct='%1.1f%%')\n",
    "# plt.savefig(\"images/genre_distribution.png\")\n",
    "plt.show()"
   ]
  },
  {
   "cell_type": "markdown",
   "metadata": {},
   "source": [
    "## Number of songs in top 100 per artist (if a song is twice, is counted twice)"
   ]
  },
  {
   "cell_type": "code",
   "execution_count": null,
   "metadata": {
    "scrolled": true
   },
   "outputs": [],
   "source": [
    "df.Artist.value_counts().describe()"
   ]
  },
  {
   "cell_type": "code",
   "execution_count": null,
   "metadata": {},
   "outputs": [],
   "source": [
    "df_songCounts = df.groupby(\"Artist\").Song.count()\n",
    "df_rndArtist = df_songCounts.to_frame().reset_index().groupby(\"Song\").agg(list)\n",
    "df_rndArtist[\"Artist\"] = df_rndArtist[\"Artist\"].apply(lambda a : np.random.choice(a, 1)[0])\n",
    "\n",
    "df_labels = pd.DataFrame(range(1, df_songCounts.max() + 1), columns = [\"Song\"])\n",
    "df_labels[\"Artist\"] = \"\"\n",
    "df_labels = df_labels.set_index(\"Song\")\n",
    "df_labels.update(df_rndArtist)"
   ]
  },
  {
   "cell_type": "code",
   "execution_count": null,
   "metadata": {},
   "outputs": [],
   "source": [
    "tmp = df_songCounts.value_counts()\n",
    "tmp[tmp.index <= 3].sum() / tmp.sum()"
   ]
  },
  {
   "cell_type": "code",
   "execution_count": null,
   "metadata": {
    "scrolled": false
   },
   "outputs": [],
   "source": [
    "bins = range(1, df_songCounts.max() + 1)\n",
    "plt.figure(figsize=(12,6))\n",
    "plt.hist(df_songCounts, bins = bins)\n",
    "plt.xticks(bins, df_labels[\"Artist\"], rotation='vertical')\n",
    "plt.yscale(\"log\")\n",
    "plt.title(\"Number of times appearing in Top-100 per Artist, with randomly selected artist per bin\")\n",
    "# plt.savefig(\"images/songs_per_artist.png\", bbox_inches='tight')\n",
    "plt.show()"
   ]
  },
  {
   "cell_type": "markdown",
   "metadata": {},
   "source": [
    "## Lyrics statistics"
   ]
  },
  {
   "cell_type": "code",
   "execution_count": null,
   "metadata": {
    "scrolled": false
   },
   "outputs": [],
   "source": [
    "lyrics_lengths = df.Lyrics.apply(lambda s : len(s.split(\" \")))\n",
    "\n",
    "bins = range(1, 1000)\n",
    "plt.hist(lyrics_lengths, bins = bins)\n",
    "plt.title(\"Number of words per song\")\n",
    "plt.savefig(\"words.png\")\n",
    "plt.show()"
   ]
  },
  {
   "cell_type": "code",
   "execution_count": null,
   "metadata": {},
   "outputs": [],
   "source": [
    "lyrics_lengths.describe()"
   ]
  },
  {
   "cell_type": "code",
   "execution_count": null,
   "metadata": {},
   "outputs": [],
   "source": [
    "lyrics_lengths_unique = df.Lyrics.apply(lambda s : len(set(s.split(\" \"))))\n",
    "\n",
    "bins = range(1, 1000)\n",
    "plt.hist(lyrics_lengths_unique, bins = bins)\n",
    "plt.title(\"Number of unique words per song\")\n",
    "plt.savefig(\"unique_words.png\")\n",
    "plt.show()"
   ]
  },
  {
   "cell_type": "code",
   "execution_count": null,
   "metadata": {
    "scrolled": true
   },
   "outputs": [],
   "source": [
    "lyrics_lengths_unique.describe()"
   ]
  },
  {
   "cell_type": "markdown",
   "metadata": {},
   "source": [
    "### Clusterisation of texts"
   ]
  },
  {
   "cell_type": "code",
   "execution_count": null,
   "metadata": {},
   "outputs": [],
   "source": [
    "from nltk import pos_tag, sent_tokenize, wordpunct_tokenize\n",
    "from nltk.corpus import wordnet as wn\n",
    "from nltk.corpus import stopwords \n",
    "from nltk.tokenize import word_tokenize \n",
    "from nltk.stem.wordnet import WordNetLemmatizer\n",
    "\n",
    "lemmatizer = WordNetLemmatizer()\n",
    "stop_words = set(stopwords.words('english')) \n",
    "\n",
    "def lemmatize(token, pos_tag):\n",
    "    tag = {\n",
    "        'N': wn.NOUN,\n",
    "        'V': wn.VERB,\n",
    "        'R': wn.ADV,\n",
    "        'J': wn.ADJ\n",
    "    }.get(pos_tag[0], wn.NOUN)\n",
    "    return lemmatizer.lemmatize(token, tag)\n",
    "\n",
    "def preprocess_lyrics(lyrics):\n",
    "    tagged_tokens = pos_tag(wordpunct_tokenize(lyrics))\n",
    "    preprocessed = [lemmatize(token, tag) for (token, tag) in tagged_tokens if not token in stop_words]\n",
    "    return \" \".join(preprocessed)"
   ]
  },
  {
   "cell_type": "code",
   "execution_count": null,
   "metadata": {},
   "outputs": [],
   "source": [
    "preprocessed_lyrics = df.Lyrics.fillna(\"\").apply(preprocess_lyrics)"
   ]
  },
  {
   "cell_type": "code",
   "execution_count": null,
   "metadata": {},
   "outputs": [],
   "source": [
    "# Initialise the count vectorizer with the English stop words\n",
    "count_vectorizer = CountVectorizer(stop_words='english', preprocessor = None)\n",
    "# Fit and transform the processed titles\n",
    "count_data = count_vectorizer.fit_transform(preprocessed_lyrics)"
   ]
  },
  {
   "cell_type": "code",
   "execution_count": null,
   "metadata": {},
   "outputs": [],
   "source": [
    "def print_topics(model, count_vectorizer, n_top_words):\n",
    "    words = count_vectorizer.get_feature_names()\n",
    "    for topic_idx, topic in enumerate(model.components_):\n",
    "        print(\"\\nTopic #%d:\" % topic_idx)\n",
    "        print(\" \".join([words[i]\n",
    "                        for i in topic.argsort()[:-n_top_words - 1:-1]]))\n",
    "        \n",
    "# Tweak the two parameters below\n",
    "number_topics = 5\n",
    "number_words = 4\n",
    "# Create and fit the LDA model\n",
    "lda = LDA(n_components=number_topics, n_jobs=-1)\n",
    "lda.fit(count_data)\n",
    "# Print the topics found by the LDA model\n",
    "print(\"Topics found via LDA:\")\n",
    "print_topics(lda, count_vectorizer, number_words)"
   ]
  },
  {
   "cell_type": "code",
   "execution_count": null,
   "metadata": {},
   "outputs": [],
   "source": [
    "vectors_10 = lda.transform(count_data)"
   ]
  },
  {
   "cell_type": "code",
   "execution_count": null,
   "metadata": {},
   "outputs": [],
   "source": [
    "plt.scatter(vectors_10[:100, 0], vectors_10[:100, 1], color = \"red\")\n",
    "plt.scatter(vectors_10[5000:, 0], vectors_10[5000:, 1], color = \"blue\")\n",
    "\n",
    "plt.show()"
   ]
  },
  {
   "cell_type": "code",
   "execution_count": null,
   "metadata": {},
   "outputs": [],
   "source": [
    "from sklearn.decomposition import TruncatedSVD\n",
    "\n",
    "svd = TruncatedSVD(2)\n",
    "vectors_2 = svd.fit_transform(vectors_10)"
   ]
  },
  {
   "cell_type": "code",
   "execution_count": null,
   "metadata": {},
   "outputs": [],
   "source": [
    "plt.scatter(vectors_2[:100, 0], vectors_2[:100, 1], color = \"red\")\n",
    "plt.scatter(vectors_2[5000:, 0], vectors_2[5000:, 1], color = \"blue\")\n",
    "\n",
    "plt.show()"
   ]
  },
  {
   "cell_type": "markdown",
   "metadata": {},
   "source": [
    "## Using Doc2Vec"
   ]
  },
  {
   "cell_type": "code",
   "execution_count": null,
   "metadata": {},
   "outputs": [],
   "source": [
    "from gensim.models.doc2vec import Doc2Vec, TaggedDocument\n",
    "\n",
    "documents = [TaggedDocument(doc.split(\" \"), [i]) for i, doc in enumerate(df.Lyrics.fillna(\"\"))]\n",
    "model = Doc2Vec(documents, vector_size=300, window=4, min_count=1, workers=4, epochs = 10, dbow_words = 1)"
   ]
  },
  {
   "cell_type": "code",
   "execution_count": null,
   "metadata": {},
   "outputs": [],
   "source": [
    "sentence = \"I cant get no satisfaction\"\n",
    "vector = model.infer_vector(sentence.split(\" \"))\n",
    "documents[model.docvecs.most_similar([vector])[1][0]]"
   ]
  },
  {
   "cell_type": "code",
   "execution_count": null,
   "metadata": {},
   "outputs": [],
   "source": [
    "documents[4480]"
   ]
  },
  {
   "cell_type": "code",
   "execution_count": null,
   "metadata": {},
   "outputs": [],
   "source": [
    "from sklearn.decomposition import TruncatedSVD\n",
    "\n",
    "svd = TruncatedSVD(2)\n",
    "vectors_2 = svd.fit_transform(model.docvecs.vectors_docs)"
   ]
  },
  {
   "cell_type": "code",
   "execution_count": null,
   "metadata": {},
   "outputs": [],
   "source": [
    "plt.scatter(vectors_2[:100, 0], vectors_2[:100, 1], color = \"red\")\n",
    "plt.scatter(vectors_2[5000:, 0], vectors_2[5000:, 1], color = \"blue\")\n",
    "\n",
    "plt.show()"
   ]
  },
  {
   "cell_type": "markdown",
   "metadata": {},
   "source": [
    "## Events"
   ]
  },
  {
   "cell_type": "code",
   "execution_count": 2,
   "metadata": {},
   "outputs": [
    {
     "name": "stderr",
     "output_type": "stream",
     "text": [
      "C:\\Users\\SimonRoquette\\Anaconda3\\lib\\site-packages\\ipykernel_launcher.py:6: TqdmDeprecationWarning: This function will be removed in tqdm==5.0.0\n",
      "Please use `tqdm.notebook.tqdm` instead of `tqdm.tqdm_notebook`\n",
      "  \n"
     ]
    },
    {
     "data": {
      "application/vnd.jupyter.widget-view+json": {
       "model_id": "5b956c01a16d4830a768f087d549304f",
       "version_major": 2,
       "version_minor": 0
      },
      "text/plain": [
       "HBox(children=(FloatProgress(value=1.0, bar_style='info', max=1.0), HTML(value='')))"
      ]
     },
     "metadata": {},
     "output_type": "display_data"
    },
    {
     "name": "stderr",
     "output_type": "stream",
     "text": [
      "C:\\Users\\SimonRoquette\\Anaconda3\\lib\\site-packages\\tqdm\\std.py:658: FutureWarning: The Panel class is removed from pandas. Accessing it from the top-level namespace will also be removed in the next version\n",
      "  from pandas import Panel\n"
     ]
    },
    {
     "name": "stdout",
     "output_type": "stream",
     "text": [
      "\n"
     ]
    }
   ],
   "source": [
    "import pandas as pd\n",
    "import spacy\n",
    "from spacy import displacy\n",
    "\n",
    "from tqdm import tqdm_notebook\n",
    "tqdm_notebook().pandas()\n",
    "\n",
    "nlp = spacy.load(\"en_core_web_md\")"
   ]
  },
  {
   "cell_type": "code",
   "execution_count": 91,
   "metadata": {},
   "outputs": [],
   "source": [
    "def entity_extractor(cols, song = False):\n",
    "    \"\"\"\n",
    "    Parametrable extraction\n",
    "    \"\"\"\n",
    "    ignore_entities = [\"CARDINAL\", \"MONEY\", \"ORDINAL\", \"QUANTITY\", \"TIME\"]\n",
    "    def extract_entities(row):\n",
    "        \"\"\"\n",
    "        Actual extraction\n",
    "        \"\"\"\n",
    "        entities = []\n",
    "        for col in cols:\n",
    "            if type(row[col]) == str:\n",
    "                entities += [(ent.text, ent.label_) for ent in nlp(row[col]).ents if ent.label_ not in ignore_entities]\n",
    "                \n",
    "        if song : \n",
    "            entities.append((row[\"Artist\"], \"PERSON\"))\n",
    "            entities.append((row[\"Song\"], \"WORK_OF_ART\"))\n",
    "            entities.append((row[\"Album\"], \"WORK_OF_ART\"))\n",
    "        \n",
    "        return entities\n",
    "    \n",
    "    return extract_entities"
   ]
  },
  {
   "cell_type": "code",
   "execution_count": 8,
   "metadata": {},
   "outputs": [
    {
     "data": {
      "application/vnd.jupyter.widget-view+json": {
       "model_id": "2aeca22a2eb64d8b89ea7271cafb1a26",
       "version_major": 2,
       "version_minor": 0
      },
      "text/plain": [
       "HBox(children=(FloatProgress(value=0.0, max=1115.0), HTML(value='')))"
      ]
     },
     "metadata": {},
     "output_type": "display_data"
    },
    {
     "name": "stdout",
     "output_type": "stream",
     "text": [
      "\n"
     ]
    }
   ],
   "source": [
    "extraction_cols = [\"Content\", \"Summary\"]\n",
    "df_events[\"Entities_2\"] = df_events.progress_apply(entity_extractor(extraction_cols), axis = 1)"
   ]
  },
  {
   "cell_type": "code",
   "execution_count": 9,
   "metadata": {},
   "outputs": [
    {
     "data": {
      "text/plain": [
       "29.757847533632287"
      ]
     },
     "execution_count": 9,
     "metadata": {},
     "output_type": "execute_result"
    }
   ],
   "source": [
    "df_events.Entities.apply(len).mean()"
   ]
  },
  {
   "cell_type": "code",
   "execution_count": 10,
   "metadata": {},
   "outputs": [
    {
     "data": {
      "text/plain": [
       "41.422421524663676"
      ]
     },
     "execution_count": 10,
     "metadata": {},
     "output_type": "execute_result"
    }
   ],
   "source": [
    "df_events.Entities_2.apply(len).mean()"
   ]
  },
  {
   "cell_type": "code",
   "execution_count": 93,
   "metadata": {},
   "outputs": [
    {
     "data": {
      "text/plain": [
       "16.35599843688941"
      ]
     },
     "execution_count": 93,
     "metadata": {},
     "output_type": "execute_result"
    }
   ],
   "source": [
    "df.Entities.apply(len).mean()"
   ]
  },
  {
   "cell_type": "code",
   "execution_count": 149,
   "metadata": {},
   "outputs": [
    {
     "data": {
      "application/vnd.jupyter.widget-view+json": {
       "model_id": "feb58435ac0449d79958e1ee6431fa3f",
       "version_major": 2,
       "version_minor": 0
      },
      "text/plain": [
       "HBox(children=(FloatProgress(value=0.0, max=5118.0), HTML(value='')))"
      ]
     },
     "metadata": {},
     "output_type": "display_data"
    },
    {
     "name": "stdout",
     "output_type": "stream",
     "text": [
      "\n"
     ]
    }
   ],
   "source": [
    "df[\"Entities\"] = df.progress_apply(entity_extractor([\"Lyrics\"]), axis = 1)"
   ]
  },
  {
   "cell_type": "code",
   "execution_count": null,
   "metadata": {},
   "outputs": [],
   "source": [
    "df.word_count.hist()"
   ]
  },
  {
   "cell_type": "code",
   "execution_count": 157,
   "metadata": {},
   "outputs": [],
   "source": [
    "df[\"word_count\"] = df.Lyrics.apply(lambda x : len(x.split(\" \")))"
   ]
  },
  {
   "cell_type": "code",
   "execution_count": 69,
   "metadata": {},
   "outputs": [
    {
     "data": {
      "text/plain": [
       "[(0, 4), (5, 9), (10, 14), (15, 19)]"
      ]
     },
     "execution_count": 69,
     "metadata": {},
     "output_type": "execute_result"
    }
   ],
   "source": [
    "[(m.start(), m.end()) for m in re.finditer('test', 'test test test test')]"
   ]
  },
  {
   "cell_type": "code",
   "execution_count": 154,
   "metadata": {},
   "outputs": [],
   "source": [
    "import re\n",
    "def getStartEnd_entities(row, events = False):\n",
    "    occurences = []\n",
    "    col = \"Summary\" if events else \"Lyrics_print\"\n",
    "    for ent, ent_type in set(row.Entities):\n",
    "        try:\n",
    "            occurences += [(ent, ent_type, m.start(), m.end()) for m in re.finditer(ent, row[col])]\n",
    "        except:\n",
    "            ent = re.sub('([\\[\\].,!?()\\*])', r'', ent)\n",
    "            occurences += [(ent, ent_type, m.start(), m.end())\n",
    "                           for m in re.finditer(ent, row[col])]\n",
    "    return sorted(occurences, key=lambda x : x[2])\n",
    "\n",
    "def choseEntity(row):\n",
    "    prev_end = 0\n",
    "    filteredEnts = []\n",
    "    for ent, ent_type, start, end in row[\"Entities_more\"]:\n",
    "        if prev_end > start:\n",
    "            # Entities are overlapping, forget this one\n",
    "            continue\n",
    "        filteredEnts.append((ent, ent_type, start, end))\n",
    "        prev_end = end\n",
    "    return filteredEnts"
   ]
  },
  {
   "cell_type": "code",
   "execution_count": 150,
   "metadata": {},
   "outputs": [
    {
     "data": {
      "application/vnd.jupyter.widget-view+json": {
       "model_id": "791befc1d58e4a5183d2c3e73928a0ce",
       "version_major": 2,
       "version_minor": 0
      },
      "text/plain": [
       "HBox(children=(FloatProgress(value=0.0, max=5118.0), HTML(value='')))"
      ]
     },
     "metadata": {},
     "output_type": "display_data"
    },
    {
     "name": "stdout",
     "output_type": "stream",
     "text": [
      "\n"
     ]
    },
    {
     "data": {
      "application/vnd.jupyter.widget-view+json": {
       "model_id": "af39684182bf4932acd72903e74fcaf7",
       "version_major": 2,
       "version_minor": 0
      },
      "text/plain": [
       "HBox(children=(FloatProgress(value=0.0, max=5118.0), HTML(value='')))"
      ]
     },
     "metadata": {},
     "output_type": "display_data"
    },
    {
     "name": "stdout",
     "output_type": "stream",
     "text": [
      "\n"
     ]
    }
   ],
   "source": [
    "df[\"Entities_more\"] = df.progress_apply(getStartEnd_entities, axis = 1)\n",
    "df[\"Entities_more\"] = df.progress_apply(choseEntity, axis = 1)"
   ]
  },
  {
   "cell_type": "code",
   "execution_count": 155,
   "metadata": {},
   "outputs": [
    {
     "data": {
      "application/vnd.jupyter.widget-view+json": {
       "model_id": "8f75ac8678bd41cb84445eb01b945312",
       "version_major": 2,
       "version_minor": 0
      },
      "text/plain": [
       "HBox(children=(FloatProgress(value=0.0, max=1115.0), HTML(value='')))"
      ]
     },
     "metadata": {},
     "output_type": "display_data"
    },
    {
     "name": "stdout",
     "output_type": "stream",
     "text": [
      "\n"
     ]
    },
    {
     "data": {
      "application/vnd.jupyter.widget-view+json": {
       "model_id": "bfd532eeccdf4b61801fa5dff11de8b8",
       "version_major": 2,
       "version_minor": 0
      },
      "text/plain": [
       "HBox(children=(FloatProgress(value=0.0, max=1115.0), HTML(value='')))"
      ]
     },
     "metadata": {},
     "output_type": "display_data"
    },
    {
     "name": "stdout",
     "output_type": "stream",
     "text": [
      "\n"
     ]
    }
   ],
   "source": [
    "df_events[\"Entities_more\"] = df_events.progress_apply(getStartEnd_entities, axis = 1)\n",
    "df_events[\"Entities_more\"] = df_events.progress_apply(choseEntity, axis = 1)"
   ]
  },
  {
   "cell_type": "code",
   "execution_count": 162,
   "metadata": {},
   "outputs": [],
   "source": [
    "def find_refs(song_rows):\n",
    "    refs = []\n",
    "    for entity, label in song_rows.Entities:\n",
    "        entity = entity.lower()\n",
    "        for i, row in df_events.Entities.iteritems():\n",
    "            ents_lower = [ent.lower() for ent, lab in row]\n",
    "            if any([entity.lower() in low_ent or low_ent in entity for low_ent in ents_lower]):\n",
    "                refs.append(i)\n",
    "    return refs"
   ]
  },
  {
   "cell_type": "code",
   "execution_count": 163,
   "metadata": {},
   "outputs": [
    {
     "data": {
      "application/vnd.jupyter.widget-view+json": {
       "model_id": "bb78ff1a85fe45fb81ee0ac1c0894472",
       "version_major": 2,
       "version_minor": 0
      },
      "text/plain": [
       "HBox(children=(FloatProgress(value=0.0, max=5118.0), HTML(value='')))"
      ]
     },
     "metadata": {},
     "output_type": "display_data"
    },
    {
     "name": "stdout",
     "output_type": "stream",
     "text": [
      "\n"
     ]
    }
   ],
   "source": [
    "\"\"\"\n",
    "Add references to events in songs\n",
    "\"\"\"\n",
    "df[\"Refs\"] = df.progress_apply(find_refs, axis = 1)\n",
    "df[\"Refs\"] = df[\"Refs\"].apply(set)"
   ]
  },
  {
   "cell_type": "code",
   "execution_count": null,
   "metadata": {},
   "outputs": [],
   "source": [
    "df.filteredRefs"
   ]
  },
  {
   "cell_type": "code",
   "execution_count": 164,
   "metadata": {},
   "outputs": [
    {
     "name": "stderr",
     "output_type": "stream",
     "text": [
      "C:\\Users\\SimonRoquette\\Anaconda3\\lib\\site-packages\\ipykernel_launcher.py:5: TqdmDeprecationWarning: This function will be removed in tqdm==5.0.0\n",
      "Please use `tqdm.notebook.tqdm` instead of `tqdm.tqdm_notebook`\n",
      "  \"\"\"\n"
     ]
    },
    {
     "data": {
      "application/vnd.jupyter.widget-view+json": {
       "model_id": "8d5a38d289234949a97415e0bceb1d48",
       "version_major": 2,
       "version_minor": 0
      },
      "text/plain": [
       "HBox(children=(FloatProgress(value=1.0, bar_style='info', max=1.0), HTML(value='')))"
      ]
     },
     "metadata": {},
     "output_type": "display_data"
    },
    {
     "name": "stdout",
     "output_type": "stream",
     "text": [
      "\n"
     ]
    }
   ],
   "source": [
    "\"\"\"\n",
    "Add references to songs in events\n",
    "\"\"\"\n",
    "df_events[\"Refs\"] = [[] for i in range(len(df_events))]\n",
    "for i_song, refs in tqdm_notebook(df[\"Refs\"].iteritems()):\n",
    "    for i_event in refs:\n",
    "        df_events.iloc[i_event][\"Refs\"].append(i_song)\n",
    "        \n",
    "df_events[\"Refs\"] = df_events[\"Refs\"].apply(set)"
   ]
  },
  {
   "cell_type": "code",
   "execution_count": null,
   "metadata": {},
   "outputs": [],
   "source": [
    "df[\"Refs\"].apply(len)"
   ]
  },
  {
   "cell_type": "code",
   "execution_count": null,
   "metadata": {},
   "outputs": [],
   "source": [
    "df.xs(4971).Lyrics"
   ]
  },
  {
   "cell_type": "code",
   "execution_count": null,
   "metadata": {},
   "outputs": [],
   "source": [
    "s = dict()\n",
    "for ents in df.Entities.apply(lambda x : [e[0] for e in x]).values:\n",
    "    for ent in ents :\n",
    "        if ent in s:\n",
    "            s[ent] +=1\n",
    "        else :\n",
    "            s[ent] = 1"
   ]
  },
  {
   "cell_type": "code",
   "execution_count": null,
   "metadata": {},
   "outputs": [],
   "source": [
    "s = {k: v for k, v in sorted(s.items(), key=lambda item: item[1], reverse=True)}"
   ]
  },
  {
   "cell_type": "code",
   "execution_count": null,
   "metadata": {},
   "outputs": [],
   "source": [
    "\"\"\"\n",
    "See the all the types of entities recognized\n",
    "\"\"\"\n",
    "\n",
    "ent_types = set()\n",
    "for s in df[\"Entities\"].apply(lambda x : set([e[1] for e in x])):\n",
    "    for ent in s:\n",
    "        ent_types.add(ent)\n",
    "ent_types"
   ]
  },
  {
   "cell_type": "code",
   "execution_count": null,
   "metadata": {},
   "outputs": [],
   "source": [
    "# df.to_csv(\"songs_with_refs.csv\")\n",
    "# df_events.to_csv(\"events_with_refs.csv\")"
   ]
  },
  {
   "cell_type": "code",
   "execution_count": 208,
   "metadata": {},
   "outputs": [],
   "source": [
    "# with open(\"datasets/songs_with_refs.pickle\", \"wb\") as f :\n",
    "#     pickle.dump(df, f, pickle.HIGHEST_PROTOCOL)\n",
    "    \n",
    "# with open(\"datasets/events_with_refs.pickle\", \"wb\") as f :\n",
    "#     pickle.dump(df_events, f, pickle.HIGHEST_PROTOCOL)"
   ]
  },
  {
   "cell_type": "markdown",
   "metadata": {},
   "source": [
    "# Load refs"
   ]
  },
  {
   "cell_type": "code",
   "execution_count": 14,
   "metadata": {},
   "outputs": [],
   "source": [
    "with open(\"datasets/songs_with_refs.pickle\", \"rb\") as f :\n",
    "    df = pickle.load(f)\n",
    "    \n",
    "with open(\"datasets/events_with_refs.pickle\", \"rb\") as f :\n",
    "    df_events = pickle.load(f)"
   ]
  },
  {
   "cell_type": "code",
   "execution_count": 87,
   "metadata": {},
   "outputs": [
    {
     "data": {
      "text/html": [
       "<div>\n",
       "<style scoped>\n",
       "    .dataframe tbody tr th:only-of-type {\n",
       "        vertical-align: middle;\n",
       "    }\n",
       "\n",
       "    .dataframe tbody tr th {\n",
       "        vertical-align: top;\n",
       "    }\n",
       "\n",
       "    .dataframe thead th {\n",
       "        text-align: right;\n",
       "    }\n",
       "</style>\n",
       "<table border=\"1\" class=\"dataframe\">\n",
       "  <thead>\n",
       "    <tr style=\"text-align: right;\">\n",
       "      <th></th>\n",
       "      <th>Rank</th>\n",
       "      <th>Song</th>\n",
       "      <th>Artist</th>\n",
       "      <th>Year</th>\n",
       "      <th>Lyrics</th>\n",
       "      <th>Genre</th>\n",
       "      <th>Album</th>\n",
       "      <th>Refs</th>\n",
       "      <th>word_count</th>\n",
       "      <th>vect</th>\n",
       "      <th>sims</th>\n",
       "      <th>filteredRefs</th>\n",
       "      <th>Lyrics_print</th>\n",
       "      <th>Entities</th>\n",
       "    </tr>\n",
       "  </thead>\n",
       "  <tbody>\n",
       "    <tr>\n",
       "      <th>1044</th>\n",
       "      <td>41</td>\n",
       "      <td>Listen to what the man said</td>\n",
       "      <td>Wings</td>\n",
       "      <td>1975</td>\n",
       "      <td>All right ,  okay ,  he-he-he Very good to see...</td>\n",
       "      <td>Rock</td>\n",
       "      <td>Venus And Mars</td>\n",
       "      <td>{}</td>\n",
       "      <td>177</td>\n",
       "      <td>[0.09184183925390244, -0.9644627571105957, -0....</td>\n",
       "      <td>[0.919452421458788, 0.9557877725117744, 0.9023...</td>\n",
       "      <td>[]</td>\n",
       "      <td>All right, okay, he-he-he\\r\\nVery good to see ...</td>\n",
       "      <td>[(New Orleans, GPE), (blindWell, PERSON)]</td>\n",
       "    </tr>\n",
       "    <tr>\n",
       "      <th>1104</th>\n",
       "      <td>1</td>\n",
       "      <td>Silly love songs</td>\n",
       "      <td>Wings</td>\n",
       "      <td>1976</td>\n",
       "      <td>You'd think that people would've had enough of...</td>\n",
       "      <td>Classic Rock</td>\n",
       "      <td>Wings At The Speed Of Sound</td>\n",
       "      <td>{}</td>\n",
       "      <td>356</td>\n",
       "      <td>[0.9979954957962036, -0.9818665981292725, -0.7...</td>\n",
       "      <td>[0.9473304240175289, 0.9037747111017586, 0.944...</td>\n",
       "      <td>[]</td>\n",
       "      <td>You'd think that people would've had enough of...</td>\n",
       "      <td>[(againI, PERSON), (againI, PERSON), (allHow, ...</td>\n",
       "    </tr>\n",
       "    <tr>\n",
       "      <th>1170</th>\n",
       "      <td>67</td>\n",
       "      <td>Let em in</td>\n",
       "      <td>Wings</td>\n",
       "      <td>1976</td>\n",
       "      <td>Someone knockin' at the door Somebody ringin' ...</td>\n",
       "      <td>Rock</td>\n",
       "      <td>Let Em In</td>\n",
       "      <td>{0, 512, 513, 5, 1033, 1034, 12, 525, 1041, 19...</td>\n",
       "      <td>161</td>\n",
       "      <td>[0.9771664142608643, -0.9817811250686646, -0.1...</td>\n",
       "      <td>[0.9666354500279337, 0.9205098334261539, 0.968...</td>\n",
       "      <td>[0, 513, 1034, 531, 1047, 543, 32, 38, 549, 10...</td>\n",
       "      <td>Someone knockin' at the door\\r\\nSomebody ringi...</td>\n",
       "      <td>[(Suzy, PERSON), (JohnMartin Luther, PERSON), ...</td>\n",
       "    </tr>\n",
       "    <tr>\n",
       "      <th>1321</th>\n",
       "      <td>18</td>\n",
       "      <td>With a little luck</td>\n",
       "      <td>Wings</td>\n",
       "      <td>1978</td>\n",
       "      <td>With a little luck we can help it out We can m...</td>\n",
       "      <td>Pop</td>\n",
       "      <td>All The Best</td>\n",
       "      <td>{}</td>\n",
       "      <td>390</td>\n",
       "      <td>[0.1736101657152176, -0.973969578742981, -0.24...</td>\n",
       "      <td>[0.9556965141341748, 0.9533317280316723, 0.961...</td>\n",
       "      <td>[]</td>\n",
       "      <td>With a little luck we can help it out\\r\\nWe ca...</td>\n",
       "      <td>[(end(There, PERSON), (end(There, PERSON), (lu...</td>\n",
       "    </tr>\n",
       "    <tr>\n",
       "      <th>1456</th>\n",
       "      <td>52</td>\n",
       "      <td>Goodnight tonight</td>\n",
       "      <td>Wings</td>\n",
       "      <td>1979</td>\n",
       "      <td>Ooh Ooh Ooh ,  oooh  Don't get too tired for l...</td>\n",
       "      <td>Rock</td>\n",
       "      <td>Goodnight Tonight</td>\n",
       "      <td>{}</td>\n",
       "      <td>157</td>\n",
       "      <td>[0.8664616346359253, -0.9701489210128784, -0.5...</td>\n",
       "      <td>[0.8957604971886108, 0.9092488375300588, 0.871...</td>\n",
       "      <td>[]</td>\n",
       "      <td>Ooh\\r\\nOoh\\r\\nOoh, oooh\\r\\n\\r\\nDon't get too t...</td>\n",
       "      <td>[(ooohDon't, ORG), (loveDon't, PERSON), (endDo...</td>\n",
       "    </tr>\n",
       "  </tbody>\n",
       "</table>\n",
       "</div>"
      ],
      "text/plain": [
       "      Rank                         Song Artist  Year  \\\n",
       "1044    41  Listen to what the man said  Wings  1975   \n",
       "1104     1             Silly love songs  Wings  1976   \n",
       "1170    67                    Let em in  Wings  1976   \n",
       "1321    18           With a little luck  Wings  1978   \n",
       "1456    52            Goodnight tonight  Wings  1979   \n",
       "\n",
       "                                                 Lyrics         Genre  \\\n",
       "1044  All right ,  okay ,  he-he-he Very good to see...          Rock   \n",
       "1104  You'd think that people would've had enough of...  Classic Rock   \n",
       "1170  Someone knockin' at the door Somebody ringin' ...          Rock   \n",
       "1321  With a little luck we can help it out We can m...           Pop   \n",
       "1456  Ooh Ooh Ooh ,  oooh  Don't get too tired for l...          Rock   \n",
       "\n",
       "                            Album  \\\n",
       "1044               Venus And Mars   \n",
       "1104  Wings At The Speed Of Sound   \n",
       "1170                    Let Em In   \n",
       "1321                 All The Best   \n",
       "1456            Goodnight Tonight   \n",
       "\n",
       "                                                   Refs  word_count  \\\n",
       "1044                                                 {}         177   \n",
       "1104                                                 {}         356   \n",
       "1170  {0, 512, 513, 5, 1033, 1034, 12, 525, 1041, 19...         161   \n",
       "1321                                                 {}         390   \n",
       "1456                                                 {}         157   \n",
       "\n",
       "                                                   vect  \\\n",
       "1044  [0.09184183925390244, -0.9644627571105957, -0....   \n",
       "1104  [0.9979954957962036, -0.9818665981292725, -0.7...   \n",
       "1170  [0.9771664142608643, -0.9817811250686646, -0.1...   \n",
       "1321  [0.1736101657152176, -0.973969578742981, -0.24...   \n",
       "1456  [0.8664616346359253, -0.9701489210128784, -0.5...   \n",
       "\n",
       "                                                   sims  \\\n",
       "1044  [0.919452421458788, 0.9557877725117744, 0.9023...   \n",
       "1104  [0.9473304240175289, 0.9037747111017586, 0.944...   \n",
       "1170  [0.9666354500279337, 0.9205098334261539, 0.968...   \n",
       "1321  [0.9556965141341748, 0.9533317280316723, 0.961...   \n",
       "1456  [0.8957604971886108, 0.9092488375300588, 0.871...   \n",
       "\n",
       "                                           filteredRefs  \\\n",
       "1044                                                 []   \n",
       "1104                                                 []   \n",
       "1170  [0, 513, 1034, 531, 1047, 543, 32, 38, 549, 10...   \n",
       "1321                                                 []   \n",
       "1456                                                 []   \n",
       "\n",
       "                                           Lyrics_print  \\\n",
       "1044  All right, okay, he-he-he\\r\\nVery good to see ...   \n",
       "1104  You'd think that people would've had enough of...   \n",
       "1170  Someone knockin' at the door\\r\\nSomebody ringi...   \n",
       "1321  With a little luck we can help it out\\r\\nWe ca...   \n",
       "1456  Ooh\\r\\nOoh\\r\\nOoh, oooh\\r\\n\\r\\nDon't get too t...   \n",
       "\n",
       "                                               Entities  \n",
       "1044          [(New Orleans, GPE), (blindWell, PERSON)]  \n",
       "1104  [(againI, PERSON), (againI, PERSON), (allHow, ...  \n",
       "1170  [(Suzy, PERSON), (JohnMartin Luther, PERSON), ...  \n",
       "1321  [(end(There, PERSON), (end(There, PERSON), (lu...  \n",
       "1456  [(ooohDon't, ORG), (loveDon't, PERSON), (endDo...  "
      ]
     },
     "execution_count": 87,
     "metadata": {},
     "output_type": "execute_result"
    }
   ],
   "source": [
    "df[df.Artist == \"Wings\"]"
   ]
  },
  {
   "cell_type": "code",
   "execution_count": null,
   "metadata": {},
   "outputs": [],
   "source": [
    "from gensim.models.doc2vec import Doc2Vec, TaggedDocument\n",
    "\n",
    "all_docs = np.concatenate((df.Lyrics.fillna(\"\"), df_events.Content.fillna(\"\")))\n",
    "\n",
    "documents = [TaggedDocument(doc.split(\" \"), [i]) for i, doc in enumerate(all_docs)]\n",
    "model = Doc2Vec(documents, vector_size=300, window=4, min_count=1, workers=4, epochs = 10, dbow_words = 1)"
   ]
  },
  {
   "cell_type": "code",
   "execution_count": null,
   "metadata": {},
   "outputs": [],
   "source": [
    "lyrics2events_sim = []\n",
    "for i in tqdm_notebook(range(len(df))):\n",
    "    sims = model.docvecs.most_similar(positive = [model.docvecs[i]], topn=100, clip_start=len(df))[1:]\n",
    "    sims = [x for x in sims if (x[0] - len(df)) in df.xs(i).Refs]\n",
    "    sims_refs = sorted(sims, key = lambda x : x[1], reverse=True)[:10]\n",
    "    lyrics2events_sim.append(sims_refs)\n",
    "df[\"Similar\"] = lyrics2events_sim"
   ]
  },
  {
   "cell_type": "code",
   "execution_count": null,
   "metadata": {
    "scrolled": true
   },
   "outputs": [],
   "source": [
    "df[df.Similar.apply(len) > 0].head()"
   ]
  },
  {
   "cell_type": "markdown",
   "metadata": {},
   "source": [
    "## BERT"
   ]
  },
  {
   "cell_type": "code",
   "execution_count": 169,
   "metadata": {},
   "outputs": [
    {
     "name": "stderr",
     "output_type": "stream",
     "text": [
      "C:\\Users\\SimonRoquette\\Anaconda3\\lib\\site-packages\\tensorflow\\python\\framework\\dtypes.py:526: FutureWarning: Passing (type, 1) or '1type' as a synonym of type is deprecated; in a future version of numpy, it will be understood as (type, (1,)) / '(1,)type'.\n",
      "  _np_qint8 = np.dtype([(\"qint8\", np.int8, 1)])\n",
      "C:\\Users\\SimonRoquette\\Anaconda3\\lib\\site-packages\\tensorflow\\python\\framework\\dtypes.py:527: FutureWarning: Passing (type, 1) or '1type' as a synonym of type is deprecated; in a future version of numpy, it will be understood as (type, (1,)) / '(1,)type'.\n",
      "  _np_quint8 = np.dtype([(\"quint8\", np.uint8, 1)])\n",
      "C:\\Users\\SimonRoquette\\Anaconda3\\lib\\site-packages\\tensorflow\\python\\framework\\dtypes.py:528: FutureWarning: Passing (type, 1) or '1type' as a synonym of type is deprecated; in a future version of numpy, it will be understood as (type, (1,)) / '(1,)type'.\n",
      "  _np_qint16 = np.dtype([(\"qint16\", np.int16, 1)])\n",
      "C:\\Users\\SimonRoquette\\Anaconda3\\lib\\site-packages\\tensorflow\\python\\framework\\dtypes.py:529: FutureWarning: Passing (type, 1) or '1type' as a synonym of type is deprecated; in a future version of numpy, it will be understood as (type, (1,)) / '(1,)type'.\n",
      "  _np_quint16 = np.dtype([(\"quint16\", np.uint16, 1)])\n",
      "C:\\Users\\SimonRoquette\\Anaconda3\\lib\\site-packages\\tensorflow\\python\\framework\\dtypes.py:530: FutureWarning: Passing (type, 1) or '1type' as a synonym of type is deprecated; in a future version of numpy, it will be understood as (type, (1,)) / '(1,)type'.\n",
      "  _np_qint32 = np.dtype([(\"qint32\", np.int32, 1)])\n",
      "C:\\Users\\SimonRoquette\\Anaconda3\\lib\\site-packages\\tensorflow\\python\\framework\\dtypes.py:535: FutureWarning: Passing (type, 1) or '1type' as a synonym of type is deprecated; in a future version of numpy, it will be understood as (type, (1,)) / '(1,)type'.\n",
      "  np_resource = np.dtype([(\"resource\", np.ubyte, 1)])\n"
     ]
    }
   ],
   "source": [
    "from transformers import AlbertModel, AlbertTokenizer\n",
    "from tqdm import tqdm_notebook\n",
    "import torch\n",
    "\n",
    "tokenizer = AlbertTokenizer.from_pretrained('albert-large-v2')\n",
    "model = AlbertModel.from_pretrained('albert-large-v2')\n",
    "input_ids = torch.tensor(tokenizer.encode(\"Hello, my dog is cute\", add_special_tokens=True)).unsqueeze(0)  # Batch size 1\n",
    "outputs = model(input_ids)\n",
    "last_hidden_states = outputs[0]  # The last hidden-state is the first element of the output tuple"
   ]
  },
  {
   "cell_type": "code",
   "execution_count": 170,
   "metadata": {},
   "outputs": [],
   "source": [
    "if torch.cuda.is_available():  \n",
    "    dev = \"cuda:0\"\n",
    "    model.cuda()\n",
    "else:  \n",
    "    dev = \"cpu\"  \n",
    "device = torch.device(dev)  \n",
    "None"
   ]
  },
  {
   "cell_type": "markdown",
   "metadata": {},
   "source": [
    "### Vectorize lyrics"
   ]
  },
  {
   "cell_type": "code",
   "execution_count": 175,
   "metadata": {},
   "outputs": [],
   "source": [
    "df[\"word_count\"] = df[\"Lyrics\"].apply(lambda x : len(x.split(\" \")))"
   ]
  },
  {
   "cell_type": "code",
   "execution_count": 176,
   "metadata": {},
   "outputs": [],
   "source": [
    "lyrics_tokenized = torch.Tensor(tokenizer.batch_encode_plus(df.Lyrics,\n",
    "                                                            max_length =512,\n",
    "                                                           pad_to_max_length=True,\n",
    "                                                           padding_side = \"right\",\n",
    "                                                           add_special_tokens=True)[\"input_ids\"]).long()"
   ]
  },
  {
   "cell_type": "code",
   "execution_count": 177,
   "metadata": {},
   "outputs": [
    {
     "name": "stderr",
     "output_type": "stream",
     "text": [
      "C:\\Users\\SimonRoquette\\Anaconda3\\lib\\site-packages\\ipykernel_launcher.py:4: TqdmDeprecationWarning: This function will be removed in tqdm==5.0.0\n",
      "Please use `tqdm.notebook.tqdm` instead of `tqdm.tqdm_notebook`\n",
      "  after removing the cwd from sys.path.\n"
     ]
    },
    {
     "data": {
      "application/vnd.jupyter.widget-view+json": {
       "model_id": "8f4ea3ae2c7a460b9d7a9fca7167d28b",
       "version_major": 2,
       "version_minor": 0
      },
      "text/plain": [
       "HBox(children=(FloatProgress(value=0.0, max=640.0), HTML(value='')))"
      ]
     },
     "metadata": {},
     "output_type": "display_data"
    },
    {
     "name": "stdout",
     "output_type": "stream",
     "text": [
      "\n"
     ]
    }
   ],
   "source": [
    "lyrics_vectorized = []\n",
    "batch_size = 8\n",
    "with torch.no_grad():\n",
    "    for i in tqdm_notebook(range(0, len(df), batch_size)):\n",
    "        batch = lyrics_tokenized[i: min(i + batch_size, len(df))].to(device)\n",
    "        lyrics_vectorized.append(model(batch)[1].tolist())\n",
    "        del batch\n",
    "        torch.cuda.empty_cache()"
   ]
  },
  {
   "cell_type": "code",
   "execution_count": 181,
   "metadata": {},
   "outputs": [],
   "source": [
    "lyrics_vectors = []\n",
    "for batch_lyrics in lyrics_vectorized:\n",
    "    for lyric in batch_lyrics:\n",
    "        lyrics_vectors.append(lyric)\n",
    "        \n",
    "df[\"vect\"] = lyrics_vectors"
   ]
  },
  {
   "cell_type": "markdown",
   "metadata": {},
   "source": [
    "### Vectorize events"
   ]
  },
  {
   "cell_type": "code",
   "execution_count": 178,
   "metadata": {},
   "outputs": [],
   "source": [
    "df_events[\"text_vect\"] = df_events.Summary.fillna(df_events.Content)\n",
    "df_events[\"word_count\"] = df_events[\"text_vect\"].apply(lambda x : len(x.split(\" \")))\n",
    "df_events[\"text_vect\"] = np.where(df_events[\"word_count\"] > 320, df_events.Content, df_events[\"text_vect\"])\n",
    "df_events[\"word_count\"] = df_events[\"text_vect\"].apply(lambda x : len(x.split(\" \")))"
   ]
  },
  {
   "cell_type": "code",
   "execution_count": 179,
   "metadata": {},
   "outputs": [],
   "source": [
    "events_tokenized = torch.Tensor(tokenizer.batch_encode_plus(df_events.text_vect,\n",
    "                                                            max_length =512,\n",
    "                                                           pad_to_max_length=True,\n",
    "                                                           padding_side = \"right\",\n",
    "                                                           add_special_tokens=True)[\"input_ids\"]).long()"
   ]
  },
  {
   "cell_type": "code",
   "execution_count": 180,
   "metadata": {},
   "outputs": [
    {
     "name": "stderr",
     "output_type": "stream",
     "text": [
      "C:\\Users\\SimonRoquette\\Anaconda3\\lib\\site-packages\\ipykernel_launcher.py:4: TqdmDeprecationWarning: This function will be removed in tqdm==5.0.0\n",
      "Please use `tqdm.notebook.tqdm` instead of `tqdm.tqdm_notebook`\n",
      "  after removing the cwd from sys.path.\n"
     ]
    },
    {
     "data": {
      "application/vnd.jupyter.widget-view+json": {
       "model_id": "f16480aaedbf41a785fbfacae00bce71",
       "version_major": 2,
       "version_minor": 0
      },
      "text/plain": [
       "HBox(children=(FloatProgress(value=0.0, max=140.0), HTML(value='')))"
      ]
     },
     "metadata": {},
     "output_type": "display_data"
    },
    {
     "name": "stdout",
     "output_type": "stream",
     "text": [
      "\n"
     ]
    }
   ],
   "source": [
    "events_vectorized = []\n",
    "batch_size = 8\n",
    "with torch.no_grad():\n",
    "    for i in tqdm_notebook(range(0, len(df_events), batch_size)):\n",
    "        batch = events_tokenized[i: min(i + batch_size, len(df_events))].to(device)\n",
    "        events_vectorized.append(model(batch)[1].tolist())\n",
    "        del batch\n",
    "        torch.cuda.empty_cache()"
   ]
  },
  {
   "cell_type": "code",
   "execution_count": 184,
   "metadata": {},
   "outputs": [],
   "source": [
    "events_vectors = []\n",
    "for batch_events in events_vectorized:\n",
    "    for event in batch_events:\n",
    "        events_vectors.append(event)\n",
    "        \n",
    "df_events[\"vect\"] = events_vectors"
   ]
  },
  {
   "cell_type": "markdown",
   "metadata": {},
   "source": [
    "------"
   ]
  },
  {
   "cell_type": "code",
   "execution_count": 148,
   "metadata": {},
   "outputs": [],
   "source": [
    "df[\"Lyrics_print\"] = tmp_songs.Lyrics\n",
    "df.Lyrics = df.Lyrics_print.apply(lambda x : x.replace(\"\\r\\n\", \" \"))\n",
    "df.Lyrics = df.Lyrics.apply(lambda s : re.sub('([.,!?()])', r' \\1 ', s))"
   ]
  },
  {
   "cell_type": "code",
   "execution_count": 145,
   "metadata": {},
   "outputs": [
    {
     "data": {
      "text/html": [
       "<div>\n",
       "<style scoped>\n",
       "    .dataframe tbody tr th:only-of-type {\n",
       "        vertical-align: middle;\n",
       "    }\n",
       "\n",
       "    .dataframe tbody tr th {\n",
       "        vertical-align: top;\n",
       "    }\n",
       "\n",
       "    .dataframe thead th {\n",
       "        text-align: right;\n",
       "    }\n",
       "</style>\n",
       "<table border=\"1\" class=\"dataframe\">\n",
       "  <thead>\n",
       "    <tr style=\"text-align: right;\">\n",
       "      <th></th>\n",
       "      <th>Unnamed: 0.1</th>\n",
       "      <th>Rank</th>\n",
       "      <th>Song</th>\n",
       "      <th>Artist</th>\n",
       "      <th>Year</th>\n",
       "      <th>Lyrics</th>\n",
       "      <th>Genre</th>\n",
       "      <th>Album</th>\n",
       "      <th>Youtube</th>\n",
       "    </tr>\n",
       "  </thead>\n",
       "  <tbody>\n",
       "    <tr>\n",
       "      <th>0</th>\n",
       "      <td>0</td>\n",
       "      <td>1</td>\n",
       "      <td>wooly bully</td>\n",
       "      <td>sam the sham and the pharaohs</td>\n",
       "      <td>1965</td>\n",
       "      <td>Uno, dos\\r\\nOne, two, tres, quatro\\r\\nMatty to...</td>\n",
       "      <td>rock</td>\n",
       "      <td>wooly bully</td>\n",
       "      <td>https://www.youtube.com/watch?v=uE_MpQhgtQ8</td>\n",
       "    </tr>\n",
       "    <tr>\n",
       "      <th>1</th>\n",
       "      <td>1</td>\n",
       "      <td>2</td>\n",
       "      <td>i cant help myself sugar pie honey bunch</td>\n",
       "      <td>four tops</td>\n",
       "      <td>1965</td>\n",
       "      <td>Uuh\\r\\nSugar pie, honey bunch\\r\\nYou know that...</td>\n",
       "      <td>r&amp;b soul</td>\n",
       "      <td>greatest hits in concert</td>\n",
       "      <td>https://www.youtube.com/watch?v=s3bksUSPB4c</td>\n",
       "    </tr>\n",
       "    <tr>\n",
       "      <th>2</th>\n",
       "      <td>2</td>\n",
       "      <td>3</td>\n",
       "      <td>i cant get no satisfaction</td>\n",
       "      <td>the rolling stones</td>\n",
       "      <td>1965</td>\n",
       "      <td>I can't get no satisfaction\\r\\nI can't get no ...</td>\n",
       "      <td>rock</td>\n",
       "      <td>out of our heads</td>\n",
       "      <td>https://www.youtube.com/watch?v=nrIPxlFzDi0</td>\n",
       "    </tr>\n",
       "    <tr>\n",
       "      <th>3</th>\n",
       "      <td>3</td>\n",
       "      <td>4</td>\n",
       "      <td>you were on my mind</td>\n",
       "      <td>we five</td>\n",
       "      <td>1965</td>\n",
       "      <td>When I woke up this morning\\r\\nYou were on my ...</td>\n",
       "      <td>folk</td>\n",
       "      <td>love me not tomorrow</td>\n",
       "      <td>https://www.youtube.com/watch?v=fPbXphLLUjg</td>\n",
       "    </tr>\n",
       "    <tr>\n",
       "      <th>4</th>\n",
       "      <td>4</td>\n",
       "      <td>5</td>\n",
       "      <td>youve lost that lovin feelin</td>\n",
       "      <td>the righteous brothers</td>\n",
       "      <td>1965</td>\n",
       "      <td>You never close your eyes anymore when I kiss ...</td>\n",
       "      <td>r&amp;b soul</td>\n",
       "      <td>top gun</td>\n",
       "      <td>https://www.youtube.com/watch?v=uOnYY9Mw2Fg</td>\n",
       "    </tr>\n",
       "  </tbody>\n",
       "</table>\n",
       "</div>"
      ],
      "text/plain": [
       "   Unnamed: 0.1  Rank                                      Song  \\\n",
       "0             0     1                               wooly bully   \n",
       "1             1     2  i cant help myself sugar pie honey bunch   \n",
       "2             2     3                i cant get no satisfaction   \n",
       "3             3     4                       you were on my mind   \n",
       "4             4     5              youve lost that lovin feelin   \n",
       "\n",
       "                          Artist  Year  \\\n",
       "0  sam the sham and the pharaohs  1965   \n",
       "1                      four tops  1965   \n",
       "2             the rolling stones  1965   \n",
       "3                        we five  1965   \n",
       "4         the righteous brothers  1965   \n",
       "\n",
       "                                              Lyrics     Genre  \\\n",
       "0  Uno, dos\\r\\nOne, two, tres, quatro\\r\\nMatty to...      rock   \n",
       "1  Uuh\\r\\nSugar pie, honey bunch\\r\\nYou know that...  r&b soul   \n",
       "2  I can't get no satisfaction\\r\\nI can't get no ...      rock   \n",
       "3  When I woke up this morning\\r\\nYou were on my ...      folk   \n",
       "4  You never close your eyes anymore when I kiss ...  r&b soul   \n",
       "\n",
       "                      Album                                      Youtube  \n",
       "0               wooly bully  https://www.youtube.com/watch?v=uE_MpQhgtQ8  \n",
       "1  greatest hits in concert  https://www.youtube.com/watch?v=s3bksUSPB4c  \n",
       "2          out of our heads  https://www.youtube.com/watch?v=nrIPxlFzDi0  \n",
       "3      love me not tomorrow  https://www.youtube.com/watch?v=fPbXphLLUjg  \n",
       "4                   top gun  https://www.youtube.com/watch?v=uOnYY9Mw2Fg  "
      ]
     },
     "execution_count": 145,
     "metadata": {},
     "output_type": "execute_result"
    }
   ],
   "source": [
    "# tmp_events = pd.read_csv(\"datasets/events/events_full.csv\", index_col=0, sep=\",\")\n",
    "# tmp_events.head()\n",
    "# tmp_songs = pd.read_csv(\"datasets/songs/billboard_full.csv\", index_col=0)\n",
    "# tmp_songs.head()"
   ]
  },
  {
   "cell_type": "markdown",
   "metadata": {},
   "source": [
    "# Similarity"
   ]
  },
  {
   "cell_type": "code",
   "execution_count": 185,
   "metadata": {},
   "outputs": [],
   "source": [
    "from sklearn.metrics.pairwise import cosine_similarity\n",
    "from sklearn.metrics.pairwise import euclidean_distances"
   ]
  },
  {
   "cell_type": "code",
   "execution_count": 186,
   "metadata": {},
   "outputs": [],
   "source": [
    "sim = cosine_similarity(df[\"vect\"].tolist(), df_events[\"vect\"].tolist())"
   ]
  },
  {
   "cell_type": "code",
   "execution_count": 195,
   "metadata": {},
   "outputs": [
    {
     "data": {
      "text/plain": [
       "<matplotlib.axes._subplots.AxesSubplot at 0x2ec70ea2ec8>"
      ]
     },
     "execution_count": 195,
     "metadata": {},
     "output_type": "execute_result"
    },
    {
     "data": {
      "image/png": "[encoded data removed]",
      "text/plain": [
       "<Figure size 432x288 with 1 Axes>"
      ]
     },
     "metadata": {
      "needs_background": "light"
     },
     "output_type": "display_data"
    }
   ],
   "source": [
    "df.filteredRefs.apply(len).hist()"
   ]
  },
  {
   "cell_type": "code",
   "execution_count": 187,
   "metadata": {},
   "outputs": [],
   "source": [
    "def filterRefs(row):\n",
    "    filteredRefs = []\n",
    "    for ref in row[\"Refs\"]:\n",
    "        if row[\"sims\"][ref] > 0.94:\n",
    "            filteredRefs.append(ref)\n",
    "    return filteredRefs\n",
    "\n",
    "df[\"filteredRefs\"] = df.apply(filterRefs, axis = 1)"
   ]
  },
  {
   "cell_type": "code",
   "execution_count": 188,
   "metadata": {},
   "outputs": [
    {
     "name": "stderr",
     "output_type": "stream",
     "text": [
      "C:\\Users\\SimonRoquette\\Anaconda3\\lib\\site-packages\\ipykernel_launcher.py:5: TqdmDeprecationWarning: This function will be removed in tqdm==5.0.0\n",
      "Please use `tqdm.notebook.tqdm` instead of `tqdm.tqdm_notebook`\n",
      "  \"\"\"\n"
     ]
    },
    {
     "data": {
      "application/vnd.jupyter.widget-view+json": {
       "model_id": "34f18ef3cfec48cc9efbca4a6d0a1f97",
       "version_major": 2,
       "version_minor": 0
      },
      "text/plain": [
       "HBox(children=(FloatProgress(value=1.0, bar_style='info', max=1.0), HTML(value='')))"
      ]
     },
     "metadata": {},
     "output_type": "display_data"
    },
    {
     "name": "stdout",
     "output_type": "stream",
     "text": [
      "\n"
     ]
    }
   ],
   "source": [
    "\"\"\"\n",
    "Add references to songs in events\n",
    "\"\"\"\n",
    "df_events[\"filteredRefs\"] = [[] for i in range(len(df_events))]\n",
    "for i_song, refs in tqdm_notebook(df[\"filteredRefs\"].iteritems()):\n",
    "    for i_event in refs:\n",
    "        df_events.iloc[i_event][\"filteredRefs\"].append(i_song)\n",
    "        \n",
    "df_events[\"filteredRefs\"] = df_events[\"filteredRefs\"].apply(set)"
   ]
  },
  {
   "cell_type": "code",
   "execution_count": null,
   "metadata": {},
   "outputs": [],
   "source": [
    "print(df[\"filteredRefs\"].apply(len).max())\n",
    "print(df[\"filteredRefs\"].apply(len).mean())"
   ]
  },
  {
   "cell_type": "code",
   "execution_count": null,
   "metadata": {},
   "outputs": [],
   "source": [
    "df_events.Entities.apply(lambda l : [x[0] for x in l])"
   ]
  },
  {
   "cell_type": "code",
   "execution_count": null,
   "metadata": {},
   "outputs": [],
   "source": [
    "df_events[\"Ents\"] = df_events.Entities.apply(lambda l : [x[0] for x in l])\n",
    "df_events[\"Ents_types\"] = df_events.Entities.apply(lambda l : [x[1] for x in l])"
   ]
  },
  {
   "cell_type": "code",
   "execution_count": null,
   "metadata": {},
   "outputs": [],
   "source": [
    "df[\"Ents\"] = df.Entities.apply(lambda l : [x[0] for x in l])\n",
    "df[\"Ents_types\"] = df.Entities.apply(lambda l : [x[1] for x in l])"
   ]
  },
  {
   "cell_type": "code",
   "execution_count": null,
   "metadata": {},
   "outputs": [],
   "source": [
    "df_events.filteredRefs.apply(len)"
   ]
  },
  {
   "cell_type": "markdown",
   "metadata": {},
   "source": [
    "## Save to csv for Website"
   ]
  },
  {
   "cell_type": "code",
   "execution_count": 198,
   "metadata": {},
   "outputs": [],
   "source": [
    "df_events[\"num_refs\"] = df_events.filteredRefs.apply(len)\n",
    "df[\"num_refs\"] = df.filteredRefs.apply(len)"
   ]
  },
  {
   "cell_type": "code",
   "execution_count": 168,
   "metadata": {},
   "outputs": [
    {
     "data": {
      "text/plain": [
       "Index(['Year', 'Month', 'Day', 'Content', 'Wikipedia', 'Summary', 'Refs',\n",
       "       'vect', 'filteredRefs', 'num_refs', 'Entities', 'Entities_more'],\n",
       "      dtype='object')"
      ]
     },
     "execution_count": 168,
     "metadata": {},
     "output_type": "execute_result"
    }
   ],
   "source": [
    "df_events.columns"
   ]
  },
  {
   "cell_type": "code",
   "execution_count": 167,
   "metadata": {},
   "outputs": [
    {
     "data": {
      "text/plain": [
       "Index(['Rank', 'Song', 'Artist', 'Year', 'Lyrics', 'Genre', 'Album', 'Refs',\n",
       "       'word_count', 'vect', 'sims', 'filteredRefs', 'Lyrics_print',\n",
       "       'Entities', 'Entities_more'],\n",
       "      dtype='object')"
      ]
     },
     "execution_count": 167,
     "metadata": {},
     "output_type": "execute_result"
    }
   ],
   "source": [
    "df.columns"
   ]
  },
  {
   "cell_type": "code",
   "execution_count": 207,
   "metadata": {},
   "outputs": [],
   "source": [
    "df[\"Youtube\"] = tmp_songs.Youtube"
   ]
  },
  {
   "cell_type": "code",
   "execution_count": 42,
   "metadata": {},
   "outputs": [],
   "source": [
    "def entities_embedding(row, songs = False):\n",
    "    col = \"Lyrics_print\" if songs else \"Summary\"\n",
    "    \n",
    "    color = \"#ffffff\" if songs else \"#f28e61\"\n",
    "    text_color = \"color : #ffffff;\" if not songs else \"\"\n",
    "    \n",
    "    if len(row[\"Entities_more\"]) == 0:\n",
    "        return row[col]\n",
    "    \n",
    "    s = \"\"\n",
    "    original = row[col]\n",
    "    prev_end = 0\n",
    "    for ent, ent_type, start, end in row[\"Entities_more\"]:\n",
    "        s += original[prev_end : start]\n",
    "        embedded_entity = (\"<mark class=\\\"entity\\\" style=\\\"background: %s;%s padding: 0.05em 0.05em; margin: 0 0.15em;\"\n",
    "        \"line-height: 1; border-radius: 0.35em;\\\">%s\"\n",
    "        \"<span style=\\\"font-size: 0.5em; font-weight: bold;%s line-height: 1; border-radius: 0.35em; text-transform: uppercase;\"\n",
    "        \"vertical-align: middle; margin-left: 0.25rem; margin-bottom:0.25rem\\\">%s</span></mark>\"\"\") % (color, text_color, ent, text_color, ent_type)\n",
    "        s += embedded_entity\n",
    "        prev_end = end\n",
    "    s+=original[prev_end :]\n",
    "    \n",
    "    return s"
   ]
  },
  {
   "cell_type": "markdown",
   "metadata": {},
   "source": [
    "### Extra refs"
   ]
  },
  {
   "cell_type": "code",
   "execution_count": 80,
   "metadata": {},
   "outputs": [
    {
     "name": "stdout",
     "output_type": "stream",
     "text": [
      "68.5560538116592\n",
      "14.935521688159437\n"
     ]
    }
   ],
   "source": [
    "print(df_events.filteredRefs.apply(len).mean())\n",
    "print(df.filteredRefs.apply(len).mean())"
   ]
  },
  {
   "cell_type": "code",
   "execution_count": 91,
   "metadata": {},
   "outputs": [],
   "source": [
    "from tqdm import tqdm_notebook"
   ]
  },
  {
   "cell_type": "code",
   "execution_count": 92,
   "metadata": {},
   "outputs": [
    {
     "name": "stderr",
     "output_type": "stream",
     "text": [
      "C:\\Users\\SimonRoquette\\Anaconda3\\lib\\site-packages\\ipykernel_launcher.py:1: TqdmDeprecationWarning: This function will be removed in tqdm==5.0.0\n",
      "Please use `tqdm.notebook.tqdm` instead of `tqdm.tqdm_notebook`\n",
      "  \"\"\"Entry point for launching an IPython kernel.\n"
     ]
    },
    {
     "data": {
      "application/vnd.jupyter.widget-view+json": {
       "model_id": "f0365cc8b309445ba955b8616a647edf",
       "version_major": 2,
       "version_minor": 0
      },
      "text/plain": [
       "HBox(children=(FloatProgress(value=1.0, bar_style='info', max=1.0), HTML(value='')))"
      ]
     },
     "metadata": {},
     "output_type": "display_data"
    },
    {
     "name": "stdout",
     "output_type": "stream",
     "text": [
      "\n"
     ]
    }
   ],
   "source": [
    "for i_event, event in tqdm_notebook(df_events.iterrows()):\n",
    "    i = 0"
   ]
  },
  {
   "cell_type": "code",
   "execution_count": 94,
   "metadata": {},
   "outputs": [
    {
     "name": "stderr",
     "output_type": "stream",
     "text": [
      "C:\\Users\\SimonRoquette\\Anaconda3\\lib\\site-packages\\ipykernel_launcher.py:1: TqdmDeprecationWarning: This function will be removed in tqdm==5.0.0\n",
      "Please use `tqdm.notebook.tqdm` instead of `tqdm.tqdm_notebook`\n",
      "  \"\"\"Entry point for launching an IPython kernel.\n"
     ]
    },
    {
     "data": {
      "application/vnd.jupyter.widget-view+json": {
       "model_id": "41c44c4dcf4b46768d9d9f077ca3272c",
       "version_major": 2,
       "version_minor": 0
      },
      "text/plain": [
       "HBox(children=(FloatProgress(value=1.0, bar_style='info', max=1.0), HTML(value='')))"
      ]
     },
     "metadata": {},
     "output_type": "display_data"
    },
    {
     "name": "stdout",
     "output_type": "stream",
     "text": [
      "\n"
     ]
    }
   ],
   "source": [
    "for i_event, event in tqdm_notebook(df_events.iterrows()):\n",
    "    for i_music, music in df.iterrows():\n",
    "        trigger_values = [music.Song.lower(), music.Album.lower()] + music.Artist.lower().split(\"and\")\n",
    "        for value in trigger_values:\n",
    "            if value in event.Content.lower() or value in event.Summary.lower():\n",
    "                event.filteredRefs.add(i_music)\n",
    "                music.filteredRefs.add(i_event)"
   ]
  },
  {
   "cell_type": "code",
   "execution_count": 95,
   "metadata": {},
   "outputs": [
    {
     "name": "stdout",
     "output_type": "stream",
     "text": [
      "278.2008968609866\n",
      "60.608440797186404\n"
     ]
    }
   ],
   "source": [
    "print(df_events.filteredRefs.apply(len).mean())\n",
    "print(df.filteredRefs.apply(len).mean())"
   ]
  },
  {
   "cell_type": "code",
   "execution_count": 37,
   "metadata": {},
   "outputs": [],
   "source": [
    "df_events[\"Summary_embedded\"] = df_events.apply(entities_embedding, axis = 1)"
   ]
  },
  {
   "cell_type": "code",
   "execution_count": 96,
   "metadata": {},
   "outputs": [],
   "source": [
    "df_events.drop(columns = [\"vect\", \"Refs\", \"Entities\", \"word_count\", \"text_vect\"])\\\n",
    ".to_csv(\"datasets/events_refs_website.csv\")"
   ]
  },
  {
   "cell_type": "code",
   "execution_count": 40,
   "metadata": {},
   "outputs": [],
   "source": [
    "df[\"Lyrics_print_embedded\"] = df.apply(entities_embedding, axis = 1)"
   ]
  },
  {
   "cell_type": "code",
   "execution_count": 97,
   "metadata": {},
   "outputs": [],
   "source": [
    "df.drop(columns = [\"vect\", \"sims\", \"Refs\", \"word_count\", \"Entities\", \"Lyrics\"]).rename(columns = {\"Lyrics_display\": \"Lyrics\"})\\\n",
    ".to_csv(\"datasets/songs_refs_website.csv\")"
   ]
  },
  {
   "cell_type": "code",
   "execution_count": 235,
   "metadata": {},
   "outputs": [
    {
     "data": {
      "text/plain": [
       "8.18190699491989"
      ]
     },
     "execution_count": 235,
     "metadata": {},
     "output_type": "execute_result"
    }
   ],
   "source": [
    "df.Entities_more.apply(len).mean()"
   ]
  },
  {
   "cell_type": "code",
   "execution_count": 236,
   "metadata": {},
   "outputs": [
    {
     "data": {
      "text/html": [
       "<div>\n",
       "<style scoped>\n",
       "    .dataframe tbody tr th:only-of-type {\n",
       "        vertical-align: middle;\n",
       "    }\n",
       "\n",
       "    .dataframe tbody tr th {\n",
       "        vertical-align: top;\n",
       "    }\n",
       "\n",
       "    .dataframe thead th {\n",
       "        text-align: right;\n",
       "    }\n",
       "</style>\n",
       "<table border=\"1\" class=\"dataframe\">\n",
       "  <thead>\n",
       "    <tr style=\"text-align: right;\">\n",
       "      <th></th>\n",
       "      <th>Rank</th>\n",
       "      <th>Song</th>\n",
       "      <th>Artist</th>\n",
       "      <th>Year</th>\n",
       "      <th>Lyrics</th>\n",
       "      <th>Genre</th>\n",
       "      <th>Album</th>\n",
       "      <th>Refs</th>\n",
       "      <th>word_count</th>\n",
       "      <th>vect</th>\n",
       "      <th>sims</th>\n",
       "      <th>filteredRefs</th>\n",
       "      <th>Lyrics_print</th>\n",
       "      <th>Entities</th>\n",
       "      <th>Entities_more</th>\n",
       "      <th>num_refs</th>\n",
       "      <th>Youtube</th>\n",
       "      <th>Lyrics_print_embedded</th>\n",
       "    </tr>\n",
       "  </thead>\n",
       "  <tbody>\n",
       "    <tr>\n",
       "      <th>1219</th>\n",
       "      <td>16</td>\n",
       "      <td>Whatcha gonna do</td>\n",
       "      <td>Pablo Cruise</td>\n",
       "      <td>1977</td>\n",
       "      <td>Whatcha gonna do When she says goodbye Whatcha...</td>\n",
       "      <td>Pop</td>\n",
       "      <td>A Place In The Sun</td>\n",
       "      <td>{}</td>\n",
       "      <td>270</td>\n",
       "      <td>[0.7500965595245361, -0.9582203030586243, -0.4...</td>\n",
       "      <td>[0.9548602001877042, 0.9568061277065438, 0.925...</td>\n",
       "      <td>[]</td>\n",
       "      <td>Whatcha gonna do\\r\\nWhen she says goodbye\\r\\nW...</td>\n",
       "      <td>[]</td>\n",
       "      <td>[]</td>\n",
       "      <td>0</td>\n",
       "      <td>https://www.youtube.com/watch?v=NPWqe7l6JK8</td>\n",
       "      <td>Whatcha gonna do\\r\\nWhen she says goodbye\\r\\nW...</td>\n",
       "    </tr>\n",
       "  </tbody>\n",
       "</table>\n",
       "</div>"
      ],
      "text/plain": [
       "      Rank              Song        Artist  Year  \\\n",
       "1219    16  Whatcha gonna do  Pablo Cruise  1977   \n",
       "\n",
       "                                                 Lyrics Genre  \\\n",
       "1219  Whatcha gonna do When she says goodbye Whatcha...   Pop   \n",
       "\n",
       "                   Album Refs  word_count  \\\n",
       "1219  A Place In The Sun   {}         270   \n",
       "\n",
       "                                                   vect  \\\n",
       "1219  [0.7500965595245361, -0.9582203030586243, -0.4...   \n",
       "\n",
       "                                                   sims filteredRefs  \\\n",
       "1219  [0.9548602001877042, 0.9568061277065438, 0.925...           []   \n",
       "\n",
       "                                           Lyrics_print Entities  \\\n",
       "1219  Whatcha gonna do\\r\\nWhen she says goodbye\\r\\nW...       []   \n",
       "\n",
       "     Entities_more  num_refs                                      Youtube  \\\n",
       "1219            []         0  https://www.youtube.com/watch?v=NPWqe7l6JK8   \n",
       "\n",
       "                                  Lyrics_print_embedded  \n",
       "1219  Whatcha gonna do\\r\\nWhen she says goodbye\\r\\nW...  "
      ]
     },
     "execution_count": 236,
     "metadata": {},
     "output_type": "execute_result"
    }
   ],
   "source": [
    "df[df.Song.str.contains(\"Whatcha gonna\")]"
   ]
  },
  {
   "cell_type": "code",
   "execution_count": 54,
   "metadata": {},
   "outputs": [
    {
     "data": {
      "text/html": [
       "<div>\n",
       "<style scoped>\n",
       "    .dataframe tbody tr th:only-of-type {\n",
       "        vertical-align: middle;\n",
       "    }\n",
       "\n",
       "    .dataframe tbody tr th {\n",
       "        vertical-align: top;\n",
       "    }\n",
       "\n",
       "    .dataframe thead th {\n",
       "        text-align: right;\n",
       "    }\n",
       "</style>\n",
       "<table border=\"1\" class=\"dataframe\">\n",
       "  <thead>\n",
       "    <tr style=\"text-align: right;\">\n",
       "      <th></th>\n",
       "      <th>Rank</th>\n",
       "      <th>Song</th>\n",
       "      <th>Artist</th>\n",
       "      <th>Year</th>\n",
       "      <th>Lyrics</th>\n",
       "      <th>Genre</th>\n",
       "      <th>Album</th>\n",
       "      <th>Refs</th>\n",
       "      <th>word_count</th>\n",
       "      <th>vect</th>\n",
       "      <th>sims</th>\n",
       "      <th>filteredRefs</th>\n",
       "      <th>Lyrics_print</th>\n",
       "      <th>Entities</th>\n",
       "      <th>Entities_more</th>\n",
       "      <th>num_refs</th>\n",
       "      <th>Youtube</th>\n",
       "      <th>Lyrics_print_embedded</th>\n",
       "    </tr>\n",
       "  </thead>\n",
       "  <tbody>\n",
       "    <tr>\n",
       "      <th>404</th>\n",
       "      <td>5</td>\n",
       "      <td>Everyday people</td>\n",
       "      <td>Sly  The Family Stone</td>\n",
       "      <td>1969</td>\n",
       "      <td>Sometimes I'm right and I can be wrong My own ...</td>\n",
       "      <td>Funk</td>\n",
       "      <td>Stand</td>\n",
       "      <td>{}</td>\n",
       "      <td>243</td>\n",
       "      <td>[-0.6625109910964966, -0.9864662885665894, -0....</td>\n",
       "      <td>[0.9189457064123593, 0.9308117551613521, 0.918...</td>\n",
       "      <td>[]</td>\n",
       "      <td>Sometimes I'm right and I can be wrong\\r\\nMy o...</td>\n",
       "      <td>[]</td>\n",
       "      <td>[]</td>\n",
       "      <td>0</td>\n",
       "      <td>https://www.youtube.com/watch?v=YUUhDoCx8zc</td>\n",
       "      <td>Sometimes I'm right and I can be wrong\\r\\nMy o...</td>\n",
       "    </tr>\n",
       "    <tr>\n",
       "      <th>472</th>\n",
       "      <td>73</td>\n",
       "      <td>Everybodys talkin</td>\n",
       "      <td>Harry Nilsson</td>\n",
       "      <td>1969</td>\n",
       "      <td>Everybody's talkin' at me I don't hear a word ...</td>\n",
       "      <td>Pop</td>\n",
       "      <td>Aerial Ballet</td>\n",
       "      <td>{}</td>\n",
       "      <td>186</td>\n",
       "      <td>[0.9065132141113281, -0.9525209665298462, -0.5...</td>\n",
       "      <td>[0.9402395806198696, 0.9533729585696741, 0.938...</td>\n",
       "      <td>[]</td>\n",
       "      <td>Everybody's talkin' at me\\r\\nI don't hear a wo...</td>\n",
       "      <td>[(Wohm, GPE)]</td>\n",
       "      <td>[(Wohm, GPE, 391, 395), (Wohm, GPE, 415, 419),...</td>\n",
       "      <td>0</td>\n",
       "      <td>https://www.youtube.com/watch?v=55xQu9eIPIA</td>\n",
       "      <td>Everybody's talkin' at me\\r\\nI don't hear a wo...</td>\n",
       "    </tr>\n",
       "    <tr>\n",
       "      <th>511</th>\n",
       "      <td>12</td>\n",
       "      <td>Everything is beautiful</td>\n",
       "      <td>Ray Stevens</td>\n",
       "      <td>1970</td>\n",
       "      <td>Jesus loves the little children All the little...</td>\n",
       "      <td>Pop</td>\n",
       "      <td>Everything Is Beautiful</td>\n",
       "      <td>{1025, 2, 1027, 1028, 5, 518, 1029, 8, 1033, 5...</td>\n",
       "      <td>281</td>\n",
       "      <td>[0.5493150353431702, -0.9113931655883789, -0.1...</td>\n",
       "      <td>[0.9132380353709844, 0.905950031930215, 0.8988...</td>\n",
       "      <td>[1042, 28, 62, 110, 117, 147, 156, 177, 203, 2...</td>\n",
       "      <td>Jesus loves the little children\\r\\nAll the lit...</td>\n",
       "      <td>[(Jesus, PERSON), (Jesus, PERSON), (winter's d...</td>\n",
       "      <td>[(Jesus, PERSON, 0, 5), (Jesus, PERSON, 136, 1...</td>\n",
       "      <td>21</td>\n",
       "      <td>https://www.youtube.com/watch?v=0a45z_HG3WU</td>\n",
       "      <td>&lt;mark class=\"entity\" style=\"background: #fffff...</td>\n",
       "    </tr>\n",
       "    <tr>\n",
       "      <th>732</th>\n",
       "      <td>29</td>\n",
       "      <td>Everybody plays the fool</td>\n",
       "      <td>The Main Ingredient</td>\n",
       "      <td>1972</td>\n",
       "      <td>Okay ,  so you're heartbroken You sit around m...</td>\n",
       "      <td>R&amp;B Soul</td>\n",
       "      <td>Bitter Sweet</td>\n",
       "      <td>{1026, 515, 517, 1039, 17, 20, 22, 1046, 1051,...</td>\n",
       "      <td>288</td>\n",
       "      <td>[0.6118214130401611, -0.9598145484924316, -0.1...</td>\n",
       "      <td>[0.8885130425318898, 0.8952057965525602, 0.855...</td>\n",
       "      <td>[633, 220, 836, 853, 860, 349, 359]</td>\n",
       "      <td>Okay, so you're heartbroken\\r\\nYou sit around ...</td>\n",
       "      <td>[(mopin, PERSON), (Love, WORK_OF_ART), (earth,...</td>\n",
       "      <td>[(mopin, PERSON, 44, 49), (Love, WORK_OF_ART, ...</td>\n",
       "      <td>7</td>\n",
       "      <td>https://www.youtube.com/watch?v=7i72cbo_qdg</td>\n",
       "      <td>Okay, so you're heartbroken\\r\\nYou sit around ...</td>\n",
       "    </tr>\n",
       "    <tr>\n",
       "      <th>755</th>\n",
       "      <td>52</td>\n",
       "      <td>Everything i own</td>\n",
       "      <td>Bread</td>\n",
       "      <td>1972</td>\n",
       "      <td>You sheltered me from harm Kept me warm ,  kep...</td>\n",
       "      <td>Rock</td>\n",
       "      <td>Baby Im A Want You</td>\n",
       "      <td>{513, 515, 1033, 140, 525, 653, 911, 17, 913, ...</td>\n",
       "      <td>227</td>\n",
       "      <td>[0.7286788821220398, -0.9704616069793701, -0.6...</td>\n",
       "      <td>[0.9173026583267022, 0.9138904362785629, 0.888...</td>\n",
       "      <td>[17, 533, 285, 799, 570, 508]</td>\n",
       "      <td>You sheltered me from harm\\r\\nKept me warm, ke...</td>\n",
       "      <td>[(all the years, DATE), (one day, DATE)]</td>\n",
       "      <td>[(all the years, DATE, 141, 154), (one day, DA...</td>\n",
       "      <td>6</td>\n",
       "      <td>https://www.youtube.com/watch?v=2Fvb5woQ3ZI</td>\n",
       "      <td>You sheltered me from harm\\r\\nKept me warm, ke...</td>\n",
       "    </tr>\n",
       "    <tr>\n",
       "      <th>1361</th>\n",
       "      <td>57</td>\n",
       "      <td>Every time i turn around back in love again</td>\n",
       "      <td>Ltd</td>\n",
       "      <td>1978</td>\n",
       "      <td>Every time I move ,  I lose When I look I'm in...</td>\n",
       "      <td>Funk</td>\n",
       "      <td>Something To Love</td>\n",
       "      <td>{768, 769, 514, 770, 391, 139, 919, 154, 282, ...</td>\n",
       "      <td>647</td>\n",
       "      <td>[0.9999950528144836, -0.8287438750267029, 0.98...</td>\n",
       "      <td>[0.9066736703358013, 0.9254408641057726, 0.912...</td>\n",
       "      <td>[514, 919, 154, 295, 313, 587, 204, 86, 475, 7...</td>\n",
       "      <td>Every time I move, I lose\\r\\nWhen I look I'm i...</td>\n",
       "      <td>[(Jones, PERSON)]</td>\n",
       "      <td>[(Jones, PERSON, 1449, 1454)]</td>\n",
       "      <td>13</td>\n",
       "      <td>https://www.youtube.com/watch?v=K3H-efs9wL4</td>\n",
       "      <td>Every time I move, I lose\\r\\nWhen I look I'm i...</td>\n",
       "    </tr>\n",
       "    <tr>\n",
       "      <th>1377</th>\n",
       "      <td>73</td>\n",
       "      <td>Every kinda people</td>\n",
       "      <td>Robert Palmer</td>\n",
       "      <td>1978</td>\n",
       "      <td>Said the fight to make ends meet Keeps a man u...</td>\n",
       "      <td>Rock</td>\n",
       "      <td>Double Fun</td>\n",
       "      <td>{}</td>\n",
       "      <td>243</td>\n",
       "      <td>[-0.8171799778938293, -0.9947508573532104, -0....</td>\n",
       "      <td>[0.8768804541475473, 0.883974081720005, 0.8572...</td>\n",
       "      <td>[]</td>\n",
       "      <td>Said the fight to make ends meet\\r\\nKeeps a ma...</td>\n",
       "      <td>[]</td>\n",
       "      <td>[]</td>\n",
       "      <td>0</td>\n",
       "      <td>https://www.youtube.com/watch?v=R686uRAzwIk</td>\n",
       "      <td>Said the fight to make ends meet\\r\\nKeeps a ma...</td>\n",
       "    </tr>\n",
       "    <tr>\n",
       "      <th>1459</th>\n",
       "      <td>55</td>\n",
       "      <td>Every 1s a winner</td>\n",
       "      <td>Hot Chocolate</td>\n",
       "      <td>1979</td>\n",
       "      <td>Never could believe the things you do to me , ...</td>\n",
       "      <td>Rock</td>\n",
       "      <td>Every 1S A Winner  Single Version</td>\n",
       "      <td>{417, 774, 903, 871, 487, 683, 428, 812, 339, ...</td>\n",
       "      <td>277</td>\n",
       "      <td>[-0.14156875014305115, -0.9837441444396973, -0...</td>\n",
       "      <td>[0.8837662543673136, 0.8765139598094462, 0.854...</td>\n",
       "      <td>[774]</td>\n",
       "      <td>Never could believe the things you do to me,\\r...</td>\n",
       "      <td>[(the day, DATE)]</td>\n",
       "      <td>[(the day, DATE, 102, 109)]</td>\n",
       "      <td>1</td>\n",
       "      <td>https://www.youtube.com/watch?v=-SFFRaIUisY</td>\n",
       "      <td>Never could believe the things you do to me,\\r...</td>\n",
       "    </tr>\n",
       "    <tr>\n",
       "      <th>1493</th>\n",
       "      <td>89</td>\n",
       "      <td>Everytime i think of you</td>\n",
       "      <td>The Babys</td>\n",
       "      <td>1979</td>\n",
       "      <td>Everytime I think of you it always turns out g...</td>\n",
       "      <td>Pop Rock</td>\n",
       "      <td>Head First</td>\n",
       "      <td>{390, 775, 520, 905, 906, 779, 1032, 17, 659, ...</td>\n",
       "      <td>382</td>\n",
       "      <td>[0.8054536581039429, -0.978695273399353, -0.77...</td>\n",
       "      <td>[0.9685850325866133, 0.9289726142567184, 0.974...</td>\n",
       "      <td>[905, 906, 779, 659, 408, 409, 31, 160, 422, 9...</td>\n",
       "      <td>Everytime I think of you it always turns out g...</td>\n",
       "      <td>[(Seasons, DATE)]</td>\n",
       "      <td>[(Seasons, DATE, 503, 510)]</td>\n",
       "      <td>32</td>\n",
       "      <td>https://www.youtube.com/watch?v=LvvGgqV6SGo</td>\n",
       "      <td>Everytime I think of you it always turns out g...</td>\n",
       "    </tr>\n",
       "    <tr>\n",
       "      <th>1631</th>\n",
       "      <td>27</td>\n",
       "      <td>Every woman in the world</td>\n",
       "      <td>Air Supply</td>\n",
       "      <td>1981</td>\n",
       "      <td>Overnight scenes ,  dinner and wine Saturday g...</td>\n",
       "      <td>Rock</td>\n",
       "      <td>Lost In Love</td>\n",
       "      <td>{382, 487, 683, 849, 468, 821, 630, 759, 758, ...</td>\n",
       "      <td>180</td>\n",
       "      <td>[0.5300176739692688, -0.890407145023346, -0.56...</td>\n",
       "      <td>[0.916620803885223, 0.9447893559099858, 0.9079...</td>\n",
       "      <td>[759, 468, 821]</td>\n",
       "      <td>Overnight scenes, dinner and wine\\r\\nSaturday ...</td>\n",
       "      <td>[(Saturday, DATE)]</td>\n",
       "      <td>[(Saturday, DATE, 35, 43)]</td>\n",
       "      <td>3</td>\n",
       "      <td>https://www.youtube.com/watch?v=s_JNrOGAH0Q</td>\n",
       "      <td>Overnight scenes, dinner and wine\\r\\n&lt;mark cla...</td>\n",
       "    </tr>\n",
       "    <tr>\n",
       "      <th>1783</th>\n",
       "      <td>79</td>\n",
       "      <td>Every little thing she does is magic</td>\n",
       "      <td>The Police</td>\n",
       "      <td>1982</td>\n",
       "      <td>Though I've tried before to tell her Of the fe...</td>\n",
       "      <td>Rock</td>\n",
       "      <td>Ghost In The Machine</td>\n",
       "      <td>{1025, 2, 1027, 1028, 5, 518, 1033, 522, 12, 1...</td>\n",
       "      <td>429</td>\n",
       "      <td>[0.09709634631872177, -0.9506261348724365, -0....</td>\n",
       "      <td>[0.9725744123469201, 0.9549989459927295, 0.951...</td>\n",
       "      <td>[1025, 2, 1028, 518, 25, 542, 32, 33, 34, 549,...</td>\n",
       "      <td>Though I've tried before to tell her\\r\\nOf the...</td>\n",
       "      <td>[(a thousand rainy days, DATE), (Long, PERSON)...</td>\n",
       "      <td>[(a thousand rainy days, DATE, 352, 373), (Lon...</td>\n",
       "      <td>94</td>\n",
       "      <td>https://www.youtube.com/watch?v=aENX1Sf3fgQ</td>\n",
       "      <td>Though I've tried before to tell her\\r\\nOf the...</td>\n",
       "    </tr>\n",
       "    <tr>\n",
       "      <th>1805</th>\n",
       "      <td>1</td>\n",
       "      <td>Every breath you take</td>\n",
       "      <td>The Police</td>\n",
       "      <td>1983</td>\n",
       "      <td>Every breath you take and every move you make ...</td>\n",
       "      <td>Pop</td>\n",
       "      <td>Synchronicity</td>\n",
       "      <td>{634, 683}</td>\n",
       "      <td>480</td>\n",
       "      <td>[0.9999996423721313, -0.9222927689552307, 0.99...</td>\n",
       "      <td>[0.9457318369414968, 0.9492334890754957, 0.899...</td>\n",
       "      <td>[]</td>\n",
       "      <td>Every breath you take and every move you make\\...</td>\n",
       "      <td>[(Every single day, DATE)]</td>\n",
       "      <td>[(Every single day, DATE, 112, 128), (Every si...</td>\n",
       "      <td>0</td>\n",
       "      <td>https://www.youtube.com/watch?v=OMOGaugKpzs</td>\n",
       "      <td>Every breath you take and every move you make\\...</td>\n",
       "    </tr>\n",
       "    <tr>\n",
       "      <th>2011</th>\n",
       "      <td>7</td>\n",
       "      <td>Everybody wants to rule the world</td>\n",
       "      <td>Tears For Fears</td>\n",
       "      <td>1985</td>\n",
       "      <td>Welcome to your life There's no turning back E...</td>\n",
       "      <td>Rock</td>\n",
       "      <td>Songs From The Big Chair</td>\n",
       "      <td>{}</td>\n",
       "      <td>179</td>\n",
       "      <td>[0.9511083960533142, -0.9521746635437012, -0.7...</td>\n",
       "      <td>[0.902221821188263, 0.8800433768695817, 0.8797...</td>\n",
       "      <td>[]</td>\n",
       "      <td>Welcome to your life\\r\\nThere's no turning bac...</td>\n",
       "      <td>[]</td>\n",
       "      <td>[]</td>\n",
       "      <td>0</td>\n",
       "      <td>https://www.youtube.com/watch?v=aGCdLKXNF3w</td>\n",
       "      <td>Welcome to your life\\r\\nThere's no turning bac...</td>\n",
       "    </tr>\n",
       "    <tr>\n",
       "      <th>2015</th>\n",
       "      <td>11</td>\n",
       "      <td>Everytime you go away</td>\n",
       "      <td>Paul Young</td>\n",
       "      <td>1985</td>\n",
       "      <td>Don't leave me all alone Picking up the pieces...</td>\n",
       "      <td>Pop</td>\n",
       "      <td>Every Time You Go Away  Re Recorded  Remastered</td>\n",
       "      <td>{938, 500, 502, 503, 1081, 1114, 155, 1054, 767}</td>\n",
       "      <td>361</td>\n",
       "      <td>[0.34993302822113037, -0.9646230936050415, -0....</td>\n",
       "      <td>[0.9511083431212002, 0.9505798583636424, 0.938...</td>\n",
       "      <td>[938, 500, 502, 503, 1081, 1114, 155, 767]</td>\n",
       "      <td>Don't leave me all alone\\r\\nPicking up the pie...</td>\n",
       "      <td>[(Baby, ORG)]</td>\n",
       "      <td>[(Baby, ORG, 771, 775)]</td>\n",
       "      <td>8</td>\n",
       "      <td>https://www.youtube.com/watch?v=nfk6sCzRTbM</td>\n",
       "      <td>Don't leave me all alone\\r\\nPicking up the pie...</td>\n",
       "    </tr>\n",
       "    <tr>\n",
       "      <th>2029</th>\n",
       "      <td>25</td>\n",
       "      <td>Everything she wants</td>\n",
       "      <td>Wham</td>\n",
       "      <td>1985</td>\n",
       "      <td>Uh huh huh Ohhh yeah Work ,  work  Somebody to...</td>\n",
       "      <td>Alternative Indie</td>\n",
       "      <td>Make It Big</td>\n",
       "      <td>{386, 643, 899, 776, 523, 140, 272, 1041, 146,...</td>\n",
       "      <td>489</td>\n",
       "      <td>[0.9965063333511353, -0.6077260971069336, 0.99...</td>\n",
       "      <td>[0.8989165216035293, 0.8848099174740133, 0.859...</td>\n",
       "      <td>[1054, 465, 497]</td>\n",
       "      <td>Uh huh huh\\r\\nOhhh yeah\\r\\nWork, work\\r\\n\\r\\nS...</td>\n",
       "      <td>[(Boy, PERSON), (six months, DATE), (the end o...</td>\n",
       "      <td>[(Boy, PERSON, 56, 59), (six months, DATE, 209...</td>\n",
       "      <td>3</td>\n",
       "      <td>https://www.youtube.com/watch?v=Yf_Lwe6p-Cg</td>\n",
       "      <td>Uh huh huh\\r\\nOhhh yeah\\r\\nWork, work\\r\\n\\r\\nS...</td>\n",
       "    </tr>\n",
       "    <tr>\n",
       "      <th>2216</th>\n",
       "      <td>12</td>\n",
       "      <td>Everybody have fun tonight</td>\n",
       "      <td>Wang Chung</td>\n",
       "      <td>1987</td>\n",
       "      <td>I'll drive a million miles To be with you toni...</td>\n",
       "      <td>New Wave</td>\n",
       "      <td>Mosaic</td>\n",
       "      <td>{773, 525, 531, 148, 28, 549, 690, 691, 1078, ...</td>\n",
       "      <td>323</td>\n",
       "      <td>[0.7848924398422241, -0.9894314408302307, -0.3...</td>\n",
       "      <td>[0.957796130406693, 0.8961212801889453, 0.9565...</td>\n",
       "      <td>[773, 531, 549, 240]</td>\n",
       "      <td>I'll drive a million miles\\r\\nTo be with you t...</td>\n",
       "      <td>[(Wang Chung, PERSON), (Wang Chung, PERSON), (...</td>\n",
       "      <td>[(Wang Chung, PERSON, 394, 404), (Wang Chung, ...</td>\n",
       "      <td>4</td>\n",
       "      <td>https://www.youtube.com/watch?v=BoXu6QmxpJE</td>\n",
       "      <td>I'll drive a million miles\\r\\nTo be with you t...</td>\n",
       "    </tr>\n",
       "    <tr>\n",
       "      <th>2376</th>\n",
       "      <td>72</td>\n",
       "      <td>Everything your heart desires</td>\n",
       "      <td>Daryl Hall  John Oates</td>\n",
       "      <td>1988</td>\n",
       "      <td>You say you can't stand to be tied so close to...</td>\n",
       "      <td>Pop</td>\n",
       "      <td>Everything Your Heart Desires Ep  Remixes</td>\n",
       "      <td>{938, 500, 502, 503, 1081, 1114, 155, 1054, 767}</td>\n",
       "      <td>477</td>\n",
       "      <td>[0.9852750301361084, -0.5526575446128845, 0.99...</td>\n",
       "      <td>[0.8839865702090735, 0.8836131756943602, 0.863...</td>\n",
       "      <td>[1054]</td>\n",
       "      <td>You say you can't stand to be tied so close to...</td>\n",
       "      <td>[(Baby, PERSON)]</td>\n",
       "      <td>[(Baby, PERSON, 942, 946)]</td>\n",
       "      <td>1</td>\n",
       "      <td>https://www.youtube.com/watch?v=c-nErsGyiuY</td>\n",
       "      <td>You say you can't stand to be tied so close to...</td>\n",
       "    </tr>\n",
       "    <tr>\n",
       "      <th>2407</th>\n",
       "      <td>3</td>\n",
       "      <td>Every rose has its thorn</td>\n",
       "      <td>Poison</td>\n",
       "      <td>1989</td>\n",
       "      <td>We both lie silently still in the dead of the ...</td>\n",
       "      <td>Glam Metal</td>\n",
       "      <td>Open Up And Say Ahh</td>\n",
       "      <td>{}</td>\n",
       "      <td>292</td>\n",
       "      <td>[0.7152144908905029, -0.9602258801460266, -0.5...</td>\n",
       "      <td>[0.8660543028222534, 0.871856839446545, 0.8335...</td>\n",
       "      <td>[]</td>\n",
       "      <td>We both lie silently still in the dead of the ...</td>\n",
       "      <td>[]</td>\n",
       "      <td>[]</td>\n",
       "      <td>0</td>\n",
       "      <td>https://www.youtube.com/watch?v=ZcqWyyHlCDA</td>\n",
       "      <td>We both lie silently still in the dead of the ...</td>\n",
       "    </tr>\n",
       "    <tr>\n",
       "      <th>2452</th>\n",
       "      <td>48</td>\n",
       "      <td>Every little step</td>\n",
       "      <td>Bobby Brown</td>\n",
       "      <td>1989</td>\n",
       "      <td>I can't sleep at night ,  I toss and turn I ca...</td>\n",
       "      <td>R&amp;B Soul</td>\n",
       "      <td>Dont Be Cruel</td>\n",
       "      <td>{3, 5, 518, 510, 1033, 521, 9, 524, 525, 14, 1...</td>\n",
       "      <td>652</td>\n",
       "      <td>[0.9999997615814209, -0.8313596248626709, 0.99...</td>\n",
       "      <td>[0.958306478864175, 0.941738427511922, 0.94725...</td>\n",
       "      <td>[3, 518, 1033, 524, 529, 532, 531, 24, 25, 32,...</td>\n",
       "      <td>I can't sleep at night, I toss and turn\\r\\nI c...</td>\n",
       "      <td>[(James, PERSON), (Jim, PERSON), (the Bobby Br...</td>\n",
       "      <td>[(James, PERSON, 1459, 1464), (Jim, PERSON, 14...</td>\n",
       "      <td>112</td>\n",
       "      <td>https://www.youtube.com/watch?v=P0FKzPfsxA4</td>\n",
       "      <td>I can't sleep at night, I toss and turn\\r\\nI c...</td>\n",
       "    </tr>\n",
       "    <tr>\n",
       "      <th>2545</th>\n",
       "      <td>41</td>\n",
       "      <td>Everything</td>\n",
       "      <td>Jody Watley</td>\n",
       "      <td>1990</td>\n",
       "      <td>Lately I feel so all alone Can't find the joy ...</td>\n",
       "      <td>Contemporary R&amp;B</td>\n",
       "      <td>Larger Than Life</td>\n",
       "      <td>{}</td>\n",
       "      <td>255</td>\n",
       "      <td>[0.8855298757553101, -0.9768524169921875, -0.5...</td>\n",
       "      <td>[0.9601092800459481, 0.9243946357326178, 0.950...</td>\n",
       "      <td>[]</td>\n",
       "      <td>Lately I feel so all alone\\r\\nCan't find the j...</td>\n",
       "      <td>[]</td>\n",
       "      <td>[]</td>\n",
       "      <td>0</td>\n",
       "      <td>https://www.youtube.com/watch?v=gD0GJrm8lYE</td>\n",
       "      <td>Lately I feel so all alone\\r\\nCan't find the j...</td>\n",
       "    </tr>\n",
       "    <tr>\n",
       "      <th>2585</th>\n",
       "      <td>81</td>\n",
       "      <td>Everybody everybody</td>\n",
       "      <td>Black Box</td>\n",
       "      <td>1990</td>\n",
       "      <td>You won't belong to me I let you down I walk a...</td>\n",
       "      <td>Dance Electronic</td>\n",
       "      <td>Dreamland</td>\n",
       "      <td>{}</td>\n",
       "      <td>227</td>\n",
       "      <td>[0.9956339597702026, -0.9480270147323608, -0.3...</td>\n",
       "      <td>[0.9606489619280947, 0.9200958330779909, 0.939...</td>\n",
       "      <td>[]</td>\n",
       "      <td>You won't belong to me\\r\\nI let you down\\r\\nI ...</td>\n",
       "      <td>[]</td>\n",
       "      <td>[]</td>\n",
       "      <td>0</td>\n",
       "      <td>https://www.youtube.com/watch?v=18N2k1TBBRE</td>\n",
       "      <td>You won't belong to me\\r\\nI let you down\\r\\nI ...</td>\n",
       "    </tr>\n",
       "    <tr>\n",
       "      <th>2605</th>\n",
       "      <td>1</td>\n",
       "      <td>Everything i do i do it for you</td>\n",
       "      <td>Bryan Adams</td>\n",
       "      <td>1991</td>\n",
       "      <td>Look into my eyes - you will see What you mean...</td>\n",
       "      <td>Adult Contemporary</td>\n",
       "      <td>Robin Hood Prince Of Thieves – Original Motion...</td>\n",
       "      <td>{}</td>\n",
       "      <td>323</td>\n",
       "      <td>[0.7113242745399475, -0.9848819971084595, -0.2...</td>\n",
       "      <td>[0.9693410156109574, 0.9235557302860246, 0.960...</td>\n",
       "      <td>[]</td>\n",
       "      <td>Look into my eyes - you will see\\r\\nWhat you m...</td>\n",
       "      <td>[]</td>\n",
       "      <td>[]</td>\n",
       "      <td>0</td>\n",
       "      <td>https://www.youtube.com/watch?v=Y0pdQU87dc8</td>\n",
       "      <td>Look into my eyes - you will see\\r\\nWhat you m...</td>\n",
       "    </tr>\n",
       "    <tr>\n",
       "      <th>2632</th>\n",
       "      <td>28</td>\n",
       "      <td>Every heartbeat</td>\n",
       "      <td>Amy Grant</td>\n",
       "      <td>1991</td>\n",
       "      <td>Hear me speak what's on my mind Let me give th...</td>\n",
       "      <td>Gospel</td>\n",
       "      <td>Heart In Motion</td>\n",
       "      <td>{}</td>\n",
       "      <td>305</td>\n",
       "      <td>[0.7186602354049683, -0.9769960045814514, -0.0...</td>\n",
       "      <td>[0.9362098375505976, 0.9115103678721704, 0.920...</td>\n",
       "      <td>[]</td>\n",
       "      <td>Hear me speak what's on my mind\\r\\nLet me give...</td>\n",
       "      <td>[]</td>\n",
       "      <td>[]</td>\n",
       "      <td>0</td>\n",
       "      <td>https://www.youtube.com/watch?v=kcYIZ-cduvM</td>\n",
       "      <td>Hear me speak what's on my mind\\r\\nLet me give...</td>\n",
       "    </tr>\n",
       "    <tr>\n",
       "      <th>2691</th>\n",
       "      <td>87</td>\n",
       "      <td>Everybody plays the fool</td>\n",
       "      <td>Aaron Neville</td>\n",
       "      <td>1991</td>\n",
       "      <td>Ok ,  so your heart is broken You're sitting a...</td>\n",
       "      <td>Adult Contemporary</td>\n",
       "      <td>Everybody Plays The Fool</td>\n",
       "      <td>{1026, 515, 517, 1039, 17, 20, 22, 1046, 1051,...</td>\n",
       "      <td>339</td>\n",
       "      <td>[-0.3316299617290497, -0.9907526969909668, -0....</td>\n",
       "      <td>[0.9180395517196802, 0.9002336396175243, 0.879...</td>\n",
       "      <td>[220, 836, 853, 860, 349, 359]</td>\n",
       "      <td>Ok, so your heart is broken\\r\\nYou're sitting ...</td>\n",
       "      <td>[(mopin, PERSON), (Fallin, PERSON), (Love, WOR...</td>\n",
       "      <td>[(mopin, PERSON, 51, 56), (Fallin, PERSON, 328...</td>\n",
       "      <td>6</td>\n",
       "      <td>https://www.youtube.com/watch?v=bKAJs8waYd4</td>\n",
       "      <td>Ok, so your heart is broken\\r\\nYou're sitting ...</td>\n",
       "    </tr>\n",
       "    <tr>\n",
       "      <th>2776</th>\n",
       "      <td>72</td>\n",
       "      <td>Everything about you</td>\n",
       "      <td>Ugly Kid Joe</td>\n",
       "      <td>1992</td>\n",
       "      <td>Are you those guys on the beach that hate ever...</td>\n",
       "      <td>Hard Rock</td>\n",
       "      <td>As Ugly As They Wanna Be</td>\n",
       "      <td>{}</td>\n",
       "      <td>317</td>\n",
       "      <td>[0.7771006226539612, -0.9707436561584473, -0.6...</td>\n",
       "      <td>[0.9602143570401096, 0.9402120248107868, 0.948...</td>\n",
       "      <td>[]</td>\n",
       "      <td>Are you those guys on the beach that hate ever...</td>\n",
       "      <td>[]</td>\n",
       "      <td>[]</td>\n",
       "      <td>0</td>\n",
       "      <td>https://www.youtube.com/watch?v=byEGjLU2egA</td>\n",
       "      <td>Are you those guys on the beach that hate ever...</td>\n",
       "    </tr>\n",
       "    <tr>\n",
       "      <th>2783</th>\n",
       "      <td>79</td>\n",
       "      <td>Everything changes</td>\n",
       "      <td>Kathy Troccoli</td>\n",
       "      <td>1992</td>\n",
       "      <td>Well ,  you came in my life like a ray of ligh...</td>\n",
       "      <td>Gospel</td>\n",
       "      <td>Pure Attraction</td>\n",
       "      <td>{135, 683, 431, 631, 343}</td>\n",
       "      <td>437</td>\n",
       "      <td>[0.329530268907547, -0.9862337112426758, 0.289...</td>\n",
       "      <td>[0.9313144399228926, 0.9406992482107339, 0.916...</td>\n",
       "      <td>[343]</td>\n",
       "      <td>Well, you came in my life like a ray of light\\...</td>\n",
       "      <td>[(Whoa, PERSON), (yesterday, DATE)]</td>\n",
       "      <td>[(Whoa, PERSON, 166, 170), (Whoa, PERSON, 199,...</td>\n",
       "      <td>1</td>\n",
       "      <td>https://www.youtube.com/watch?v=4C9AD1oyE30</td>\n",
       "      <td>Well, you came in my life like a ray of light\\...</td>\n",
       "    </tr>\n",
       "    <tr>\n",
       "      <th>2991</th>\n",
       "      <td>86</td>\n",
       "      <td>Everyday</td>\n",
       "      <td>Phil Collins</td>\n",
       "      <td>1994</td>\n",
       "      <td>I got lost ,  couldn't find my way And I guess...</td>\n",
       "      <td>Adult Contemporary</td>\n",
       "      <td>Both Sides  Deluxe Edition</td>\n",
       "      <td>{515, 517, 1039, 17, 20, 1051, 1052, 34, 36, 4...</td>\n",
       "      <td>364</td>\n",
       "      <td>[-0.05369086191058159, -0.9903466105461121, -0...</td>\n",
       "      <td>[0.9506348716033144, 0.9353622271738178, 0.933...</td>\n",
       "      <td>[17, 20, 34, 53, 1091, 76, 1111, 112, 631, 718...</td>\n",
       "      <td>I got lost, couldn't find my way\\r\\nAnd I gues...</td>\n",
       "      <td>[(Love, WORK_OF_ART)]</td>\n",
       "      <td>[(Love, WORK_OF_ART, 75, 79)]</td>\n",
       "      <td>20</td>\n",
       "      <td>https://www.youtube.com/watch?v=xQpsXA36uq4</td>\n",
       "      <td>I got lost, couldn't find my way\\r\\nAnd I gues...</td>\n",
       "    </tr>\n",
       "    <tr>\n",
       "      <th>3050</th>\n",
       "      <td>45</td>\n",
       "      <td>Every little thing i do</td>\n",
       "      <td>Soul For Real</td>\n",
       "      <td>1995</td>\n",
       "      <td>You are on my mind You are on my mind You are ...</td>\n",
       "      <td>Pop</td>\n",
       "      <td>Hip Hop Soul Party</td>\n",
       "      <td>{938, 500, 502, 503, 1081, 1114, 155, 1054, 767}</td>\n",
       "      <td>606</td>\n",
       "      <td>[0.9999995827674866, -0.8994278907775879, 0.99...</td>\n",
       "      <td>[0.9447580965317316, 0.9607704659988187, 0.930...</td>\n",
       "      <td>[938, 503, 1114, 155]</td>\n",
       "      <td>You are on my mind\\r\\nYou are on my mind\\r\\nYo...</td>\n",
       "      <td>[(Baby, PERSON)]</td>\n",
       "      <td>[(Baby, PERSON, 756, 760)]</td>\n",
       "      <td>4</td>\n",
       "      <td>https://www.youtube.com/watch?v=6ihhJCPYHuk</td>\n",
       "      <td>You are on my mind\\r\\nYou are on my mind\\r\\nYo...</td>\n",
       "    </tr>\n",
       "    <tr>\n",
       "      <th>3079</th>\n",
       "      <td>74</td>\n",
       "      <td>Every day of the week</td>\n",
       "      <td>Jade</td>\n",
       "      <td>1995</td>\n",
       "      <td>Mmm ,  mmm ,  mmm Ooh Whoa ,  oh ,  oh ,  oh O...</td>\n",
       "      <td>R&amp;B Soul</td>\n",
       "      <td>Beverly Hills 90210 The College Years</td>\n",
       "      <td>{1, 4, 5, 8, 9, 13, 17, 18, 20, 21, 25, 28, 30...</td>\n",
       "      <td>912</td>\n",
       "      <td>[0.9997919201850891, -0.8016561269760132, 0.99...</td>\n",
       "      <td>[0.7642631726533486, 0.7601516982744865, 0.729...</td>\n",
       "      <td>[]</td>\n",
       "      <td>Mmm, mmm, mmm\\r\\nOoh\\r\\nWhoa, oh, oh, oh\\r\\nOh...</td>\n",
       "      <td>[(Ooh Whoa, PERSON), (Tuesday, DATE), (Wednesd...</td>\n",
       "      <td>[(Ho, PERSON, 117, 119), (Every day of the wee...</td>\n",
       "      <td>0</td>\n",
       "      <td>https://www.youtube.com/watch?v=dmIJbtrDUb0</td>\n",
       "      <td>Mmm, mmm, mmm\\r\\nOoh\\r\\nWhoa, oh, oh, oh\\r\\nOh...</td>\n",
       "    </tr>\n",
       "    <tr>\n",
       "      <th>3239</th>\n",
       "      <td>26</td>\n",
       "      <td>Every time i close my eyes</td>\n",
       "      <td>Babyface</td>\n",
       "      <td>1997</td>\n",
       "      <td>Girl ,  it's been a long ,  long time comin' ,...</td>\n",
       "      <td>R&amp;B Soul</td>\n",
       "      <td>The Day</td>\n",
       "      <td>{512, 513, 1025, 1024, 1029, 1033, 524, 525, 1...</td>\n",
       "      <td>445</td>\n",
       "      <td>[0.9999887347221375, -0.7722625732421875, 0.99...</td>\n",
       "      <td>[0.8665698003273093, 0.8615997082515299, 0.836...</td>\n",
       "      <td>[538, 30, 62, 1108, 628, 633, 170, 691, 728, 7...</td>\n",
       "      <td>Girl, it's been a long, long time comin', yes ...</td>\n",
       "      <td>[(winter, DATE), (Christmas, DATE), (June, DATE)]</td>\n",
       "      <td>[(winter, DATE, 141, 147), (Christmas, DATE, 1...</td>\n",
       "      <td>14</td>\n",
       "      <td>https://www.youtube.com/watch?v=GbrSO81KhBY</td>\n",
       "      <td>Girl, it's been a long, long time comin', yes ...</td>\n",
       "    </tr>\n",
       "    <tr>\n",
       "      <th>3274</th>\n",
       "      <td>60</td>\n",
       "      <td>Everyday is a winding road</td>\n",
       "      <td>Sheryl Crow</td>\n",
       "      <td>1997</td>\n",
       "      <td>I hitched a ride with a vending machine repair...</td>\n",
       "      <td>Country</td>\n",
       "      <td>Everyday Is A Winding Road</td>\n",
       "      <td>{1024, 6, 8, 9, 1041, 20, 532, 1047, 25, 26, 5...</td>\n",
       "      <td>311</td>\n",
       "      <td>[0.7707357406616211, -0.9870433211326599, -0.0...</td>\n",
       "      <td>[0.8858996362617446, 0.890320669103395, 0.8627...</td>\n",
       "      <td>[570, 617, 141, 360, 457, 463]</td>\n",
       "      <td>I hitched a ride with a vending machine repair...</td>\n",
       "      <td>[(Lay, PERSON), (Easter, PERSON), (Tuesday, DA...</td>\n",
       "      <td>[(Lay, PERSON, 207, 210), (Easter, PERSON, 471...</td>\n",
       "      <td>6</td>\n",
       "      <td>https://www.youtube.com/watch?v=khrx-zrG460</td>\n",
       "      <td>I hitched a ride with a vending machine repair...</td>\n",
       "    </tr>\n",
       "    <tr>\n",
       "      <th>3338</th>\n",
       "      <td>22</td>\n",
       "      <td>Everybody backstreets back</td>\n",
       "      <td>Backstreet Boys</td>\n",
       "      <td>1998</td>\n",
       "      <td>Everybody ,  yeah Rock your body ,  yeah Every...</td>\n",
       "      <td>Pop</td>\n",
       "      <td>Hits Zone Summer 97</td>\n",
       "      <td>{258, 964, 740, 230, 776, 12, 77, 464, 51, 979...</td>\n",
       "      <td>369</td>\n",
       "      <td>[0.7370232343673706, -0.9910230040550232, -0.6...</td>\n",
       "      <td>[0.9341181433893977, 0.9280935251609472, 0.917...</td>\n",
       "      <td>[]</td>\n",
       "      <td>Everybody, yeah\\r\\nRock your body, yeah\\r\\nEve...</td>\n",
       "      <td>[(Backstreet, PERSON), (Brothers, ORG), (Backs...</td>\n",
       "      <td>[(Backstreet, PERSON, 78, 88), (Brothers, ORG,...</td>\n",
       "      <td>0</td>\n",
       "      <td>https://www.youtube.com/watch?v=6M6samPEMpM</td>\n",
       "      <td>Everybody, yeah\\r\\nRock your body, yeah\\r\\nEve...</td>\n",
       "    </tr>\n",
       "    <tr>\n",
       "      <th>3425</th>\n",
       "      <td>8</td>\n",
       "      <td>Every morning</td>\n",
       "      <td>Sugar Ray</td>\n",
       "      <td>1999</td>\n",
       "      <td>Every morning there's a halo hanging From the ...</td>\n",
       "      <td>Pop</td>\n",
       "      <td>1459</td>\n",
       "      <td>{384, 673, 608, 169, 361, 48, 1104, 279, 634, ...</td>\n",
       "      <td>430</td>\n",
       "      <td>[0.4739122986793518, -0.9974892735481262, -0.1...</td>\n",
       "      <td>[0.9266730420478234, 0.9503112052526088, 0.898...</td>\n",
       "      <td>[673, 1104]</td>\n",
       "      <td>Every morning there's a halo hanging\\r\\nFrom t...</td>\n",
       "      <td>[(The weekend, DATE), (Said, PERSON), (Said, P...</td>\n",
       "      <td>[(The weekend, DATE, 144, 155), (Said, PERSON,...</td>\n",
       "      <td>2</td>\n",
       "      <td>https://www.youtube.com/watch?v=3cqU1pFRqYE</td>\n",
       "      <td>Every morning there's a halo hanging\\r\\nFrom t...</td>\n",
       "    </tr>\n",
       "    <tr>\n",
       "      <th>3522</th>\n",
       "      <td>5</td>\n",
       "      <td>Everything you want</td>\n",
       "      <td>Vertical Horizon</td>\n",
       "      <td>2000</td>\n",
       "      <td>Somewhere there's speaking It's already coming...</td>\n",
       "      <td>Alternative Indie</td>\n",
       "      <td>We Are</td>\n",
       "      <td>{}</td>\n",
       "      <td>341</td>\n",
       "      <td>[0.18991608917713165, -0.9939556121826172, -0....</td>\n",
       "      <td>[0.9602868202760152, 0.9168634857593626, 0.975...</td>\n",
       "      <td>[]</td>\n",
       "      <td>Somewhere there's speaking\\r\\nIt's already com...</td>\n",
       "      <td>[]</td>\n",
       "      <td>[]</td>\n",
       "      <td>0</td>\n",
       "      <td>https://www.youtube.com/watch?v=VwSaldFJofM</td>\n",
       "      <td>Somewhere there's speaking\\r\\nIt's already com...</td>\n",
       "    </tr>\n",
       "    <tr>\n",
       "      <th>4000</th>\n",
       "      <td>83</td>\n",
       "      <td>Everytime</td>\n",
       "      <td>Britney Spears</td>\n",
       "      <td>2004</td>\n",
       "      <td>Notice me Take my hand Why are we Strangers wh...</td>\n",
       "      <td>Pop</td>\n",
       "      <td>In The Zone</td>\n",
       "      <td>{}</td>\n",
       "      <td>249</td>\n",
       "      <td>[0.48135852813720703, -0.9326229691505432, -0....</td>\n",
       "      <td>[0.8706494375172873, 0.8689196280669994, 0.838...</td>\n",
       "      <td>[]</td>\n",
       "      <td>Notice me\\r\\nTake my hand\\r\\nWhy are we\\r\\nStr...</td>\n",
       "      <td>[]</td>\n",
       "      <td>[]</td>\n",
       "      <td>0</td>\n",
       "      <td>https://www.youtube.com/watch?v=8YzabSdk7ZA</td>\n",
       "      <td>Notice me\\r\\nTake my hand\\r\\nWhy are we\\r\\nStr...</td>\n",
       "    </tr>\n",
       "    <tr>\n",
       "      <th>4148</th>\n",
       "      <td>31</td>\n",
       "      <td>Everytime we touch</td>\n",
       "      <td>Cascada</td>\n",
       "      <td>2006</td>\n",
       "      <td>I still hear your voice when you sleep next to...</td>\n",
       "      <td>Dance Electronic</td>\n",
       "      <td>Everytime We Touch  Radio Mix</td>\n",
       "      <td>{}</td>\n",
       "      <td>287</td>\n",
       "      <td>[0.7138433456420898, -0.9824473857879639, 0.46...</td>\n",
       "      <td>[0.9700075305604744, 0.9235051777169482, 0.957...</td>\n",
       "      <td>[]</td>\n",
       "      <td>I still hear your voice when you sleep next to...</td>\n",
       "      <td>[]</td>\n",
       "      <td>[]</td>\n",
       "      <td>0</td>\n",
       "      <td>https://www.youtube.com/watch?v=4G6QDNC4jPs</td>\n",
       "      <td>I still hear your voice when you sleep next to...</td>\n",
       "    </tr>\n",
       "    <tr>\n",
       "      <th>4484</th>\n",
       "      <td>67</td>\n",
       "      <td>Every girl</td>\n",
       "      <td>Young Money</td>\n",
       "      <td>2009</td>\n",
       "      <td>Tha Biz ,  The Bizness  Uh ,  I like a long ha...</td>\n",
       "      <td>Hip Hop Rap</td>\n",
       "      <td>Every Girl</td>\n",
       "      <td>{2, 5, 8, 12, 23, 25, 27, 28, 32, 33, 34, 41, ...</td>\n",
       "      <td>1013</td>\n",
       "      <td>[0.9625585675239563, -0.4925421178340912, 0.98...</td>\n",
       "      <td>[0.7936851692281164, 0.7928390717899881, 0.760...</td>\n",
       "      <td>[]</td>\n",
       "      <td>Tha Biz, The Bizness\\r\\n\\r\\nUh, I like a long ...</td>\n",
       "      <td>[(Tha Biz, ORG), (Tunechi, PERSON), (Took, PER...</td>\n",
       "      <td>[(Tha Biz, ORG, 0, 7), (Tunechi, PERSON, 445, ...</td>\n",
       "      <td>0</td>\n",
       "      <td>https://www.youtube.com/watch?v=QGzq2HQ2YRs</td>\n",
       "      <td>&lt;mark class=\"entity\" style=\"background: #fffff...</td>\n",
       "    </tr>\n",
       "    <tr>\n",
       "      <th>4739</th>\n",
       "      <td>22</td>\n",
       "      <td>Everybody talks</td>\n",
       "      <td>Neon Trees</td>\n",
       "      <td>2012</td>\n",
       "      <td>Hey baby won't you look my way I can be your n...</td>\n",
       "      <td>Alternative Indie</td>\n",
       "      <td>Picture Show</td>\n",
       "      <td>{}</td>\n",
       "      <td>306</td>\n",
       "      <td>[0.7080049514770508, -0.9932957887649536, -0.7...</td>\n",
       "      <td>[0.8894411972549263, 0.8794625886796593, 0.858...</td>\n",
       "      <td>[]</td>\n",
       "      <td>Hey baby won't you look my way\\r\\nI can be you...</td>\n",
       "      <td>[]</td>\n",
       "      <td>[]</td>\n",
       "      <td>0</td>\n",
       "      <td>https://www.youtube.com/watch?v=X5G9tIe84lE</td>\n",
       "      <td>Hey baby won't you look my way\\r\\nI can be you...</td>\n",
       "    </tr>\n",
       "  </tbody>\n",
       "</table>\n",
       "</div>"
      ],
      "text/plain": [
       "      Rank                                         Song  \\\n",
       "404      5                              Everyday people   \n",
       "472     73                            Everybodys talkin   \n",
       "511     12                      Everything is beautiful   \n",
       "732     29                     Everybody plays the fool   \n",
       "755     52                             Everything i own   \n",
       "1361    57  Every time i turn around back in love again   \n",
       "1377    73                           Every kinda people   \n",
       "1459    55                            Every 1s a winner   \n",
       "1493    89                     Everytime i think of you   \n",
       "1631    27                     Every woman in the world   \n",
       "1783    79         Every little thing she does is magic   \n",
       "1805     1                        Every breath you take   \n",
       "2011     7            Everybody wants to rule the world   \n",
       "2015    11                        Everytime you go away   \n",
       "2029    25                         Everything she wants   \n",
       "2216    12                   Everybody have fun tonight   \n",
       "2376    72                Everything your heart desires   \n",
       "2407     3                     Every rose has its thorn   \n",
       "2452    48                            Every little step   \n",
       "2545    41                                   Everything   \n",
       "2585    81                          Everybody everybody   \n",
       "2605     1              Everything i do i do it for you   \n",
       "2632    28                              Every heartbeat   \n",
       "2691    87                     Everybody plays the fool   \n",
       "2776    72                         Everything about you   \n",
       "2783    79                           Everything changes   \n",
       "2991    86                                     Everyday   \n",
       "3050    45                      Every little thing i do   \n",
       "3079    74                        Every day of the week   \n",
       "3239    26                   Every time i close my eyes   \n",
       "3274    60                   Everyday is a winding road   \n",
       "3338    22                   Everybody backstreets back   \n",
       "3425     8                                Every morning   \n",
       "3522     5                          Everything you want   \n",
       "4000    83                                    Everytime   \n",
       "4148    31                           Everytime we touch   \n",
       "4484    67                                   Every girl   \n",
       "4739    22                              Everybody talks   \n",
       "\n",
       "                      Artist  Year  \\\n",
       "404    Sly  The Family Stone  1969   \n",
       "472            Harry Nilsson  1969   \n",
       "511              Ray Stevens  1970   \n",
       "732      The Main Ingredient  1972   \n",
       "755                    Bread  1972   \n",
       "1361                     Ltd  1978   \n",
       "1377           Robert Palmer  1978   \n",
       "1459           Hot Chocolate  1979   \n",
       "1493               The Babys  1979   \n",
       "1631              Air Supply  1981   \n",
       "1783              The Police  1982   \n",
       "1805              The Police  1983   \n",
       "2011         Tears For Fears  1985   \n",
       "2015              Paul Young  1985   \n",
       "2029                    Wham  1985   \n",
       "2216              Wang Chung  1987   \n",
       "2376  Daryl Hall  John Oates  1988   \n",
       "2407                  Poison  1989   \n",
       "2452             Bobby Brown  1989   \n",
       "2545             Jody Watley  1990   \n",
       "2585               Black Box  1990   \n",
       "2605             Bryan Adams  1991   \n",
       "2632               Amy Grant  1991   \n",
       "2691           Aaron Neville  1991   \n",
       "2776            Ugly Kid Joe  1992   \n",
       "2783          Kathy Troccoli  1992   \n",
       "2991            Phil Collins  1994   \n",
       "3050           Soul For Real  1995   \n",
       "3079                    Jade  1995   \n",
       "3239                Babyface  1997   \n",
       "3274             Sheryl Crow  1997   \n",
       "3338         Backstreet Boys  1998   \n",
       "3425               Sugar Ray  1999   \n",
       "3522        Vertical Horizon  2000   \n",
       "4000          Britney Spears  2004   \n",
       "4148                 Cascada  2006   \n",
       "4484             Young Money  2009   \n",
       "4739              Neon Trees  2012   \n",
       "\n",
       "                                                 Lyrics               Genre  \\\n",
       "404   Sometimes I'm right and I can be wrong My own ...                Funk   \n",
       "472   Everybody's talkin' at me I don't hear a word ...                 Pop   \n",
       "511   Jesus loves the little children All the little...                 Pop   \n",
       "732   Okay ,  so you're heartbroken You sit around m...            R&B Soul   \n",
       "755   You sheltered me from harm Kept me warm ,  kep...                Rock   \n",
       "1361  Every time I move ,  I lose When I look I'm in...                Funk   \n",
       "1377  Said the fight to make ends meet Keeps a man u...                Rock   \n",
       "1459  Never could believe the things you do to me , ...                Rock   \n",
       "1493  Everytime I think of you it always turns out g...            Pop Rock   \n",
       "1631  Overnight scenes ,  dinner and wine Saturday g...                Rock   \n",
       "1783  Though I've tried before to tell her Of the fe...                Rock   \n",
       "1805  Every breath you take and every move you make ...                 Pop   \n",
       "2011  Welcome to your life There's no turning back E...                Rock   \n",
       "2015  Don't leave me all alone Picking up the pieces...                 Pop   \n",
       "2029  Uh huh huh Ohhh yeah Work ,  work  Somebody to...   Alternative Indie   \n",
       "2216  I'll drive a million miles To be with you toni...            New Wave   \n",
       "2376  You say you can't stand to be tied so close to...                 Pop   \n",
       "2407  We both lie silently still in the dead of the ...          Glam Metal   \n",
       "2452  I can't sleep at night ,  I toss and turn I ca...            R&B Soul   \n",
       "2545  Lately I feel so all alone Can't find the joy ...    Contemporary R&B   \n",
       "2585  You won't belong to me I let you down I walk a...    Dance Electronic   \n",
       "2605  Look into my eyes - you will see What you mean...  Adult Contemporary   \n",
       "2632  Hear me speak what's on my mind Let me give th...              Gospel   \n",
       "2691  Ok ,  so your heart is broken You're sitting a...  Adult Contemporary   \n",
       "2776  Are you those guys on the beach that hate ever...           Hard Rock   \n",
       "2783  Well ,  you came in my life like a ray of ligh...              Gospel   \n",
       "2991  I got lost ,  couldn't find my way And I guess...  Adult Contemporary   \n",
       "3050  You are on my mind You are on my mind You are ...                 Pop   \n",
       "3079  Mmm ,  mmm ,  mmm Ooh Whoa ,  oh ,  oh ,  oh O...            R&B Soul   \n",
       "3239  Girl ,  it's been a long ,  long time comin' ,...            R&B Soul   \n",
       "3274  I hitched a ride with a vending machine repair...             Country   \n",
       "3338  Everybody ,  yeah Rock your body ,  yeah Every...                 Pop   \n",
       "3425  Every morning there's a halo hanging From the ...                 Pop   \n",
       "3522  Somewhere there's speaking It's already coming...   Alternative Indie   \n",
       "4000  Notice me Take my hand Why are we Strangers wh...                 Pop   \n",
       "4148  I still hear your voice when you sleep next to...    Dance Electronic   \n",
       "4484  Tha Biz ,  The Bizness  Uh ,  I like a long ha...         Hip Hop Rap   \n",
       "4739  Hey baby won't you look my way I can be your n...   Alternative Indie   \n",
       "\n",
       "                                                  Album  \\\n",
       "404                                               Stand   \n",
       "472                                       Aerial Ballet   \n",
       "511                             Everything Is Beautiful   \n",
       "732                                        Bitter Sweet   \n",
       "755                                  Baby Im A Want You   \n",
       "1361                                  Something To Love   \n",
       "1377                                         Double Fun   \n",
       "1459                  Every 1S A Winner  Single Version   \n",
       "1493                                         Head First   \n",
       "1631                                       Lost In Love   \n",
       "1783                               Ghost In The Machine   \n",
       "1805                                      Synchronicity   \n",
       "2011                           Songs From The Big Chair   \n",
       "2015   Every Time You Go Away  Re Recorded  Remastered    \n",
       "2029                                        Make It Big   \n",
       "2216                                             Mosaic   \n",
       "2376         Everything Your Heart Desires Ep  Remixes    \n",
       "2407                                Open Up And Say Ahh   \n",
       "2452                                      Dont Be Cruel   \n",
       "2545                                   Larger Than Life   \n",
       "2585                                          Dreamland   \n",
       "2605  Robin Hood Prince Of Thieves – Original Motion...   \n",
       "2632                                    Heart In Motion   \n",
       "2691                           Everybody Plays The Fool   \n",
       "2776                           As Ugly As They Wanna Be   \n",
       "2783                                    Pure Attraction   \n",
       "2991                        Both Sides  Deluxe Edition    \n",
       "3050                                 Hip Hop Soul Party   \n",
       "3079              Beverly Hills 90210 The College Years   \n",
       "3239                                            The Day   \n",
       "3274                         Everyday Is A Winding Road   \n",
       "3338                                Hits Zone Summer 97   \n",
       "3425                                               1459   \n",
       "3522                                             We Are   \n",
       "4000                                        In The Zone   \n",
       "4148                     Everytime We Touch  Radio Mix    \n",
       "4484                                         Every Girl   \n",
       "4739                                       Picture Show   \n",
       "\n",
       "                                                   Refs  word_count  \\\n",
       "404                                                  {}         243   \n",
       "472                                                  {}         186   \n",
       "511   {1025, 2, 1027, 1028, 5, 518, 1029, 8, 1033, 5...         281   \n",
       "732   {1026, 515, 517, 1039, 17, 20, 22, 1046, 1051,...         288   \n",
       "755   {513, 515, 1033, 140, 525, 653, 911, 17, 913, ...         227   \n",
       "1361  {768, 769, 514, 770, 391, 139, 919, 154, 282, ...         647   \n",
       "1377                                                 {}         243   \n",
       "1459  {417, 774, 903, 871, 487, 683, 428, 812, 339, ...         277   \n",
       "1493  {390, 775, 520, 905, 906, 779, 1032, 17, 659, ...         382   \n",
       "1631  {382, 487, 683, 849, 468, 821, 630, 759, 758, ...         180   \n",
       "1783  {1025, 2, 1027, 1028, 5, 518, 1033, 522, 12, 1...         429   \n",
       "1805                                         {634, 683}         480   \n",
       "2011                                                 {}         179   \n",
       "2015   {938, 500, 502, 503, 1081, 1114, 155, 1054, 767}         361   \n",
       "2029  {386, 643, 899, 776, 523, 140, 272, 1041, 146,...         489   \n",
       "2216  {773, 525, 531, 148, 28, 549, 690, 691, 1078, ...         323   \n",
       "2376   {938, 500, 502, 503, 1081, 1114, 155, 1054, 767}         477   \n",
       "2407                                                 {}         292   \n",
       "2452  {3, 5, 518, 510, 1033, 521, 9, 524, 525, 14, 1...         652   \n",
       "2545                                                 {}         255   \n",
       "2585                                                 {}         227   \n",
       "2605                                                 {}         323   \n",
       "2632                                                 {}         305   \n",
       "2691  {1026, 515, 517, 1039, 17, 20, 22, 1046, 1051,...         339   \n",
       "2776                                                 {}         317   \n",
       "2783                          {135, 683, 431, 631, 343}         437   \n",
       "2991  {515, 517, 1039, 17, 20, 1051, 1052, 34, 36, 4...         364   \n",
       "3050   {938, 500, 502, 503, 1081, 1114, 155, 1054, 767}         606   \n",
       "3079  {1, 4, 5, 8, 9, 13, 17, 18, 20, 21, 25, 28, 30...         912   \n",
       "3239  {512, 513, 1025, 1024, 1029, 1033, 524, 525, 1...         445   \n",
       "3274  {1024, 6, 8, 9, 1041, 20, 532, 1047, 25, 26, 5...         311   \n",
       "3338  {258, 964, 740, 230, 776, 12, 77, 464, 51, 979...         369   \n",
       "3425  {384, 673, 608, 169, 361, 48, 1104, 279, 634, ...         430   \n",
       "3522                                                 {}         341   \n",
       "4000                                                 {}         249   \n",
       "4148                                                 {}         287   \n",
       "4484  {2, 5, 8, 12, 23, 25, 27, 28, 32, 33, 34, 41, ...        1013   \n",
       "4739                                                 {}         306   \n",
       "\n",
       "                                                   vect  \\\n",
       "404   [-0.6625109910964966, -0.9864662885665894, -0....   \n",
       "472   [0.9065132141113281, -0.9525209665298462, -0.5...   \n",
       "511   [0.5493150353431702, -0.9113931655883789, -0.1...   \n",
       "732   [0.6118214130401611, -0.9598145484924316, -0.1...   \n",
       "755   [0.7286788821220398, -0.9704616069793701, -0.6...   \n",
       "1361  [0.9999950528144836, -0.8287438750267029, 0.98...   \n",
       "1377  [-0.8171799778938293, -0.9947508573532104, -0....   \n",
       "1459  [-0.14156875014305115, -0.9837441444396973, -0...   \n",
       "1493  [0.8054536581039429, -0.978695273399353, -0.77...   \n",
       "1631  [0.5300176739692688, -0.890407145023346, -0.56...   \n",
       "1783  [0.09709634631872177, -0.9506261348724365, -0....   \n",
       "1805  [0.9999996423721313, -0.9222927689552307, 0.99...   \n",
       "2011  [0.9511083960533142, -0.9521746635437012, -0.7...   \n",
       "2015  [0.34993302822113037, -0.9646230936050415, -0....   \n",
       "2029  [0.9965063333511353, -0.6077260971069336, 0.99...   \n",
       "2216  [0.7848924398422241, -0.9894314408302307, -0.3...   \n",
       "2376  [0.9852750301361084, -0.5526575446128845, 0.99...   \n",
       "2407  [0.7152144908905029, -0.9602258801460266, -0.5...   \n",
       "2452  [0.9999997615814209, -0.8313596248626709, 0.99...   \n",
       "2545  [0.8855298757553101, -0.9768524169921875, -0.5...   \n",
       "2585  [0.9956339597702026, -0.9480270147323608, -0.3...   \n",
       "2605  [0.7113242745399475, -0.9848819971084595, -0.2...   \n",
       "2632  [0.7186602354049683, -0.9769960045814514, -0.0...   \n",
       "2691  [-0.3316299617290497, -0.9907526969909668, -0....   \n",
       "2776  [0.7771006226539612, -0.9707436561584473, -0.6...   \n",
       "2783  [0.329530268907547, -0.9862337112426758, 0.289...   \n",
       "2991  [-0.05369086191058159, -0.9903466105461121, -0...   \n",
       "3050  [0.9999995827674866, -0.8994278907775879, 0.99...   \n",
       "3079  [0.9997919201850891, -0.8016561269760132, 0.99...   \n",
       "3239  [0.9999887347221375, -0.7722625732421875, 0.99...   \n",
       "3274  [0.7707357406616211, -0.9870433211326599, -0.0...   \n",
       "3338  [0.7370232343673706, -0.9910230040550232, -0.6...   \n",
       "3425  [0.4739122986793518, -0.9974892735481262, -0.1...   \n",
       "3522  [0.18991608917713165, -0.9939556121826172, -0....   \n",
       "4000  [0.48135852813720703, -0.9326229691505432, -0....   \n",
       "4148  [0.7138433456420898, -0.9824473857879639, 0.46...   \n",
       "4484  [0.9625585675239563, -0.4925421178340912, 0.98...   \n",
       "4739  [0.7080049514770508, -0.9932957887649536, -0.7...   \n",
       "\n",
       "                                                   sims  \\\n",
       "404   [0.9189457064123593, 0.9308117551613521, 0.918...   \n",
       "472   [0.9402395806198696, 0.9533729585696741, 0.938...   \n",
       "511   [0.9132380353709844, 0.905950031930215, 0.8988...   \n",
       "732   [0.8885130425318898, 0.8952057965525602, 0.855...   \n",
       "755   [0.9173026583267022, 0.9138904362785629, 0.888...   \n",
       "1361  [0.9066736703358013, 0.9254408641057726, 0.912...   \n",
       "1377  [0.8768804541475473, 0.883974081720005, 0.8572...   \n",
       "1459  [0.8837662543673136, 0.8765139598094462, 0.854...   \n",
       "1493  [0.9685850325866133, 0.9289726142567184, 0.974...   \n",
       "1631  [0.916620803885223, 0.9447893559099858, 0.9079...   \n",
       "1783  [0.9725744123469201, 0.9549989459927295, 0.951...   \n",
       "1805  [0.9457318369414968, 0.9492334890754957, 0.899...   \n",
       "2011  [0.902221821188263, 0.8800433768695817, 0.8797...   \n",
       "2015  [0.9511083431212002, 0.9505798583636424, 0.938...   \n",
       "2029  [0.8989165216035293, 0.8848099174740133, 0.859...   \n",
       "2216  [0.957796130406693, 0.8961212801889453, 0.9565...   \n",
       "2376  [0.8839865702090735, 0.8836131756943602, 0.863...   \n",
       "2407  [0.8660543028222534, 0.871856839446545, 0.8335...   \n",
       "2452  [0.958306478864175, 0.941738427511922, 0.94725...   \n",
       "2545  [0.9601092800459481, 0.9243946357326178, 0.950...   \n",
       "2585  [0.9606489619280947, 0.9200958330779909, 0.939...   \n",
       "2605  [0.9693410156109574, 0.9235557302860246, 0.960...   \n",
       "2632  [0.9362098375505976, 0.9115103678721704, 0.920...   \n",
       "2691  [0.9180395517196802, 0.9002336396175243, 0.879...   \n",
       "2776  [0.9602143570401096, 0.9402120248107868, 0.948...   \n",
       "2783  [0.9313144399228926, 0.9406992482107339, 0.916...   \n",
       "2991  [0.9506348716033144, 0.9353622271738178, 0.933...   \n",
       "3050  [0.9447580965317316, 0.9607704659988187, 0.930...   \n",
       "3079  [0.7642631726533486, 0.7601516982744865, 0.729...   \n",
       "3239  [0.8665698003273093, 0.8615997082515299, 0.836...   \n",
       "3274  [0.8858996362617446, 0.890320669103395, 0.8627...   \n",
       "3338  [0.9341181433893977, 0.9280935251609472, 0.917...   \n",
       "3425  [0.9266730420478234, 0.9503112052526088, 0.898...   \n",
       "3522  [0.9602868202760152, 0.9168634857593626, 0.975...   \n",
       "4000  [0.8706494375172873, 0.8689196280669994, 0.838...   \n",
       "4148  [0.9700075305604744, 0.9235051777169482, 0.957...   \n",
       "4484  [0.7936851692281164, 0.7928390717899881, 0.760...   \n",
       "4739  [0.8894411972549263, 0.8794625886796593, 0.858...   \n",
       "\n",
       "                                           filteredRefs  \\\n",
       "404                                                  []   \n",
       "472                                                  []   \n",
       "511   [1042, 28, 62, 110, 117, 147, 156, 177, 203, 2...   \n",
       "732                 [633, 220, 836, 853, 860, 349, 359]   \n",
       "755                       [17, 533, 285, 799, 570, 508]   \n",
       "1361  [514, 919, 154, 295, 313, 587, 204, 86, 475, 7...   \n",
       "1377                                                 []   \n",
       "1459                                              [774]   \n",
       "1493  [905, 906, 779, 659, 408, 409, 31, 160, 422, 9...   \n",
       "1631                                    [759, 468, 821]   \n",
       "1783  [1025, 2, 1028, 518, 25, 542, 32, 33, 34, 549,...   \n",
       "1805                                                 []   \n",
       "2011                                                 []   \n",
       "2015         [938, 500, 502, 503, 1081, 1114, 155, 767]   \n",
       "2029                                   [1054, 465, 497]   \n",
       "2216                               [773, 531, 549, 240]   \n",
       "2376                                             [1054]   \n",
       "2407                                                 []   \n",
       "2452  [3, 518, 1033, 524, 529, 532, 531, 24, 25, 32,...   \n",
       "2545                                                 []   \n",
       "2585                                                 []   \n",
       "2605                                                 []   \n",
       "2632                                                 []   \n",
       "2691                     [220, 836, 853, 860, 349, 359]   \n",
       "2776                                                 []   \n",
       "2783                                              [343]   \n",
       "2991  [17, 20, 34, 53, 1091, 76, 1111, 112, 631, 718...   \n",
       "3050                              [938, 503, 1114, 155]   \n",
       "3079                                                 []   \n",
       "3239  [538, 30, 62, 1108, 628, 633, 170, 691, 728, 7...   \n",
       "3274                     [570, 617, 141, 360, 457, 463]   \n",
       "3338                                                 []   \n",
       "3425                                        [673, 1104]   \n",
       "3522                                                 []   \n",
       "4000                                                 []   \n",
       "4148                                                 []   \n",
       "4484                                                 []   \n",
       "4739                                                 []   \n",
       "\n",
       "                                           Lyrics_print  \\\n",
       "404   Sometimes I'm right and I can be wrong\\r\\nMy o...   \n",
       "472   Everybody's talkin' at me\\r\\nI don't hear a wo...   \n",
       "511   Jesus loves the little children\\r\\nAll the lit...   \n",
       "732   Okay, so you're heartbroken\\r\\nYou sit around ...   \n",
       "755   You sheltered me from harm\\r\\nKept me warm, ke...   \n",
       "1361  Every time I move, I lose\\r\\nWhen I look I'm i...   \n",
       "1377  Said the fight to make ends meet\\r\\nKeeps a ma...   \n",
       "1459  Never could believe the things you do to me,\\r...   \n",
       "1493  Everytime I think of you it always turns out g...   \n",
       "1631  Overnight scenes, dinner and wine\\r\\nSaturday ...   \n",
       "1783  Though I've tried before to tell her\\r\\nOf the...   \n",
       "1805  Every breath you take and every move you make\\...   \n",
       "2011  Welcome to your life\\r\\nThere's no turning bac...   \n",
       "2015  Don't leave me all alone\\r\\nPicking up the pie...   \n",
       "2029  Uh huh huh\\r\\nOhhh yeah\\r\\nWork, work\\r\\n\\r\\nS...   \n",
       "2216  I'll drive a million miles\\r\\nTo be with you t...   \n",
       "2376  You say you can't stand to be tied so close to...   \n",
       "2407  We both lie silently still in the dead of the ...   \n",
       "2452  I can't sleep at night, I toss and turn\\r\\nI c...   \n",
       "2545  Lately I feel so all alone\\r\\nCan't find the j...   \n",
       "2585  You won't belong to me\\r\\nI let you down\\r\\nI ...   \n",
       "2605  Look into my eyes - you will see\\r\\nWhat you m...   \n",
       "2632  Hear me speak what's on my mind\\r\\nLet me give...   \n",
       "2691  Ok, so your heart is broken\\r\\nYou're sitting ...   \n",
       "2776  Are you those guys on the beach that hate ever...   \n",
       "2783  Well, you came in my life like a ray of light\\...   \n",
       "2991  I got lost, couldn't find my way\\r\\nAnd I gues...   \n",
       "3050  You are on my mind\\r\\nYou are on my mind\\r\\nYo...   \n",
       "3079  Mmm, mmm, mmm\\r\\nOoh\\r\\nWhoa, oh, oh, oh\\r\\nOh...   \n",
       "3239  Girl, it's been a long, long time comin', yes ...   \n",
       "3274  I hitched a ride with a vending machine repair...   \n",
       "3338  Everybody, yeah\\r\\nRock your body, yeah\\r\\nEve...   \n",
       "3425  Every morning there's a halo hanging\\r\\nFrom t...   \n",
       "3522  Somewhere there's speaking\\r\\nIt's already com...   \n",
       "4000  Notice me\\r\\nTake my hand\\r\\nWhy are we\\r\\nStr...   \n",
       "4148  I still hear your voice when you sleep next to...   \n",
       "4484  Tha Biz, The Bizness\\r\\n\\r\\nUh, I like a long ...   \n",
       "4739  Hey baby won't you look my way\\r\\nI can be you...   \n",
       "\n",
       "                                               Entities  \\\n",
       "404                                                  []   \n",
       "472                                       [(Wohm, GPE)]   \n",
       "511   [(Jesus, PERSON), (Jesus, PERSON), (winter's d...   \n",
       "732   [(mopin, PERSON), (Love, WORK_OF_ART), (earth,...   \n",
       "755            [(all the years, DATE), (one day, DATE)]   \n",
       "1361                                  [(Jones, PERSON)]   \n",
       "1377                                                 []   \n",
       "1459                                  [(the day, DATE)]   \n",
       "1493                                  [(Seasons, DATE)]   \n",
       "1631                                 [(Saturday, DATE)]   \n",
       "1783  [(a thousand rainy days, DATE), (Long, PERSON)...   \n",
       "1805                         [(Every single day, DATE)]   \n",
       "2011                                                 []   \n",
       "2015                                      [(Baby, ORG)]   \n",
       "2029  [(Boy, PERSON), (six months, DATE), (the end o...   \n",
       "2216  [(Wang Chung, PERSON), (Wang Chung, PERSON), (...   \n",
       "2376                                   [(Baby, PERSON)]   \n",
       "2407                                                 []   \n",
       "2452  [(James, PERSON), (Jim, PERSON), (the Bobby Br...   \n",
       "2545                                                 []   \n",
       "2585                                                 []   \n",
       "2605                                                 []   \n",
       "2632                                                 []   \n",
       "2691  [(mopin, PERSON), (Fallin, PERSON), (Love, WOR...   \n",
       "2776                                                 []   \n",
       "2783                [(Whoa, PERSON), (yesterday, DATE)]   \n",
       "2991                              [(Love, WORK_OF_ART)]   \n",
       "3050                                   [(Baby, PERSON)]   \n",
       "3079  [(Ooh Whoa, PERSON), (Tuesday, DATE), (Wednesd...   \n",
       "3239  [(winter, DATE), (Christmas, DATE), (June, DATE)]   \n",
       "3274  [(Lay, PERSON), (Easter, PERSON), (Tuesday, DA...   \n",
       "3338  [(Backstreet, PERSON), (Brothers, ORG), (Backs...   \n",
       "3425  [(The weekend, DATE), (Said, PERSON), (Said, P...   \n",
       "3522                                                 []   \n",
       "4000                                                 []   \n",
       "4148                                                 []   \n",
       "4484  [(Tha Biz, ORG), (Tunechi, PERSON), (Took, PER...   \n",
       "4739                                                 []   \n",
       "\n",
       "                                          Entities_more  num_refs  \\\n",
       "404                                                  []         0   \n",
       "472   [(Wohm, GPE, 391, 395), (Wohm, GPE, 415, 419),...         0   \n",
       "511   [(Jesus, PERSON, 0, 5), (Jesus, PERSON, 136, 1...        21   \n",
       "732   [(mopin, PERSON, 44, 49), (Love, WORK_OF_ART, ...         7   \n",
       "755   [(all the years, DATE, 141, 154), (one day, DA...         6   \n",
       "1361                      [(Jones, PERSON, 1449, 1454)]        13   \n",
       "1377                                                 []         0   \n",
       "1459                        [(the day, DATE, 102, 109)]         1   \n",
       "1493                        [(Seasons, DATE, 503, 510)]        32   \n",
       "1631                         [(Saturday, DATE, 35, 43)]         3   \n",
       "1783  [(a thousand rainy days, DATE, 352, 373), (Lon...        94   \n",
       "1805  [(Every single day, DATE, 112, 128), (Every si...         0   \n",
       "2011                                                 []         0   \n",
       "2015                            [(Baby, ORG, 771, 775)]         8   \n",
       "2029  [(Boy, PERSON, 56, 59), (six months, DATE, 209...         3   \n",
       "2216  [(Wang Chung, PERSON, 394, 404), (Wang Chung, ...         4   \n",
       "2376                         [(Baby, PERSON, 942, 946)]         1   \n",
       "2407                                                 []         0   \n",
       "2452  [(James, PERSON, 1459, 1464), (Jim, PERSON, 14...       112   \n",
       "2545                                                 []         0   \n",
       "2585                                                 []         0   \n",
       "2605                                                 []         0   \n",
       "2632                                                 []         0   \n",
       "2691  [(mopin, PERSON, 51, 56), (Fallin, PERSON, 328...         6   \n",
       "2776                                                 []         0   \n",
       "2783  [(Whoa, PERSON, 166, 170), (Whoa, PERSON, 199,...         1   \n",
       "2991                      [(Love, WORK_OF_ART, 75, 79)]        20   \n",
       "3050                         [(Baby, PERSON, 756, 760)]         4   \n",
       "3079  [(Ho, PERSON, 117, 119), (Every day of the wee...         0   \n",
       "3239  [(winter, DATE, 141, 147), (Christmas, DATE, 1...        14   \n",
       "3274  [(Lay, PERSON, 207, 210), (Easter, PERSON, 471...         6   \n",
       "3338  [(Backstreet, PERSON, 78, 88), (Brothers, ORG,...         0   \n",
       "3425  [(The weekend, DATE, 144, 155), (Said, PERSON,...         2   \n",
       "3522                                                 []         0   \n",
       "4000                                                 []         0   \n",
       "4148                                                 []         0   \n",
       "4484  [(Tha Biz, ORG, 0, 7), (Tunechi, PERSON, 445, ...         0   \n",
       "4739                                                 []         0   \n",
       "\n",
       "                                          Youtube  \\\n",
       "404   https://www.youtube.com/watch?v=YUUhDoCx8zc   \n",
       "472   https://www.youtube.com/watch?v=55xQu9eIPIA   \n",
       "511   https://www.youtube.com/watch?v=0a45z_HG3WU   \n",
       "732   https://www.youtube.com/watch?v=7i72cbo_qdg   \n",
       "755   https://www.youtube.com/watch?v=2Fvb5woQ3ZI   \n",
       "1361  https://www.youtube.com/watch?v=K3H-efs9wL4   \n",
       "1377  https://www.youtube.com/watch?v=R686uRAzwIk   \n",
       "1459  https://www.youtube.com/watch?v=-SFFRaIUisY   \n",
       "1493  https://www.youtube.com/watch?v=LvvGgqV6SGo   \n",
       "1631  https://www.youtube.com/watch?v=s_JNrOGAH0Q   \n",
       "1783  https://www.youtube.com/watch?v=aENX1Sf3fgQ   \n",
       "1805  https://www.youtube.com/watch?v=OMOGaugKpzs   \n",
       "2011  https://www.youtube.com/watch?v=aGCdLKXNF3w   \n",
       "2015  https://www.youtube.com/watch?v=nfk6sCzRTbM   \n",
       "2029  https://www.youtube.com/watch?v=Yf_Lwe6p-Cg   \n",
       "2216  https://www.youtube.com/watch?v=BoXu6QmxpJE   \n",
       "2376  https://www.youtube.com/watch?v=c-nErsGyiuY   \n",
       "2407  https://www.youtube.com/watch?v=ZcqWyyHlCDA   \n",
       "2452  https://www.youtube.com/watch?v=P0FKzPfsxA4   \n",
       "2545  https://www.youtube.com/watch?v=gD0GJrm8lYE   \n",
       "2585  https://www.youtube.com/watch?v=18N2k1TBBRE   \n",
       "2605  https://www.youtube.com/watch?v=Y0pdQU87dc8   \n",
       "2632  https://www.youtube.com/watch?v=kcYIZ-cduvM   \n",
       "2691  https://www.youtube.com/watch?v=bKAJs8waYd4   \n",
       "2776  https://www.youtube.com/watch?v=byEGjLU2egA   \n",
       "2783  https://www.youtube.com/watch?v=4C9AD1oyE30   \n",
       "2991  https://www.youtube.com/watch?v=xQpsXA36uq4   \n",
       "3050  https://www.youtube.com/watch?v=6ihhJCPYHuk   \n",
       "3079  https://www.youtube.com/watch?v=dmIJbtrDUb0   \n",
       "3239  https://www.youtube.com/watch?v=GbrSO81KhBY   \n",
       "3274  https://www.youtube.com/watch?v=khrx-zrG460   \n",
       "3338  https://www.youtube.com/watch?v=6M6samPEMpM   \n",
       "3425  https://www.youtube.com/watch?v=3cqU1pFRqYE   \n",
       "3522  https://www.youtube.com/watch?v=VwSaldFJofM   \n",
       "4000  https://www.youtube.com/watch?v=8YzabSdk7ZA   \n",
       "4148  https://www.youtube.com/watch?v=4G6QDNC4jPs   \n",
       "4484  https://www.youtube.com/watch?v=QGzq2HQ2YRs   \n",
       "4739  https://www.youtube.com/watch?v=X5G9tIe84lE   \n",
       "\n",
       "                                  Lyrics_print_embedded  \n",
       "404   Sometimes I'm right and I can be wrong\\r\\nMy o...  \n",
       "472   Everybody's talkin' at me\\r\\nI don't hear a wo...  \n",
       "511   <mark class=\"entity\" style=\"background: #fffff...  \n",
       "732   Okay, so you're heartbroken\\r\\nYou sit around ...  \n",
       "755   You sheltered me from harm\\r\\nKept me warm, ke...  \n",
       "1361  Every time I move, I lose\\r\\nWhen I look I'm i...  \n",
       "1377  Said the fight to make ends meet\\r\\nKeeps a ma...  \n",
       "1459  Never could believe the things you do to me,\\r...  \n",
       "1493  Everytime I think of you it always turns out g...  \n",
       "1631  Overnight scenes, dinner and wine\\r\\n<mark cla...  \n",
       "1783  Though I've tried before to tell her\\r\\nOf the...  \n",
       "1805  Every breath you take and every move you make\\...  \n",
       "2011  Welcome to your life\\r\\nThere's no turning bac...  \n",
       "2015  Don't leave me all alone\\r\\nPicking up the pie...  \n",
       "2029  Uh huh huh\\r\\nOhhh yeah\\r\\nWork, work\\r\\n\\r\\nS...  \n",
       "2216  I'll drive a million miles\\r\\nTo be with you t...  \n",
       "2376  You say you can't stand to be tied so close to...  \n",
       "2407  We both lie silently still in the dead of the ...  \n",
       "2452  I can't sleep at night, I toss and turn\\r\\nI c...  \n",
       "2545  Lately I feel so all alone\\r\\nCan't find the j...  \n",
       "2585  You won't belong to me\\r\\nI let you down\\r\\nI ...  \n",
       "2605  Look into my eyes - you will see\\r\\nWhat you m...  \n",
       "2632  Hear me speak what's on my mind\\r\\nLet me give...  \n",
       "2691  Ok, so your heart is broken\\r\\nYou're sitting ...  \n",
       "2776  Are you those guys on the beach that hate ever...  \n",
       "2783  Well, you came in my life like a ray of light\\...  \n",
       "2991  I got lost, couldn't find my way\\r\\nAnd I gues...  \n",
       "3050  You are on my mind\\r\\nYou are on my mind\\r\\nYo...  \n",
       "3079  Mmm, mmm, mmm\\r\\nOoh\\r\\nWhoa, oh, oh, oh\\r\\nOh...  \n",
       "3239  Girl, it's been a long, long time comin', yes ...  \n",
       "3274  I hitched a ride with a vending machine repair...  \n",
       "3338  Everybody, yeah\\r\\nRock your body, yeah\\r\\nEve...  \n",
       "3425  Every morning there's a halo hanging\\r\\nFrom t...  \n",
       "3522  Somewhere there's speaking\\r\\nIt's already com...  \n",
       "4000  Notice me\\r\\nTake my hand\\r\\nWhy are we\\r\\nStr...  \n",
       "4148  I still hear your voice when you sleep next to...  \n",
       "4484  <mark class=\"entity\" style=\"background: #fffff...  \n",
       "4739  Hey baby won't you look my way\\r\\nI can be you...  "
      ]
     },
     "execution_count": 54,
     "metadata": {},
     "output_type": "execute_result"
    }
   ],
   "source": [
    "df[df.Song.str.contains(\"Every\")]"
   ]
  },
  {
   "cell_type": "code",
   "execution_count": 53,
   "metadata": {},
   "outputs": [
    {
     "data": {
      "text/plain": [
       "'https://en.wikipedia.org/wiki/List_of_Test_cricket_records'"
      ]
     },
     "execution_count": 53,
     "metadata": {},
     "output_type": "execute_result"
    }
   ],
   "source": [
    "df_events[df_events.Content.str.contains(\"Sri Lanka score\")].Wikipedia[479]"
   ]
  },
  {
   "cell_type": "code",
   "execution_count": 107,
   "metadata": {},
   "outputs": [],
   "source": [
    "df_events.drop(columns = [\"vect\", \"Refs\", \"Entities\", \"word_count\", \"text_vect\"])\\\n",
    ".to_csv(\"datasets/events_refs_website.csv\")"
   ]
  },
  {
   "cell_type": "code",
   "execution_count": 100,
   "metadata": {},
   "outputs": [],
   "source": [
    "df.num_refs = df.filteredRefs.apply(len)"
   ]
  },
  {
   "cell_type": "code",
   "execution_count": 105,
   "metadata": {},
   "outputs": [],
   "source": [
    "df.drop(columns = [\"vect\", \"sims\", \"Refs\", \"word_count\", \"Entities\", \"Lyrics\"]).rename(columns = {\"Lyrics_display\": \"Lyrics\"})\\\n",
    ".to_csv(\"datasets/songs_refs_website.csv\")"
   ]
  },
  {
   "cell_type": "code",
   "execution_count": 106,
   "metadata": {},
   "outputs": [],
   "source": [
    "df_events[[\"Year\", \"Month\", \"Day\", \"Content\", \"Wikipedia\", \"Summary\", \"Entities\", \"filteredRefs\", \"num_refs\"]]\\\n",
    ".to_json(\"events_refs_final.json\")"
   ]
  },
  {
   "cell_type": "code",
   "execution_count": 101,
   "metadata": {},
   "outputs": [],
   "source": [
    "df_events.num_refs = df_events.filteredRefs.apply(len)"
   ]
  },
  {
   "cell_type": "code",
   "execution_count": 102,
   "metadata": {},
   "outputs": [
    {
     "ename": "SyntaxError",
     "evalue": "invalid syntax (<ipython-input-102-5ca97d8ba853>, line 3)",
     "output_type": "error",
     "traceback": [
      "\u001b[1;36m  File \u001b[1;32m\"<ipython-input-102-5ca97d8ba853>\"\u001b[1;36m, line \u001b[1;32m3\u001b[0m\n\u001b[1;33m    .to_csv(\"events_refs_final.csv\")\u001b[0m\n\u001b[1;37m    ^\u001b[0m\n\u001b[1;31mSyntaxError\u001b[0m\u001b[1;31m:\u001b[0m invalid syntax\n"
     ]
    }
   ],
   "source": [
    "df_events[[\"Year\", \"Month\", \"Day\", \"Content\", \"Wikipedia\", \"Summary\", \"Entities\", \"filteredRefs\", \"num_refs\"]]\\\n",
    ".a\n",
    ".to_csv(\"events_refs_final.csv\")"
   ]
  },
  {
   "cell_type": "code",
   "execution_count": null,
   "metadata": {},
   "outputs": [],
   "source": [
    "tmp = pd.read_csv(\"events_refs_final.csv\", index_col = 0)\n",
    "tmp.head()"
   ]
  },
  {
   "cell_type": "code",
   "execution_count": null,
   "metadata": {},
   "outputs": [],
   "source": [
    "df_events.head()"
   ]
  },
  {
   "cell_type": "code",
   "execution_count": null,
   "metadata": {},
   "outputs": [],
   "source": [
    "df.head()"
   ]
  },
  {
   "cell_type": "code",
   "execution_count": null,
   "metadata": {},
   "outputs": [],
   "source": [
    "df[\"num_refs\"] = df[\"filteredRefs\"].apply(len)"
   ]
  },
  {
   "cell_type": "code",
   "execution_count": null,
   "metadata": {},
   "outputs": [],
   "source": [
    "df_events[\"num_refs\"] = df_events[\"filteredRefs\"].apply(len)"
   ]
  },
  {
   "cell_type": "code",
   "execution_count": null,
   "metadata": {},
   "outputs": [],
   "source": [
    "df.head(2)"
   ]
  },
  {
   "cell_type": "code",
   "execution_count": null,
   "metadata": {},
   "outputs": [],
   "source": [
    "df[df[\"filteredRefs\"].apply(len) == 0].Year.hist()"
   ]
  },
  {
   "cell_type": "code",
   "execution_count": null,
   "metadata": {},
   "outputs": [],
   "source": [
    "print(df_events[\"filteredRefs\"].apply(len).max())\n",
    "print(df_events[\"filteredRefs\"].apply(len).mean())\n",
    "print(df_events[\"Refs\"].apply(len).max())\n",
    "print(df_events[\"Refs\"].apply(len).mean())"
   ]
  },
  {
   "cell_type": "code",
   "execution_count": null,
   "metadata": {},
   "outputs": [],
   "source": [
    "print(df[\"filteredRefs\"].apply(len).max())\n",
    "print(df[\"filteredRefs\"].apply(len).mean())\n",
    "print(df[\"Refs\"].apply(len).max())\n",
    "print(df[\"Refs\"].apply(len).mean())"
   ]
  },
  {
   "cell_type": "code",
   "execution_count": null,
   "metadata": {},
   "outputs": [],
   "source": [
    "with open(\"events_vects.pickle\", \"rb\") as f:\n",
    "    tmp = pickle.load(f)"
   ]
  },
  {
   "cell_type": "code",
   "execution_count": null,
   "metadata": {},
   "outputs": [],
   "source": [
    "with open(\"events_vects.pickle\", \"wb\") as f:\n",
    "    pickle.dump(events_vectorized, f, pickle.HIGHEST_PROTOCOL)"
   ]
  },
  {
   "cell_type": "code",
   "execution_count": null,
   "metadata": {},
   "outputs": [],
   "source": [
    "df[df.Artist.str.contains(\"dire straits\")]"
   ]
  },
  {
   "cell_type": "code",
   "execution_count": null,
   "metadata": {},
   "outputs": [],
   "source": [
    "events_vectorized = []\n",
    "batch_size = 8\n",
    "with torch.no_grad():\n",
    "    for i in tqdm_notebook(range(0, len(df_events), batch_size)):\n",
    "        batch = events_tokenized[i: min(i + batch_size, len(df_events))].to(device)\n",
    "        events_vectorized.append(model(batch))\n",
    "        del batch\n",
    "        \n",
    "events_vectorized = [x[1] for x in events_vectorized]"
   ]
  },
  {
   "cell_type": "code",
   "execution_count": null,
   "metadata": {},
   "outputs": [],
   "source": [
    "events_vectors = []\n",
    "for batch_event in events_vectorized:\n",
    "    for event in batch_event:\n",
    "        events_vectors.append(event.tolist())\n",
    "        \n",
    "df_events[\"vect\"] = events_vectors"
   ]
  },
  {
   "cell_type": "code",
   "execution_count": null,
   "metadata": {},
   "outputs": [],
   "source": [
    "df_events"
   ]
  },
  {
   "cell_type": "code",
   "execution_count": null,
   "metadata": {
    "scrolled": true
   },
   "outputs": [],
   "source": [
    "df_events.head()"
   ]
  },
  {
   "cell_type": "code",
   "execution_count": null,
   "metadata": {},
   "outputs": [],
   "source": [
    "df_events.Refs.head(20)"
   ]
  },
  {
   "cell_type": "code",
   "execution_count": null,
   "metadata": {},
   "outputs": [],
   "source": [
    "# df[\"text_vect\"] = df.Summary.fillna(df_events.Content)\n",
    "# df[\"word_count\"] = df[\"Lyrics\"].apply(lambda x : len(x.split(\" \")))\n",
    "# df[\"text_vect\"] = np.where(df[\"word_count\"] > 400, df_events.Content, df_events[\"text_vect\"])\n",
    "# df[\"word_count\"] = df_events[\"text_vect\"].apply(lambda x : len(x.split(\" \")))"
   ]
  },
  {
   "cell_type": "code",
   "execution_count": null,
   "metadata": {},
   "outputs": [],
   "source": [
    "tmp = [ for sent in df_events[\"text_vect\"]]\n",
    "x = torch.tensor(tmp)"
   ]
  },
  {
   "cell_type": "markdown",
   "metadata": {},
   "source": [
    "## Export tsv"
   ]
  },
  {
   "cell_type": "code",
   "execution_count": null,
   "metadata": {},
   "outputs": [],
   "source": [
    "len(model.docvecs.vectors_docs)"
   ]
  },
  {
   "cell_type": "code",
   "execution_count": null,
   "metadata": {},
   "outputs": [],
   "source": [
    "pd.DataFrame(model.docvecs.vectors_docs).to_csv(\"vec.tsv\", index = False, sep = \"\\t\", header=False)"
   ]
  },
  {
   "cell_type": "code",
   "execution_count": null,
   "metadata": {},
   "outputs": [],
   "source": [
    "df.to_csv(\"data.tsv\", sep = \"\\t\", index = False)"
   ]
  }
 ],
 "metadata": {
  "kernelspec": {
   "display_name": "Python 3",
   "language": "python",
   "name": "python3"
  },
  "language_info": {
   "codemirror_mode": {
    "name": "ipython",
    "version": 3
   },
   "file_extension": ".py",
   "mimetype": "text/x-python",
   "name": "python",
   "nbconvert_exporter": "python",
   "pygments_lexer": "ipython3",
   "version": "3.7.7"
  }
 },
 "nbformat": 4,
 "nbformat_minor": 2
}
