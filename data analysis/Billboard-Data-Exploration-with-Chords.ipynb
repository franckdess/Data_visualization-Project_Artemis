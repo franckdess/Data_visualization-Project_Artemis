{
 "cells": [
  {
   "cell_type": "markdown",
   "metadata": {},
   "source": [
    "## Dataset Description "
   ]
  },
  {
   "cell_type": "markdown",
   "metadata": {},
   "source": [
    "https://github.com/walkerkq/musiclyrics\n",
    "\n",
    "Billboard has published a Year-End Hot 100 every December since 1958. The chart measures the performance of singles in the U.S. throughout the year. Using R, I’ve combined the lyrics from 50 years of Billboard Year-End Hot 100 (1965-2015) into one dataset for analysis. You can download that dataset here.\n",
    "\n",
    "The songs used for analysis were scraped from Wikipedia’s entry for each Billboard Year-End Hot 100 Songs (e.g., 2014). This is the year-end chart, not weekly rankings. Many artists have made the weekly chart but not the final year end chart. The final chart is calculated using an inverse point system based on the weekly Billboard charts (100 points for a week at number one, 1 point for a week at number 100, etc).\n",
    "\n",
    "I used the xml and RCurl packages to scrape song and artist names from each Wikipedia entry. I then used that list to scrape lyrics from sites that had predictable URL strings (for example, metrolyrics.com uses metrolyrics.com/SONG-NAME-lyrics-ARTIST-NAME.html). If the first site scrape failed, I moved onto the second, and so on. About 78.9% of the lyrics were scraped from metrolyics.com, 15.7% from songlyrics.com, 1.8% from lyricsmode.com. About 3.6% (187/5100) were unavailable.\n",
    "\n",
    "The dataset features 5100 observations with the features rank (1-100), song, artist, year, lyrics, and source. The artist feature is fairly standardized thanks to Wikipedia, but there is still quite a bit of noise when it comes to artist collaborations (Justin Timberlake featuring Timbaland, for example). If there were any errors in the lyrics that were scraped, such as spelling errors or derivatives like \"nite\" instead of \"night,\" they haven't been corrected.\n",
    "\n",
    "Full analysis can be found here."
   ]
  },
  {
   "cell_type": "markdown",
   "metadata": {},
   "source": [
    "# Imports and Data Loading"
   ]
  },
  {
   "cell_type": "code",
   "execution_count": 11,
   "metadata": {},
   "outputs": [],
   "source": [
    "%matplotlib inline\n",
    "\n",
    "import pandas as pd\n",
    "import numpy as np\n",
    "\n",
    "from sklearn.decomposition import LatentDirichletAllocation as LDA\n",
    "from sklearn.feature_extraction.text import CountVectorizer\n",
    "\n",
    "from Levenshtein import distance as levenshtein_distance\n",
    "\n",
    "import matplotlib.pyplot as plt"
   ]
  },
  {
   "cell_type": "markdown",
   "metadata": {},
   "source": [
    "### Chords Dataset"
   ]
  },
  {
   "cell_type": "code",
   "execution_count": 12,
   "metadata": {},
   "outputs": [],
   "source": [
    "def songname(url):\n",
    "    return url.split(\"/\")[-1].replace(\".htm\", \"\").replace(\"_\", \" \").replace(\"crd\", \"\").replace(\"ukulele\", \"\")"
   ]
  },
  {
   "cell_type": "code",
   "execution_count": 13,
   "metadata": {},
   "outputs": [],
   "source": [
    "def artistname(url):\n",
    "    return url.split(\"/\")[-2].replace(\"_\", \" \")"
   ]
  },
  {
   "cell_type": "code",
   "execution_count": 14,
   "metadata": {},
   "outputs": [
    {
     "data": {
      "text/html": [
       "<div>\n",
       "<style scoped>\n",
       "    .dataframe tbody tr th:only-of-type {\n",
       "        vertical-align: middle;\n",
       "    }\n",
       "\n",
       "    .dataframe tbody tr th {\n",
       "        vertical-align: top;\n",
       "    }\n",
       "\n",
       "    .dataframe thead th {\n",
       "        text-align: right;\n",
       "    }\n",
       "</style>\n",
       "<table border=\"1\" class=\"dataframe\">\n",
       "  <thead>\n",
       "    <tr style=\"text-align: right;\">\n",
       "      <th></th>\n",
       "      <th>url</th>\n",
       "      <th>chords</th>\n",
       "      <th>Song</th>\n",
       "      <th>Artist</th>\n",
       "    </tr>\n",
       "  </thead>\n",
       "  <tbody>\n",
       "    <tr>\n",
       "      <th>0</th>\n",
       "      <td>https://tabs.ultimate-guitar.com/a/a/a_ver2_cr...</td>\n",
       "      <td>['F', 'D#', 'F', 'D#', 'F', 'D#', 'F', 'D#', '...</td>\n",
       "      <td>a ver2</td>\n",
       "      <td>a</td>\n",
       "    </tr>\n",
       "    <tr>\n",
       "      <th>1</th>\n",
       "      <td>https://tabs.ultimate-guitar.com/a/a/a_ukulele...</td>\n",
       "      <td>[]</td>\n",
       "      <td>a</td>\n",
       "      <td>a</td>\n",
       "    </tr>\n",
       "    <tr>\n",
       "      <th>2</th>\n",
       "      <td>https://tabs.ultimate-guitar.com/a/a/hopper_jo...</td>\n",
       "      <td>['A', 'D', 'A', 'D', 'A', 'D', 'A', 'D', 'A', ...</td>\n",
       "      <td>hopper jonnus fang</td>\n",
       "      <td>a</td>\n",
       "    </tr>\n",
       "    <tr>\n",
       "      <th>3</th>\n",
       "      <td>https://tabs.ultimate-guitar.com/a/a/hopper_jo...</td>\n",
       "      <td>['A', 'D', 'A', 'D', 'A', 'D', 'A', 'D', 'A', ...</td>\n",
       "      <td>hopper jonnus fang</td>\n",
       "      <td>a</td>\n",
       "    </tr>\n",
       "    <tr>\n",
       "      <th>4</th>\n",
       "      <td>https://tabs.ultimate-guitar.com/a/a/inikah_ci...</td>\n",
       "      <td>['A', 'C#m', 'Bm', 'E', 'A', 'Bm', 'E', 'A', '...</td>\n",
       "      <td>inikah cinta</td>\n",
       "      <td>a</td>\n",
       "    </tr>\n",
       "  </tbody>\n",
       "</table>\n",
       "</div>"
      ],
      "text/plain": [
       "                                                 url  \\\n",
       "0  https://tabs.ultimate-guitar.com/a/a/a_ver2_cr...   \n",
       "1  https://tabs.ultimate-guitar.com/a/a/a_ukulele...   \n",
       "2  https://tabs.ultimate-guitar.com/a/a/hopper_jo...   \n",
       "3  https://tabs.ultimate-guitar.com/a/a/hopper_jo...   \n",
       "4  https://tabs.ultimate-guitar.com/a/a/inikah_ci...   \n",
       "\n",
       "                                              chords                  Song  \\\n",
       "0  ['F', 'D#', 'F', 'D#', 'F', 'D#', 'F', 'D#', '...               a ver2    \n",
       "1                                                 []                   a     \n",
       "2  ['A', 'D', 'A', 'D', 'A', 'D', 'A', 'D', 'A', ...   hopper jonnus fang    \n",
       "3  ['A', 'D', 'A', 'D', 'A', 'D', 'A', 'D', 'A', ...  hopper jonnus fang     \n",
       "4  ['A', 'C#m', 'Bm', 'E', 'A', 'Bm', 'E', 'A', '...         inikah cinta    \n",
       "\n",
       "  Artist  \n",
       "0      a  \n",
       "1      a  \n",
       "2      a  \n",
       "3      a  \n",
       "4      a  "
      ]
     },
     "execution_count": 14,
     "metadata": {},
     "output_type": "execute_result"
    }
   ],
   "source": [
    "chords_file = \"song_chords.txt\"\n",
    "\n",
    "df_chords = pd.read_csv(chords_file, sep=\"\\t\", header=0, names=[\"url\", \"chords\"])\n",
    "df_chords[\"url\"] = df_chords[\"url\"].apply(lambda s : s.strip())\n",
    "df_chords[\"Song\"] = df_chords[\"url\"].apply(songname)\n",
    "df_chords[\"Artist\"] = df_chords[\"url\"].apply(artistname)\n",
    "\n",
    "df_chords.head()"
   ]
  },
  {
   "cell_type": "code",
   "execution_count": 15,
   "metadata": {},
   "outputs": [
    {
     "data": {
      "text/html": [
       "<div>\n",
       "<style scoped>\n",
       "    .dataframe tbody tr th:only-of-type {\n",
       "        vertical-align: middle;\n",
       "    }\n",
       "\n",
       "    .dataframe tbody tr th {\n",
       "        vertical-align: top;\n",
       "    }\n",
       "\n",
       "    .dataframe thead th {\n",
       "        text-align: right;\n",
       "    }\n",
       "</style>\n",
       "<table border=\"1\" class=\"dataframe\">\n",
       "  <thead>\n",
       "    <tr style=\"text-align: right;\">\n",
       "      <th></th>\n",
       "      <th>url</th>\n",
       "      <th>chords</th>\n",
       "      <th>Song</th>\n",
       "      <th>Artist</th>\n",
       "    </tr>\n",
       "  </thead>\n",
       "  <tbody>\n",
       "    <tr>\n",
       "      <th>25</th>\n",
       "      <td>https://tabs.ultimate-guitar.com/a/a_banda_mai...</td>\n",
       "      <td>['D', 'G', 'D', 'G', 'D', 'G', 'D', 'D', 'G', ...</td>\n",
       "      <td>potinhos</td>\n",
       "      <td>a banda mais bonita da cidade</td>\n",
       "    </tr>\n",
       "    <tr>\n",
       "      <th>26</th>\n",
       "      <td>https://tabs.ultimate-guitar.com/a/a_banda_mai...</td>\n",
       "      <td>['G', 'Em7', 'G', 'D', 'A', 'F#', 'Bm', 'Bm7',...</td>\n",
       "      <td>terminei indo</td>\n",
       "      <td>a banda mais bonita da cidade</td>\n",
       "    </tr>\n",
       "    <tr>\n",
       "      <th>390</th>\n",
       "      <td>https://tabs.ultimate-guitar.com/a/a_r_rahman_...</td>\n",
       "      <td>['C', 'Am', 'F', 'Em', 'Am', 'F', 'E', 'Am', '...</td>\n",
       "      <td>tu koi aur hai</td>\n",
       "      <td>a r rahman alma ferovic arjun chandy</td>\n",
       "    </tr>\n",
       "    <tr>\n",
       "      <th>668</th>\n",
       "      <td>https://tabs.ultimate-guitar.com/a/a_r_rahman/...</td>\n",
       "      <td>['C', 'G', 'D', 'C', 'G', 'D', 'C', 'G', 'D', ...</td>\n",
       "      <td>call me dil</td>\n",
       "      <td>a r rahman</td>\n",
       "    </tr>\n",
       "    <tr>\n",
       "      <th>669</th>\n",
       "      <td>https://tabs.ultimate-guitar.com/a/a_r_rahman/...</td>\n",
       "      <td>['F', 'C', 'G', 'F', 'C', 'G', 'F', 'C', 'G', ...</td>\n",
       "      <td>call me dil</td>\n",
       "      <td>a r rahman</td>\n",
       "    </tr>\n",
       "    <tr>\n",
       "      <th>...</th>\n",
       "      <td>...</td>\n",
       "      <td>...</td>\n",
       "      <td>...</td>\n",
       "      <td>...</td>\n",
       "    </tr>\n",
       "    <tr>\n",
       "      <th>41651</th>\n",
       "      <td>https://tabs.ultimate-guitar.com/c/chris_norma...</td>\n",
       "      <td>['C', 'F', 'F', 'G', 'G', 'C', 'C', 'F', 'F', ...</td>\n",
       "      <td>wish you well</td>\n",
       "      <td>chris norman</td>\n",
       "    </tr>\n",
       "    <tr>\n",
       "      <th>42018</th>\n",
       "      <td>https://tabs.ultimate-guitar.com/c/chris_thoma...</td>\n",
       "      <td>['A', 'D', 'E', 'A', 'D', 'A', 'D', 'A', 'E', ...</td>\n",
       "      <td>superstitious blues</td>\n",
       "      <td>chris thomas king</td>\n",
       "    </tr>\n",
       "    <tr>\n",
       "      <th>42233</th>\n",
       "      <td>https://tabs.ultimate-guitar.com/c/chrisma_abi...</td>\n",
       "      <td>['A', 'F#m', 'Bm', 'E', 'A', 'F#m', 'Bm', 'E',...</td>\n",
       "      <td>meri aama</td>\n",
       "      <td>chrisma abigail</td>\n",
       "    </tr>\n",
       "    <tr>\n",
       "      <th>42239</th>\n",
       "      <td>https://tabs.ultimate-guitar.com/c/christ_chur...</td>\n",
       "      <td>['C#', 'G#', 'D#', 'G#/C', 'C#', 'D#', 'C#', '...</td>\n",
       "      <td>where o grave</td>\n",
       "      <td>christ church mayfair</td>\n",
       "    </tr>\n",
       "    <tr>\n",
       "      <th>42240</th>\n",
       "      <td>https://tabs.ultimate-guitar.com/c/christ_chur...</td>\n",
       "      <td>['G', 'Em', 'C', 'G/B', 'D', 'C', 'G', 'D', 'G...</td>\n",
       "      <td>where o grave ver2</td>\n",
       "      <td>christ church mayfair</td>\n",
       "    </tr>\n",
       "  </tbody>\n",
       "</table>\n",
       "<p>3351 rows × 4 columns</p>\n",
       "</div>"
      ],
      "text/plain": [
       "                                                     url  \\\n",
       "25     https://tabs.ultimate-guitar.com/a/a_banda_mai...   \n",
       "26     https://tabs.ultimate-guitar.com/a/a_banda_mai...   \n",
       "390    https://tabs.ultimate-guitar.com/a/a_r_rahman_...   \n",
       "668    https://tabs.ultimate-guitar.com/a/a_r_rahman/...   \n",
       "669    https://tabs.ultimate-guitar.com/a/a_r_rahman/...   \n",
       "...                                                  ...   \n",
       "41651  https://tabs.ultimate-guitar.com/c/chris_norma...   \n",
       "42018  https://tabs.ultimate-guitar.com/c/chris_thoma...   \n",
       "42233  https://tabs.ultimate-guitar.com/c/chrisma_abi...   \n",
       "42239  https://tabs.ultimate-guitar.com/c/christ_chur...   \n",
       "42240  https://tabs.ultimate-guitar.com/c/christ_chur...   \n",
       "\n",
       "                                                  chords  \\\n",
       "25     ['D', 'G', 'D', 'G', 'D', 'G', 'D', 'D', 'G', ...   \n",
       "26     ['G', 'Em7', 'G', 'D', 'A', 'F#', 'Bm', 'Bm7',...   \n",
       "390    ['C', 'Am', 'F', 'Em', 'Am', 'F', 'E', 'Am', '...   \n",
       "668    ['C', 'G', 'D', 'C', 'G', 'D', 'C', 'G', 'D', ...   \n",
       "669    ['F', 'C', 'G', 'F', 'C', 'G', 'F', 'C', 'G', ...   \n",
       "...                                                  ...   \n",
       "41651  ['C', 'F', 'F', 'G', 'G', 'C', 'C', 'F', 'F', ...   \n",
       "42018  ['A', 'D', 'E', 'A', 'D', 'A', 'D', 'A', 'E', ...   \n",
       "42233  ['A', 'F#m', 'Bm', 'E', 'A', 'F#m', 'Bm', 'E',...   \n",
       "42239  ['C#', 'G#', 'D#', 'G#/C', 'C#', 'D#', 'C#', '...   \n",
       "42240  ['G', 'Em', 'C', 'G/B', 'D', 'C', 'G', 'D', 'G...   \n",
       "\n",
       "                       Song                                Artist  \n",
       "25               potinhos           a banda mais bonita da cidade  \n",
       "26          terminei indo           a banda mais bonita da cidade  \n",
       "390         tu koi aur hai   a r rahman alma ferovic arjun chandy  \n",
       "668            call me dil                             a r rahman  \n",
       "669           call me dil                              a r rahman  \n",
       "...                     ...                                   ...  \n",
       "41651        wish you well                           chris norman  \n",
       "42018  superstitious blues                      chris thomas king  \n",
       "42233            meri aama                        chrisma abigail  \n",
       "42239        where o grave                  christ church mayfair  \n",
       "42240   where o grave ver2                  christ church mayfair  \n",
       "\n",
       "[3351 rows x 4 columns]"
      ]
     },
     "execution_count": 15,
     "metadata": {},
     "output_type": "execute_result"
    }
   ],
   "source": [
    "df_chords[df_chords.Artist.str.contains(\"ma\")]"
   ]
  },
  {
   "cell_type": "markdown",
   "metadata": {},
   "source": [
    "### Lyrics Top-100 dataset"
   ]
  },
  {
   "cell_type": "code",
   "execution_count": 43,
   "metadata": {},
   "outputs": [
    {
     "data": {
      "text/html": [
       "<div>\n",
       "<style scoped>\n",
       "    .dataframe tbody tr th:only-of-type {\n",
       "        vertical-align: middle;\n",
       "    }\n",
       "\n",
       "    .dataframe tbody tr th {\n",
       "        vertical-align: top;\n",
       "    }\n",
       "\n",
       "    .dataframe thead th {\n",
       "        text-align: right;\n",
       "    }\n",
       "</style>\n",
       "<table border=\"1\" class=\"dataframe\">\n",
       "  <thead>\n",
       "    <tr style=\"text-align: right;\">\n",
       "      <th></th>\n",
       "      <th>Rank</th>\n",
       "      <th>Song</th>\n",
       "      <th>Artist</th>\n",
       "      <th>Year</th>\n",
       "      <th>Lyrics</th>\n",
       "      <th>Genre</th>\n",
       "      <th>Album</th>\n",
       "    </tr>\n",
       "  </thead>\n",
       "  <tbody>\n",
       "    <tr>\n",
       "      <th>0</th>\n",
       "      <td>1</td>\n",
       "      <td>wooly bully</td>\n",
       "      <td>sam the sham and the pharaohs</td>\n",
       "      <td>1965</td>\n",
       "      <td>sam the sham miscellaneous wooly bully wooly b...</td>\n",
       "      <td>rock</td>\n",
       "      <td>wooly bully</td>\n",
       "    </tr>\n",
       "    <tr>\n",
       "      <th>1</th>\n",
       "      <td>2</td>\n",
       "      <td>i cant help myself sugar pie honey bunch</td>\n",
       "      <td>four tops</td>\n",
       "      <td>1965</td>\n",
       "      <td>sugar pie honey bunch you know that i love you...</td>\n",
       "      <td>r&amp;b soul</td>\n",
       "      <td>greatest hits in concert</td>\n",
       "    </tr>\n",
       "    <tr>\n",
       "      <th>2</th>\n",
       "      <td>3</td>\n",
       "      <td>i cant get no satisfaction</td>\n",
       "      <td>the rolling stones</td>\n",
       "      <td>1965</td>\n",
       "      <td>i cant get no satisfaction i cant get no satis...</td>\n",
       "      <td>rock</td>\n",
       "      <td>out of our heads</td>\n",
       "    </tr>\n",
       "    <tr>\n",
       "      <th>3</th>\n",
       "      <td>4</td>\n",
       "      <td>you were on my mind</td>\n",
       "      <td>we five</td>\n",
       "      <td>1965</td>\n",
       "      <td>when i woke up this morning you were on my mi...</td>\n",
       "      <td>folk</td>\n",
       "      <td>love me not tomorrow</td>\n",
       "    </tr>\n",
       "    <tr>\n",
       "      <th>4</th>\n",
       "      <td>5</td>\n",
       "      <td>youve lost that lovin feelin</td>\n",
       "      <td>the righteous brothers</td>\n",
       "      <td>1965</td>\n",
       "      <td>you never close your eyes anymore when i kiss...</td>\n",
       "      <td>r&amp;b soul</td>\n",
       "      <td>top gun</td>\n",
       "    </tr>\n",
       "  </tbody>\n",
       "</table>\n",
       "</div>"
      ],
      "text/plain": [
       "   Rank                                      Song  \\\n",
       "0     1                               wooly bully   \n",
       "1     2  i cant help myself sugar pie honey bunch   \n",
       "2     3                i cant get no satisfaction   \n",
       "3     4                       you were on my mind   \n",
       "4     5              youve lost that lovin feelin   \n",
       "\n",
       "                          Artist  Year  \\\n",
       "0  sam the sham and the pharaohs  1965   \n",
       "1                      four tops  1965   \n",
       "2             the rolling stones  1965   \n",
       "3                        we five  1965   \n",
       "4         the righteous brothers  1965   \n",
       "\n",
       "                                              Lyrics     Genre  \\\n",
       "0  sam the sham miscellaneous wooly bully wooly b...      rock   \n",
       "1  sugar pie honey bunch you know that i love you...  r&b soul   \n",
       "2  i cant get no satisfaction i cant get no satis...      rock   \n",
       "3   when i woke up this morning you were on my mi...      folk   \n",
       "4   you never close your eyes anymore when i kiss...  r&b soul   \n",
       "\n",
       "                      Album  \n",
       "0               wooly bully  \n",
       "1  greatest hits in concert  \n",
       "2          out of our heads  \n",
       "3      love me not tomorrow  \n",
       "4                   top gun  "
      ]
     },
     "execution_count": 43,
     "metadata": {},
     "output_type": "execute_result"
    }
   ],
   "source": [
    "data_file_incomplete = \"datasets/billboard_lyrics_1964-2015.csv\"\n",
    "data_file = \"datasets/billboard_full.csv\"\n",
    "\n",
    "df_incomplete = pd.read_csv(data_file_incomplete, encoding = \"ANSI\") # utf-8 encoding doesn't work somehow :(\n",
    "df = pd.read_csv(data_file, index_col=0, header=0) \n",
    "\n",
    "df.head()"
   ]
  },
  {
   "cell_type": "code",
   "execution_count": 66,
   "metadata": {},
   "outputs": [
    {
     "data": {
      "text/plain": [
       "2471"
      ]
     },
     "execution_count": 66,
     "metadata": {},
     "output_type": "execute_result"
    }
   ],
   "source": [
    "len(df.Artist.unique())"
   ]
  },
  {
   "cell_type": "markdown",
   "metadata": {},
   "source": [
    "### Joining datasets"
   ]
  },
  {
   "cell_type": "code",
   "execution_count": 53,
   "metadata": {},
   "outputs": [
    {
     "data": {
      "text/plain": [
       "'https://tabs.ultimate-guitar.com/a/aly_aj/in_a_second_ukulele_crd.htm'"
      ]
     },
     "execution_count": 53,
     "metadata": {},
     "output_type": "execute_result"
    }
   ],
   "source": [
    "df_chords.xs(10000).url"
   ]
  },
  {
   "cell_type": "code",
   "execution_count": 43,
   "metadata": {},
   "outputs": [],
   "source": [
    "def findchords(song):\n",
    "    distances = df_chords[\"Song\"].apply(lambda s : levenshtein_distance(s, song))\n",
    "    return df_chords[[\"Song\", \"url\", \"chords\"]].xs(distances.idxmin())"
   ]
  },
  {
   "cell_type": "code",
   "execution_count": 44,
   "metadata": {},
   "outputs": [],
   "source": [
    "df[\"chords\"] = df.Song.apply(findchords)"
   ]
  },
  {
   "cell_type": "code",
   "execution_count": 47,
   "metadata": {},
   "outputs": [
    {
     "data": {
      "text/html": [
       "<div>\n",
       "<style scoped>\n",
       "    .dataframe tbody tr th:only-of-type {\n",
       "        vertical-align: middle;\n",
       "    }\n",
       "\n",
       "    .dataframe tbody tr th {\n",
       "        vertical-align: top;\n",
       "    }\n",
       "\n",
       "    .dataframe thead th {\n",
       "        text-align: right;\n",
       "    }\n",
       "</style>\n",
       "<table border=\"1\" class=\"dataframe\">\n",
       "  <thead>\n",
       "    <tr style=\"text-align: right;\">\n",
       "      <th></th>\n",
       "      <th>Rank</th>\n",
       "      <th>Song</th>\n",
       "      <th>Artist</th>\n",
       "      <th>Year</th>\n",
       "      <th>Lyrics</th>\n",
       "      <th>Source</th>\n",
       "      <th>chords</th>\n",
       "    </tr>\n",
       "  </thead>\n",
       "  <tbody>\n",
       "    <tr>\n",
       "      <td>5080</td>\n",
       "      <td>81</td>\n",
       "      <td>lay me down</td>\n",
       "      <td>sam smith</td>\n",
       "      <td>2015</td>\n",
       "      <td>yes i do i believe that one day i will be whe...</td>\n",
       "      <td>1.0</td>\n",
       "      <td>lay me down crd</td>\n",
       "    </tr>\n",
       "    <tr>\n",
       "      <td>5081</td>\n",
       "      <td>82</td>\n",
       "      <td>tuesday</td>\n",
       "      <td>ilovemakonnen featuring drake</td>\n",
       "      <td>2015</td>\n",
       "      <td>hook x4 club goin up on a tuesday got your gir...</td>\n",
       "      <td>3.0</td>\n",
       "      <td>tuesday crd</td>\n",
       "    </tr>\n",
       "    <tr>\n",
       "      <td>5082</td>\n",
       "      <td>83</td>\n",
       "      <td>hit the quan</td>\n",
       "      <td>ilovememphis</td>\n",
       "      <td>2015</td>\n",
       "      <td>yo yo aye im finna aye im finnaim finna show ...</td>\n",
       "      <td>1.0</td>\n",
       "      <td>hit it crd</td>\n",
       "    </tr>\n",
       "    <tr>\n",
       "      <td>5083</td>\n",
       "      <td>84</td>\n",
       "      <td>downtown</td>\n",
       "      <td>macklemore and ryan lewis featuring eric nally...</td>\n",
       "      <td>2015</td>\n",
       "      <td>i went to the moped store said fuck it salesm...</td>\n",
       "      <td>1.0</td>\n",
       "      <td>downtown crd</td>\n",
       "    </tr>\n",
       "    <tr>\n",
       "      <td>5084</td>\n",
       "      <td>85</td>\n",
       "      <td>house party</td>\n",
       "      <td>sam hunt</td>\n",
       "      <td>2015</td>\n",
       "      <td>youre on the couch blowing up my phone you do...</td>\n",
       "      <td>1.0</td>\n",
       "      <td>house crd</td>\n",
       "    </tr>\n",
       "    <tr>\n",
       "      <td>5085</td>\n",
       "      <td>86</td>\n",
       "      <td>ayo</td>\n",
       "      <td>chris brown and tyga</td>\n",
       "      <td>2015</td>\n",
       "      <td>i need you i need you i need you i need you i...</td>\n",
       "      <td>1.0</td>\n",
       "      <td>a crd</td>\n",
       "    </tr>\n",
       "    <tr>\n",
       "      <td>5086</td>\n",
       "      <td>87</td>\n",
       "      <td>kick the dust up</td>\n",
       "      <td>luke bryan</td>\n",
       "      <td>2015</td>\n",
       "      <td>all week long its a farmin town theyre makin ...</td>\n",
       "      <td>1.0</td>\n",
       "      <td>in the dust crd</td>\n",
       "    </tr>\n",
       "    <tr>\n",
       "      <td>5087</td>\n",
       "      <td>88</td>\n",
       "      <td>blessings</td>\n",
       "      <td>big sean featuring drake</td>\n",
       "      <td>2015</td>\n",
       "      <td>look i feel blessed way up i feel blessed way...</td>\n",
       "      <td>1.0</td>\n",
       "      <td>guessing crd</td>\n",
       "    </tr>\n",
       "    <tr>\n",
       "      <td>5088</td>\n",
       "      <td>89</td>\n",
       "      <td>budapest</td>\n",
       "      <td>george ezra</td>\n",
       "      <td>2015</td>\n",
       "      <td>my house in budapest my hidden treasure chest...</td>\n",
       "      <td>1.0</td>\n",
       "      <td>luha crd</td>\n",
       "    </tr>\n",
       "    <tr>\n",
       "      <td>5089</td>\n",
       "      <td>90</td>\n",
       "      <td>chandelier</td>\n",
       "      <td>sia</td>\n",
       "      <td>2015</td>\n",
       "      <td>party girls dont get hurt cant feel anything ...</td>\n",
       "      <td>1.0</td>\n",
       "      <td>changes crd</td>\n",
       "    </tr>\n",
       "    <tr>\n",
       "      <td>5090</td>\n",
       "      <td>91</td>\n",
       "      <td>heartbeat song</td>\n",
       "      <td>kelly clarkson</td>\n",
       "      <td>2015</td>\n",
       "      <td>this is my heartbeat song and im gonna play i...</td>\n",
       "      <td>1.0</td>\n",
       "      <td>heartbeat crd</td>\n",
       "    </tr>\n",
       "    <tr>\n",
       "      <td>5091</td>\n",
       "      <td>92</td>\n",
       "      <td>dont</td>\n",
       "      <td>ed sheeran</td>\n",
       "      <td>2015</td>\n",
       "      <td>i met this girl late last year she said dont ...</td>\n",
       "      <td>1.0</td>\n",
       "      <td>d crd</td>\n",
       "    </tr>\n",
       "    <tr>\n",
       "      <td>5092</td>\n",
       "      <td>93</td>\n",
       "      <td>ghost</td>\n",
       "      <td>ella henderson</td>\n",
       "      <td>2015</td>\n",
       "      <td>i keep going to the river to pray cause i nee...</td>\n",
       "      <td>1.0</td>\n",
       "      <td>ghost crd</td>\n",
       "    </tr>\n",
       "    <tr>\n",
       "      <td>5093</td>\n",
       "      <td>94</td>\n",
       "      <td>here</td>\n",
       "      <td>alessia cara</td>\n",
       "      <td>2015</td>\n",
       "      <td>i guess right now youve got the last laughim ...</td>\n",
       "      <td>1.0</td>\n",
       "      <td>d crd</td>\n",
       "    </tr>\n",
       "    <tr>\n",
       "      <td>5094</td>\n",
       "      <td>95</td>\n",
       "      <td>waves</td>\n",
       "      <td>mr probz</td>\n",
       "      <td>2015</td>\n",
       "      <td>my face above the water my feet cant touch th...</td>\n",
       "      <td>1.0</td>\n",
       "      <td>waves crd</td>\n",
       "    </tr>\n",
       "    <tr>\n",
       "      <td>5095</td>\n",
       "      <td>96</td>\n",
       "      <td>el perdon</td>\n",
       "      <td>nicky jam and enrique iglesias</td>\n",
       "      <td>2015</td>\n",
       "      <td>enrique iglesias dime si es verdad me dijeron ...</td>\n",
       "      <td>3.0</td>\n",
       "      <td>e crd</td>\n",
       "    </tr>\n",
       "    <tr>\n",
       "      <td>5096</td>\n",
       "      <td>97</td>\n",
       "      <td>she knows</td>\n",
       "      <td>neyo featuring juicy j</td>\n",
       "      <td>2015</td>\n",
       "      <td>NaN</td>\n",
       "      <td>NaN</td>\n",
       "      <td>she crd</td>\n",
       "    </tr>\n",
       "    <tr>\n",
       "      <td>5097</td>\n",
       "      <td>98</td>\n",
       "      <td>night changes</td>\n",
       "      <td>one direction</td>\n",
       "      <td>2015</td>\n",
       "      <td>going out tonight changes into something red ...</td>\n",
       "      <td>1.0</td>\n",
       "      <td>fight crd</td>\n",
       "    </tr>\n",
       "    <tr>\n",
       "      <td>5098</td>\n",
       "      <td>99</td>\n",
       "      <td>back to back</td>\n",
       "      <td>drake</td>\n",
       "      <td>2015</td>\n",
       "      <td>oh man oh man oh man not againyeah i learned ...</td>\n",
       "      <td>1.0</td>\n",
       "      <td>back to black crd</td>\n",
       "    </tr>\n",
       "    <tr>\n",
       "      <td>5099</td>\n",
       "      <td>100</td>\n",
       "      <td>how deep is your love</td>\n",
       "      <td>calvin harris and disciples</td>\n",
       "      <td>2015</td>\n",
       "      <td>i want you to breathe me in let me be your ai...</td>\n",
       "      <td>1.0</td>\n",
       "      <td>how deep is your love crd</td>\n",
       "    </tr>\n",
       "  </tbody>\n",
       "</table>\n",
       "</div>"
      ],
      "text/plain": [
       "      Rank                   Song  \\\n",
       "5080    81            lay me down   \n",
       "5081    82                tuesday   \n",
       "5082    83           hit the quan   \n",
       "5083    84               downtown   \n",
       "5084    85            house party   \n",
       "5085    86                    ayo   \n",
       "5086    87       kick the dust up   \n",
       "5087    88              blessings   \n",
       "5088    89               budapest   \n",
       "5089    90             chandelier   \n",
       "5090    91         heartbeat song   \n",
       "5091    92                   dont   \n",
       "5092    93                  ghost   \n",
       "5093    94                   here   \n",
       "5094    95                  waves   \n",
       "5095    96              el perdon   \n",
       "5096    97              she knows   \n",
       "5097    98          night changes   \n",
       "5098    99           back to back   \n",
       "5099   100  how deep is your love   \n",
       "\n",
       "                                                 Artist  Year  \\\n",
       "5080                                          sam smith  2015   \n",
       "5081                      ilovemakonnen featuring drake  2015   \n",
       "5082                                       ilovememphis  2015   \n",
       "5083  macklemore and ryan lewis featuring eric nally...  2015   \n",
       "5084                                           sam hunt  2015   \n",
       "5085                               chris brown and tyga  2015   \n",
       "5086                                         luke bryan  2015   \n",
       "5087                           big sean featuring drake  2015   \n",
       "5088                                        george ezra  2015   \n",
       "5089                                                sia  2015   \n",
       "5090                                     kelly clarkson  2015   \n",
       "5091                                         ed sheeran  2015   \n",
       "5092                                     ella henderson  2015   \n",
       "5093                                       alessia cara  2015   \n",
       "5094                                           mr probz  2015   \n",
       "5095                     nicky jam and enrique iglesias  2015   \n",
       "5096                             neyo featuring juicy j  2015   \n",
       "5097                                      one direction  2015   \n",
       "5098                                              drake  2015   \n",
       "5099                        calvin harris and disciples  2015   \n",
       "\n",
       "                                                 Lyrics  Source  \\\n",
       "5080   yes i do i believe that one day i will be whe...     1.0   \n",
       "5081  hook x4 club goin up on a tuesday got your gir...     3.0   \n",
       "5082   yo yo aye im finna aye im finnaim finna show ...     1.0   \n",
       "5083   i went to the moped store said fuck it salesm...     1.0   \n",
       "5084   youre on the couch blowing up my phone you do...     1.0   \n",
       "5085   i need you i need you i need you i need you i...     1.0   \n",
       "5086   all week long its a farmin town theyre makin ...     1.0   \n",
       "5087   look i feel blessed way up i feel blessed way...     1.0   \n",
       "5088   my house in budapest my hidden treasure chest...     1.0   \n",
       "5089   party girls dont get hurt cant feel anything ...     1.0   \n",
       "5090   this is my heartbeat song and im gonna play i...     1.0   \n",
       "5091   i met this girl late last year she said dont ...     1.0   \n",
       "5092   i keep going to the river to pray cause i nee...     1.0   \n",
       "5093   i guess right now youve got the last laughim ...     1.0   \n",
       "5094   my face above the water my feet cant touch th...     1.0   \n",
       "5095  enrique iglesias dime si es verdad me dijeron ...     3.0   \n",
       "5096                                                NaN     NaN   \n",
       "5097   going out tonight changes into something red ...     1.0   \n",
       "5098   oh man oh man oh man not againyeah i learned ...     1.0   \n",
       "5099   i want you to breathe me in let me be your ai...     1.0   \n",
       "\n",
       "                         chords  \n",
       "5080            lay me down crd  \n",
       "5081                tuesday crd  \n",
       "5082                 hit it crd  \n",
       "5083               downtown crd  \n",
       "5084                  house crd  \n",
       "5085                      a crd  \n",
       "5086            in the dust crd  \n",
       "5087               guessing crd  \n",
       "5088                   luha crd  \n",
       "5089                changes crd  \n",
       "5090              heartbeat crd  \n",
       "5091                      d crd  \n",
       "5092                  ghost crd  \n",
       "5093                      d crd  \n",
       "5094                  waves crd  \n",
       "5095                      e crd  \n",
       "5096                    she crd  \n",
       "5097                  fight crd  \n",
       "5098          back to black crd  \n",
       "5099  how deep is your love crd  "
      ]
     },
     "execution_count": 47,
     "metadata": {},
     "output_type": "execute_result"
    }
   ],
   "source": [
    "df.tail(20)"
   ]
  },
  {
   "cell_type": "markdown",
   "metadata": {},
   "source": [
    "## Number of years in Top 100 per Song"
   ]
  },
  {
   "cell_type": "code",
   "execution_count": 46,
   "metadata": {},
   "outputs": [
    {
     "data": {
      "text/html": [
       "<div>\n",
       "<style scoped>\n",
       "    .dataframe tbody tr th:only-of-type {\n",
       "        vertical-align: middle;\n",
       "    }\n",
       "\n",
       "    .dataframe tbody tr th {\n",
       "        vertical-align: top;\n",
       "    }\n",
       "\n",
       "    .dataframe thead th {\n",
       "        text-align: right;\n",
       "    }\n",
       "</style>\n",
       "<table border=\"1\" class=\"dataframe\">\n",
       "  <thead>\n",
       "    <tr style=\"text-align: right;\">\n",
       "      <th></th>\n",
       "      <th></th>\n",
       "      <th>Year</th>\n",
       "      <th>Count</th>\n",
       "    </tr>\n",
       "    <tr>\n",
       "      <th>Artist</th>\n",
       "      <th>Song</th>\n",
       "      <th></th>\n",
       "      <th></th>\n",
       "    </tr>\n",
       "  </thead>\n",
       "  <tbody>\n",
       "    <tr>\n",
       "      <th>psy</th>\n",
       "      <th>gangnam style</th>\n",
       "      <td>[2012, 2013]</td>\n",
       "      <td>2</td>\n",
       "    </tr>\n",
       "    <tr>\n",
       "      <th>chingy featuring ludacris and snoop dogg</th>\n",
       "      <th>holidae in</th>\n",
       "      <td>[2003, 2004]</td>\n",
       "      <td>2</td>\n",
       "    </tr>\n",
       "    <tr>\n",
       "      <th>snap</th>\n",
       "      <th>rhythm is a dancer</th>\n",
       "      <td>[1992, 1993]</td>\n",
       "      <td>2</td>\n",
       "    </tr>\n",
       "    <tr>\n",
       "      <th>the band perry</th>\n",
       "      <th>if i die young</th>\n",
       "      <td>[2010, 2011]</td>\n",
       "      <td>2</td>\n",
       "    </tr>\n",
       "    <tr>\n",
       "      <th>katy perry</th>\n",
       "      <th>hot n cold</th>\n",
       "      <td>[2008, 2009]</td>\n",
       "      <td>2</td>\n",
       "    </tr>\n",
       "  </tbody>\n",
       "</table>\n",
       "</div>"
      ],
      "text/plain": [
       "                                                                     Year  \\\n",
       "Artist                                   Song                               \n",
       "psy                                      gangnam style       [2012, 2013]   \n",
       "chingy featuring ludacris and snoop dogg holidae in          [2003, 2004]   \n",
       "snap                                     rhythm is a dancer  [1992, 1993]   \n",
       "the band perry                           if i die young      [2010, 2011]   \n",
       "katy perry                               hot n cold          [2008, 2009]   \n",
       "\n",
       "                                                             Count  \n",
       "Artist                                   Song                       \n",
       "psy                                      gangnam style           2  \n",
       "chingy featuring ludacris and snoop dogg holidae in              2  \n",
       "snap                                     rhythm is a dancer      2  \n",
       "the band perry                           if i die young          2  \n",
       "katy perry                               hot n cold              2  "
      ]
     },
     "execution_count": 46,
     "metadata": {},
     "output_type": "execute_result"
    }
   ],
   "source": [
    "df_count = df.groupby([\"Artist\", \"Song\"]).Year.agg(list).to_frame()\n",
    "df_count[\"Count\"] = df_count.Year.apply(len)\n",
    "df_count = df_count.sort_values(\"Count\", ascending = False)\n",
    "df_count.head()"
   ]
  },
  {
   "cell_type": "code",
   "execution_count": 47,
   "metadata": {},
   "outputs": [
    {
     "data": {
      "image/png": "[encoded data removed]",
      "text/plain": [
       "<Figure size 432x288 with 1 Axes>"
      ]
     },
     "metadata": {},
     "output_type": "display_data"
    }
   ],
   "source": [
    "plt.pie(df_count[\"Count\"].value_counts(), labels = [1, 2], autopct='%1.1f%%')\n",
    "plt.show()"
   ]
  },
  {
   "cell_type": "markdown",
   "metadata": {},
   "source": [
    "## Number of songs in top 100 per artist (if a song is twice, is counted twice)"
   ]
  },
  {
   "cell_type": "code",
   "execution_count": 15,
   "metadata": {
    "scrolled": false
   },
   "outputs": [
    {
     "data": {
      "text/plain": [
       "count    2473.000000\n",
       "mean        2.062273\n",
       "std         2.475152\n",
       "min         1.000000\n",
       "25%         1.000000\n",
       "50%         1.000000\n",
       "75%         2.000000\n",
       "max        35.000000\n",
       "Name: Artist, dtype: float64"
      ]
     },
     "execution_count": 15,
     "metadata": {},
     "output_type": "execute_result"
    }
   ],
   "source": [
    "df.Artist.value_counts().describe()"
   ]
  },
  {
   "cell_type": "code",
   "execution_count": 16,
   "metadata": {},
   "outputs": [],
   "source": [
    "df_songCounts = df.groupby(\"Artist\").Song.count()\n",
    "df_rndArtist = df_songCounts.to_frame().reset_index().groupby(\"Song\").agg(list)\n",
    "df_rndArtist[\"Artist\"] = df_rndArtist[\"Artist\"].apply(lambda a : np.random.choice(a, 1)[0])\n",
    "\n",
    "df_labels = pd.DataFrame(range(1, df_songCounts.max() + 1), columns = [\"Song\"])\n",
    "df_labels[\"Artist\"] = \"\"\n",
    "df_labels = df_labels.set_index(\"Song\")\n",
    "df_labels.update(df_rndArtist)"
   ]
  },
  {
   "cell_type": "code",
   "execution_count": 17,
   "metadata": {
    "scrolled": true
   },
   "outputs": [
    {
     "data": {
      "image/png": "[encoded data removed]",
      "text/plain": [
       "<Figure size 864x576 with 1 Axes>"
      ]
     },
     "metadata": {
      "needs_background": "light"
     },
     "output_type": "display_data"
    }
   ],
   "source": [
    "bins = range(1, df_songCounts.max() + 1)\n",
    "plt.figure(figsize=(12,8))\n",
    "plt.hist(df_songCounts, bins = bins)\n",
    "plt.xticks(bins, df_labels[\"Artist\"], rotation='vertical')\n",
    "plt.yscale(\"log\")\n",
    "plt.title(\"Number of times appearing in Top-100 per Artist, with randomly selected artist per bin\")\n",
    "plt.show()"
   ]
  },
  {
   "cell_type": "markdown",
   "metadata": {},
   "source": [
    "### Clusterisation of texts"
   ]
  },
  {
   "cell_type": "code",
   "execution_count": 25,
   "metadata": {},
   "outputs": [],
   "source": [
    "from nltk import pos_tag, sent_tokenize, wordpunct_tokenize\n",
    "from nltk.corpus import wordnet as wn\n",
    "from nltk.corpus import stopwords \n",
    "from nltk.tokenize import word_tokenize \n",
    "from nltk.stem.wordnet import WordNetLemmatizer\n",
    "\n",
    "lemmatizer = WordNetLemmatizer()\n",
    "stop_words = set(stopwords.words('english')) \n",
    "\n",
    "def lemmatize(token, pos_tag):\n",
    "    tag = {\n",
    "        'N': wn.NOUN,\n",
    "        'V': wn.VERB,\n",
    "        'R': wn.ADV,\n",
    "        'J': wn.ADJ\n",
    "    }.get(pos_tag[0], wn.NOUN)\n",
    "    return lemmatizer.lemmatize(token, tag)\n",
    "\n",
    "def preprocess_lyrics(lyrics):\n",
    "    tagged_tokens = pos_tag(wordpunct_tokenize(lyrics))\n",
    "    preprocessed = [lemmatize(token, tag) for (token, tag) in tagged_tokens if not token in stop_words]\n",
    "    return \" \".join(preprocessed)"
   ]
  },
  {
   "cell_type": "code",
   "execution_count": 26,
   "metadata": {},
   "outputs": [],
   "source": [
    "preprocessed_lyrics = df.Lyrics.fillna(\"\").apply(preprocess_lyrics)"
   ]
  },
  {
   "cell_type": "code",
   "execution_count": 27,
   "metadata": {},
   "outputs": [],
   "source": [
    "# Initialise the count vectorizer with the English stop words\n",
    "count_vectorizer = CountVectorizer(stop_words='english', preprocessor = None)\n",
    "# Fit and transform the processed titles\n",
    "count_data = count_vectorizer.fit_transform(preprocessed_lyrics)"
   ]
  },
  {
   "cell_type": "code",
   "execution_count": 38,
   "metadata": {},
   "outputs": [
    {
     "name": "stdout",
     "output_type": "stream",
     "text": [
      "Topics found via LDA:\n",
      "\n",
      "Topic #0:\n",
      "la na say come\n",
      "\n",
      "Topic #1:\n",
      "love im know dont\n"
     ]
    }
   ],
   "source": [
    "def print_topics(model, count_vectorizer, n_top_words):\n",
    "    words = count_vectorizer.get_feature_names()\n",
    "    for topic_idx, topic in enumerate(model.components_):\n",
    "        print(\"\\nTopic #%d:\" % topic_idx)\n",
    "        print(\" \".join([words[i]\n",
    "                        for i in topic.argsort()[:-n_top_words - 1:-1]]))\n",
    "        \n",
    "# Tweak the two parameters below\n",
    "number_topics = 2\n",
    "number_words = 4\n",
    "# Create and fit the LDA model\n",
    "lda = LDA(n_components=number_topics, n_jobs=-1)\n",
    "lda.fit(count_data)\n",
    "# Print the topics found by the LDA model\n",
    "print(\"Topics found via LDA:\")\n",
    "print_topics(lda, count_vectorizer, number_words)"
   ]
  },
  {
   "cell_type": "code",
   "execution_count": 39,
   "metadata": {},
   "outputs": [],
   "source": [
    "vectors_10 = lda.transform(count_data)"
   ]
  },
  {
   "cell_type": "code",
   "execution_count": 40,
   "metadata": {},
   "outputs": [
    {
     "data": {
      "image/png": "[encoded data removed]",
      "text/plain": [
       "<Figure size 432x288 with 1 Axes>"
      ]
     },
     "metadata": {
      "needs_background": "light"
     },
     "output_type": "display_data"
    }
   ],
   "source": [
    "plt.scatter(vectors_10[:100, 0], vectors_10[:100, 1], color = \"red\")\n",
    "plt.scatter(vectors_10[5000:, 0], vectors_10[5000:, 1], color = \"blue\")\n",
    "\n",
    "plt.show()"
   ]
  },
  {
   "cell_type": "code",
   "execution_count": 30,
   "metadata": {},
   "outputs": [],
   "source": [
    "from sklearn.decomposition import TruncatedSVD\n",
    "\n",
    "svd = TruncatedSVD(2)\n",
    "vectors_2 = svd.fit_transform(vectors_10)"
   ]
  },
  {
   "cell_type": "code",
   "execution_count": 37,
   "metadata": {},
   "outputs": [
    {
     "data": {
      "image/png": "[encoded data removed]",
      "text/plain": [
       "<Figure size 432x288 with 1 Axes>"
      ]
     },
     "metadata": {
      "needs_background": "light"
     },
     "output_type": "display_data"
    }
   ],
   "source": [
    "plt.scatter(vectors_2[:100, 0], vectors_2[:100, 1], color = \"red\")\n",
    "plt.scatter(vectors_2[5000:, 0], vectors_2[5000:, 1], color = \"blue\")\n",
    "\n",
    "plt.show()"
   ]
  },
  {
   "cell_type": "markdown",
   "metadata": {},
   "source": [
    "## Using Doc2Vec"
   ]
  },
  {
   "cell_type": "code",
   "execution_count": 41,
   "metadata": {},
   "outputs": [],
   "source": [
    "from gensim.models.doc2vec import Doc2Vec, TaggedDocument\n",
    "\n",
    "documents = [TaggedDocument(doc.split(\" \"), [i]) for i, doc in enumerate(df.Lyrics.fillna(\"\"))]\n",
    "model = Doc2Vec(documents, vector_size=300, window=4, min_count=1, workers=4, epochs = 10, dbow_words = 1)"
   ]
  },
  {
   "cell_type": "code",
   "execution_count": 42,
   "metadata": {},
   "outputs": [
    {
     "data": {
      "text/plain": [
       "TaggedDocument(words=['', '', ''], tags=[2219])"
      ]
     },
     "execution_count": 42,
     "metadata": {},
     "output_type": "execute_result"
    }
   ],
   "source": [
    "sentence = \"I cant get no satisfaction\"\n",
    "vector = model.infer_vector(sentence.split(\" \"))\n",
    "documents[model.docvecs.most_similar([vector])[1][0]]"
   ]
  },
  {
   "cell_type": "code",
   "execution_count": 96,
   "metadata": {},
   "outputs": [
    {
     "data": {
      "text/plain": [
       "TaggedDocument(words=' you know i like my chicken fried cold beer on a friday night a pair of jeans that fit just right and the radio upwell i was raised up beneath the shade of a georgia pine and thats home you know with sweet tea pecan pie and homemade wine where the peaches grow and my house its not much to talk about but its filled with love thats grown in southern ground and a little bit of chicken friedcold beer on a friday night a pair of jeans that fit just right and the radio up well ive seen the sunrise see the love in my womans eyes feel the touch of a precious child and know a mothers loveand its funny how its the little things in life that mean the most not where you live what you drive or the price tag on your clothes theres no dollar sign on a piece of mind this ive come to know so if you agree have a drink with me raise your glasses for a toast to a little bit of chicken friedcold beer on a friday night a pair of jeans that fit just right and the radio up well ive seen the sunrise see the love in my womans eyes feel the touch of a precious child and know a mothers lovei thank god for my life and for the stars and stripes may freedom forever fly let it ring salute the ones who died and the ones that gave their lives so we dont have to sacrifice all the things we love like our chicken friedcold beer on a friday night a pair of jeans that fit just right and the radio up well ive seen the sunrise see the love in my womans eyes feel the touch of a precious child and know a mothers loveyou know i like my chicken fried cold beer on a friday night a pair of jeans that fit just right and the radio up well ive seen the sunrise see the love in my womans eyes feel the touch of a precious child and know a mothers love ', tags=[4480])"
      ]
     },
     "execution_count": 96,
     "metadata": {},
     "output_type": "execute_result"
    }
   ],
   "source": [
    "6\n",
    "54documents[4480]"
   ]
  },
  {
   "cell_type": "code",
   "execution_count": 55,
   "metadata": {},
   "outputs": [],
   "source": [
    "from sklearn.decomposition import TruncatedSVD\n",
    "\n",
    "svd = TruncatedSVD(2)\n",
    "vectors_2 = svd.fit_transform(model.docvecs.vectors_docs)"
   ]
  },
  {
   "cell_type": "code",
   "execution_count": 56,
   "metadata": {},
   "outputs": [
    {
     "data": {
      "image/png": "[encoded data removed]",
      "text/plain": [
       "<Figure size 432x288 with 1 Axes>"
      ]
     },
     "metadata": {
      "needs_background": "light"
     },
     "output_type": "display_data"
    }
   ],
   "source": [
    "plt.scatter(vectors_2[:100, 0], vectors_2[:100, 1], color = \"red\")\n",
    "plt.scatter(vectors_2[5000:, 0], vectors_2[5000:, 1], color = \"blue\")\n",
    "\n",
    "plt.show()"
   ]
  },
  {
   "cell_type": "markdown",
   "metadata": {},
   "source": [
    "## TODO : explore with same vocabulary basis per decade"
   ]
  }
 ],
 "metadata": {
  "kernelspec": {
   "display_name": "Python 3",
   "language": "python",
   "name": "python3"
  },
  "language_info": {
   "codemirror_mode": {
    "name": "ipython",
    "version": 3
   },
   "file_extension": ".py",
   "mimetype": "text/x-python",
   "name": "python",
   "nbconvert_exporter": "python",
   "pygments_lexer": "ipython3",
   "version": "3.7.7"
  }
 },
 "nbformat": 4,
 "nbformat_minor": 2
}
